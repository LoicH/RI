{
 "cells": [
  {
   "cell_type": "markdown",
   "metadata": {},
   "source": [
    "# 3rd part: Image and texts, with EasyCLEF"
   ]
  },
  {
   "cell_type": "code",
   "execution_count": 8,
   "metadata": {
    "collapsed": false,
    "scrolled": false
   },
   "outputs": [
    {
     "name": "stdout",
     "output_type": "stream",
     "text": [
      "The autoreload extension is already loaded. To reload it, use:\n",
      "  %reload_ext autoreload\n",
      "First doc:\n",
      "id=bla\n",
      "txt=.I 28\n",
      ".T Statue of the Cristo de la Concordia\n",
      ".B February 2002\n",
      ".W Cochabamba, Bolivia; a white, large statue with spread arms on a hill; picture taken from behind; bushes and small trees on the hill; street leading up the hill; there are white clouds in the blue sky; People in Cochabamba are proud that their Christ Statue is larger than its counterpart in Rio de Janeiro. In fact, it is the largest Christ Statue in the world!\n",
      "\n",
      "\n",
      "others={'from': '/users/nfs/Etu7/3774877/git-DAC/RI/1-text/easyCLEF08/easyCLEF08_text.txt;0;430'}\n",
      "Second doc:\n",
      "id=bla\n",
      "txt=.I 661\n",
      ".T Social Work in Arequipa\n",
      ".B April 2002\n",
      ".W Arequipa, Peru; two men are standing on a lawn in front of a light brown house with blue corners; two volunteers helping with the construction of a school in Arequipa;\n",
      "\n",
      "\n",
      "others={'from': '/users/nfs/Etu7/3774877/git-DAC/RI/1-text/easyCLEF08/easyCLEF08_text.txt;430;220'}\n"
     ]
    }
   ],
   "source": [
    "import os\n",
    "import ParserEasyClef\n",
    "import ParserCACM\n",
    "# Auto reload the imported modules when running cells\n",
    "%load_ext autoreload \n",
    "%autoreload 2\n",
    "\n",
    "# Constants:\n",
    "srcFolder = \"easyCLEF08/\" \n",
    "srcFile = \"easyCLEF08_text.txt\"\n",
    "\n",
    "easyClef_txt = os.path.join(srcFolder, srcFile)\n",
    "parser = ParserEasyClef.ParserEasyClef(easyClef_txt)\n",
    "#parser = ParserCACM.ParserCACM()\n",
    "#parser.initFile(easyClef_txt)\n",
    "print(\"First doc:\")\n",
    "print(parser.nextDocument())\n",
    "print(\"Second doc:\")\n",
    "print(parser.nextDocument())"
   ]
  }
 ],
 "metadata": {
  "kernelspec": {
   "display_name": "Python 3",
   "language": "python",
   "name": "python3"
  },
  "language_info": {
   "codemirror_mode": {
    "name": "ipython",
    "version": 3
   },
   "file_extension": ".py",
   "mimetype": "text/x-python",
   "name": "python",
   "nbconvert_exporter": "python",
   "pygments_lexer": "ipython3",
   "version": "3.4.2"
  }
 },
 "nbformat": 4,
 "nbformat_minor": 1
}
