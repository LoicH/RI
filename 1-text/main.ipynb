{
 "cells": [
  {
   "cell_type": "markdown",
   "metadata": {
    "deletable": true,
    "editable": true
   },
   "source": [
    "# Information Retrieval"
   ]
  },
  {
   "cell_type": "code",
   "execution_count": 1,
   "metadata": {
    "collapsed": false,
    "deletable": true,
    "editable": true
   },
   "outputs": [],
   "source": [
    "import ParserCACM\n",
    "import TextRepresenter\n",
    "import indexation\n",
    "import modeles\n",
    "from query import QueryParserCACM\n",
    "import evaluation\n",
    "import os\n",
    "import matplotlib.pyplot as plt\n",
    "%matplotlib inline\n",
    "import numpy as np\n",
    "import operator\n",
    "# Auto reload the imported modules when running cells\n",
    "%load_ext autoreload \n",
    "%autoreload 2\n",
    "\n",
    "\"\"\" Some info to remember when testing:\n",
    "- Query 10 is about parallel computation\n",
    "- Doc 46 is about parallelism too\n",
    "\"\"\"\n",
    "\n",
    "# Constants:\n",
    "srcFolder = \"cacm/\" \n",
    "srcFile = \"cacm.txt\"\n",
    "qryFile = \"cacm.qry\"\n",
    "relFile = \"cacm.rel\"\n",
    "gendata = \"gendata\" #output folder\n",
    "indexName = \"cacm\"\n",
    "\n",
    "cacm_txt = os.path.join(srcFolder, srcFile)\n",
    "cacm_qry = os.path.join(srcFolder, qryFile)\n",
    "cacm_rel = os.path.join(srcFolder, relFile)"
   ]
  },
  {
   "cell_type": "markdown",
   "metadata": {
    "deletable": true,
    "editable": true
   },
   "source": [
    "##  Indexing:"
   ]
  },
  {
   "cell_type": "code",
   "execution_count": 4,
   "metadata": {
    "collapsed": false,
    "deletable": true,
    "editable": true
   },
   "outputs": [
    {
     "name": "stdout",
     "output_type": "stream",
     "text": [
      "Performing the indexation...\n",
      "1st pass: build the index...\n",
      "2nd pass: build the inverted index...\n",
      "Finished.\n",
      "Successfully indexed 3204 documents\n"
     ]
    }
   ],
   "source": [
    "# Construct the index:\n",
    "idx = indexation.Index(indexName, gendata)\n",
    "stemmer = TextRepresenter.PorterStemmer()\n",
    "parser = ParserCACM.ParserCACM()\n",
    "idx.indexation(cacm_txt, parser, stemmer, verbose=True)\n",
    "N_docs = len(idx.getDocsID())\n",
    "print(\"Successfully indexed %d documents\" % N_docs)"
   ]
  },
  {
   "cell_type": "markdown",
   "metadata": {
    "deletable": true,
    "editable": true
   },
   "source": [
    "## Testing precision/recall measure:\n"
   ]
  },
  {
   "cell_type": "code",
   "execution_count": 5,
   "metadata": {
    "collapsed": false,
    "deletable": true,
    "editable": true,
    "scrolled": false
   },
   "outputs": [
    {
     "name": "stdout",
     "output_type": "stream",
     "text": [
      "\n",
      "###### Testing evaluation.PrecisionRecallMeasure: ###### \n",
      "Searching for query # [7, 29, 30]\n",
      "\n",
      "Query: Query {id=7, txt='I am interested in distributed algorithms - concurrent programs in\n",
      "which processes communicate and synchronize by using message passing.\n",
      "Areas of particular interest include fault-tolerance and techniques\n",
      "for understanding the correctness of these algorithms.\n",
      "', relevances=[1198, 1338, 1877, 1960, 2150, 2228, 2256, 2280, 2320, 2342, 2376, 2482, 2578, 2597, 2618, 2685, 2700, 2777, 2865, 2866, 2895, 2912, 2941, 3043, 3082, 3128, 3141, 3148]}\n",
      "Retrieve scores...\n",
      "This query has 28 relevant results\n",
      "   i |found| precision | recall\n",
      "    2|   1 | 0.500000  |0.035714\n",
      "    4|   2 | 0.500000  |0.071429\n",
      "   14|   3 | 0.214286  |0.107143\n",
      "   15|   4 | 0.266667  |0.142857\n",
      "   23|   5 | 0.217391  |0.178571\n",
      "   25|   6 | 0.240000  |0.214286\n",
      "   36|   7 | 0.194444  |0.250000\n",
      "   43|   8 | 0.186047  |0.285714\n",
      "   44|   9 | 0.204545  |0.321429\n",
      "  127|  10 | 0.078740  |0.357143\n",
      "  135|  11 | 0.081481  |0.392857\n",
      "  198|  12 | 0.060606  |0.428571\n",
      "  276|  13 | 0.047101  |0.464286\n",
      "  320|  14 | 0.043750  |0.500000\n",
      "  321|  15 | 0.046729  |0.535714\n",
      "  336|  16 | 0.047619  |0.571429\n",
      "  367|  17 | 0.046322  |0.607143\n",
      "  372|  18 | 0.048387  |0.642857\n",
      "  539|  19 | 0.035250  |0.678571\n",
      "  592|  20 | 0.033784  |0.714286\n",
      "  727|  21 | 0.028886  |0.750000\n",
      "  866|  22 | 0.025404  |0.785714\n",
      " 1065|  23 | 0.021596  |0.821429\n",
      " 1083|  24 | 0.022161  |0.857143\n",
      " 1113|  25 | 0.022462  |0.892857\n",
      " 2074|  26 | 0.012536  |0.928571\n",
      " 2382|  27 | 0.011335  |0.964286\n",
      " 2723|  28 | 0.010283  |1.000000\n"
     ]
    },
    {
     "data": {
      "image/png": "[encoded data removed]",
      "text/plain": [
       "<matplotlib.figure.Figure at 0x7f78244d27f0>"
      ]
     },
     "metadata": {},
     "output_type": "display_data"
    },
    {
     "name": "stdout",
     "output_type": "stream",
     "text": [
      "--------------------\n",
      "\n",
      "Query: Query {id=29, txt='Number-theoretic algorithms, especially involving prime number series,\n",
      "sieves, and Chinese Remainder theorem.\n",
      "', relevances=[377, 513, 610, 935, 1094, 1420, 1537, 1538, 1539, 1840, 1841, 1967, 2028, 2089, 2120, 2462, 2927, 2932, 3037]}\n",
      "Retrieve scores...\n",
      "This query has 19 relevant results\n",
      "   i |found| precision | recall\n",
      "    2|   1 | 0.500000  |0.052632\n",
      "    4|   2 | 0.500000  |0.105263\n",
      "   22|   3 | 0.136364  |0.157895\n",
      "   25|   4 | 0.160000  |0.210526\n",
      "   26|   5 | 0.192308  |0.263158\n",
      "   27|   6 | 0.222222  |0.315789\n",
      "   34|   7 | 0.205882  |0.368421\n",
      "   38|   8 | 0.210526  |0.421053\n",
      "   41|   9 | 0.219512  |0.473684\n",
      "  123|  10 | 0.081301  |0.526316\n",
      "  126|  11 | 0.087302  |0.578947\n",
      "  127|  12 | 0.094488  |0.631579\n",
      "  137|  13 | 0.094891  |0.684211\n",
      "  138|  14 | 0.101449  |0.736842\n",
      "  139|  15 | 0.107914  |0.789474\n",
      "  212|  16 | 0.075472  |0.842105\n",
      "  213|  17 | 0.079812  |0.894737\n",
      "  242|  18 | 0.074380  |0.947368\n",
      "  382|  19 | 0.049738  |1.000000\n"
     ]
    },
    {
     "data": {
      "image/png": "[encoded data removed]",
      "text/plain": [
       "<matplotlib.figure.Figure at 0x7f7824079550>"
      ]
     },
     "metadata": {},
     "output_type": "display_data"
    },
    {
     "name": "stdout",
     "output_type": "stream",
     "text": [
      "--------------------\n",
      "\n",
      "Query: Query {id=30, txt='Articles on text formatting systems, including \"what you see is what you\n",
      "get\" systems.  Examples: t/nroff, scribe, bravo.\n",
      "', relevances=[1926, 2486, 2786, 2917]}\n",
      "Retrieve scores...\n",
      "This query has 4 relevant results\n",
      "   i |found| precision | recall\n",
      "    3|   1 | 0.333333  |0.250000\n",
      "    4|   2 | 0.500000  |0.500000\n",
      "   37|   3 | 0.081081  |0.750000\n",
      "  312|   4 | 0.012821  |1.000000\n"
     ]
    },
    {
     "data": {
      "image/png": "[encoded data removed]",
      "text/plain": [
       "<matplotlib.figure.Figure at 0x7f7823fb2358>"
      ]
     },
     "metadata": {},
     "output_type": "display_data"
    },
    {
     "name": "stdout",
     "output_type": "stream",
     "text": [
      "--------------------\n",
      "Done.\n"
     ]
    }
   ],
   "source": [
    "binWeighter = modeles.BinaryWeighter(idx)\n",
    "tfidfWeighter = modeles.TfidfWeighter(idx)\n",
    "vect = modeles.Vectoriel(idx, tfidfWeighter)\n",
    "\n",
    "print(\"\\n###### Testing evaluation.PrecisionRecallMeasure: ###### \")\n",
    "queryChosen = [7, 29, 30]\n",
    "qp = QueryParserCACM(cacm_qry, cacm_rel)\n",
    "query = qp.nextQuery()\n",
    "print(\"Searching for query #\", queryChosen)\n",
    "while query is not None :\n",
    "    if int(query.getID()) in queryChosen:\n",
    "        print(\"\\nQuery:\", query)\n",
    "        queryTxt = stemmer.getTextRepresentation(query.getText())\n",
    "        print(\"Retrieve scores...\")\n",
    "        ranking = vect.getRanking(queryTxt)\n",
    "        irlist = evaluation.IRList(query, ranking)\n",
    "        precisRecall = evaluation.PrecisionRecallMeasure(irlist)\n",
    "        pr = precisRecall.eval(verbose=True, nbLevel=100) # (recall, precision)\n",
    "        precision = [p for r,p in pr]\n",
    "        recall = [r for r,p in pr]\n",
    "        plt.plot(recall, precision)\n",
    "        plt.title(\"Precision-Recall for query #\"+query.getID())\n",
    "        plt.show()\n",
    "        print(20*'-')\n",
    "\n",
    "\n",
    "    query = qp.nextQuery()\n",
    "print(\"Done.\")\n"
   ]
  },
  {
   "cell_type": "markdown",
   "metadata": {
    "deletable": true,
    "editable": true
   },
   "source": [
    "## Testing average precision:"
   ]
  },
  {
   "cell_type": "code",
   "execution_count": 6,
   "metadata": {
    "collapsed": false,
    "deletable": true,
    "editable": true,
    "scrolled": false
   },
   "outputs": [
    {
     "name": "stdout",
     "output_type": "stream",
     "text": [
      "\n",
      "###### Testing evaluation.AveragePrecision: ###### \n",
      "Searching for query # [9, 10, 14, 29] \n",
      "\n",
      "Query: Query {id=9, txt='Security considerations in local networks, network operating systems,\n",
      "and distributed systems.\n",
      "', relevances=[2372, 2632, 2870, 2876, 3068, 3111, 3128, 3158, 3177]}\n",
      "Retrieve scores...\n",
      "Evaluate the scores.\n",
      "This query has 9 relevant results\n",
      "   i |found| precision\n",
      "    1|   1 | 1.000000\n",
      "    3|   2 | 0.666667\n",
      "    8|   3 | 0.375000\n",
      "   10|   4 | 0.400000\n",
      "   12|   5 | 0.416667\n",
      "   33|   6 | 0.181818\n",
      "   62|   7 | 0.112903\n",
      "  114|   8 | 0.070175\n",
      "  169|   9 | 0.053254\n",
      "Average precision: 0.364054\n",
      "--------------------\n",
      "Query: Query {id=10, txt='Parallel languages; languages for parallel computation\n",
      "', relevances=[46, 141, 392, 950, 1158, 1198, 1262, 1380, 1471, 1601, 1613, 1747, 1795, 1811, 2060, 2150, 2256, 2289, 2342, 2376, 2433, 2618, 2664, 2685, 2700, 2714, 2777, 2785, 2851, 2895, 2896, 2912, 3039, 3075, 3156]}\n",
      "Retrieve scores...\n",
      "Evaluate the scores.\n",
      "This query has 35 relevant results\n",
      "   i |found| precision\n",
      "    1|   1 | 1.000000\n",
      "    3|   2 | 0.666667\n",
      "    4|   3 | 0.750000\n",
      "    7|   4 | 0.571429\n",
      "    9|   5 | 0.555556\n",
      "   11|   6 | 0.545455\n",
      "   12|   7 | 0.583333\n",
      "   21|   8 | 0.380952\n",
      "   22|   9 | 0.409091\n",
      "   26|  10 | 0.384615\n",
      "   35|  11 | 0.314286\n",
      "   40|  12 | 0.300000\n",
      "   42|  13 | 0.309524\n",
      "   43|  14 | 0.325581\n",
      "   45|  15 | 0.333333\n",
      "   47|  16 | 0.340426\n",
      "   48|  17 | 0.354167\n",
      "   58|  18 | 0.310345\n",
      "   70|  19 | 0.271429\n",
      "  101|  20 | 0.198020\n",
      "  102|  21 | 0.205882\n",
      "  125|  22 | 0.176000\n",
      "  145|  23 | 0.158621\n",
      "  202|  24 | 0.118812\n",
      "  352|  25 | 0.071023\n",
      "  518|  26 | 0.050193\n",
      "  531|  27 | 0.050847\n",
      "  532|  28 | 0.052632\n",
      " 1144|  29 | 0.025350\n",
      " 1329|  30 | 0.022573\n",
      " 1853|  31 | 0.016730\n",
      " 2009|  32 | 0.015928\n",
      " 2427|  33 | 0.013597\n",
      " 2561|  34 | 0.013276\n",
      " 2875|  35 | 0.012174\n",
      "Average precision: 0.283081\n",
      "--------------------\n",
      "Query: Query {id=14, txt='find all discussions of optimal implementations of sort algorithms for\n",
      "database management applications\n",
      "', relevances=[74, 117, 232, 776, 827, 850, 851, 852, 854, 855, 856, 857, 858, 860, 861, 862, 864, 865, 866, 1175, 1724, 1919, 1956, 1969, 1980, 1997, 2017, 2041, 2108, 2118, 2146, 2176, 2191, 2272, 2337, 2348, 2397, 2563, 2664, 2679, 2714, 2716, 3075, 3187]}\n",
      "Retrieve scores...\n",
      "Evaluate the scores.\n",
      "This query has 44 relevant results\n",
      "   i |found| precision\n",
      "    3|   1 | 0.333333\n",
      "    4|   2 | 0.500000\n",
      "    8|   3 | 0.375000\n",
      "   10|   4 | 0.400000\n",
      "   12|   5 | 0.416667\n",
      "   13|   6 | 0.461538\n",
      "   18|   7 | 0.388889\n",
      "   19|   8 | 0.421053\n",
      "   22|   9 | 0.409091\n",
      "   27|  10 | 0.370370\n",
      "   31|  11 | 0.354839\n",
      "   35|  12 | 0.342857\n",
      "   36|  13 | 0.361111\n",
      "   53|  14 | 0.264151\n",
      "   55|  15 | 0.272727\n",
      "   56|  16 | 0.285714\n",
      "   60|  17 | 0.283333\n",
      "   61|  18 | 0.295082\n",
      "   62|  19 | 0.306452\n",
      "   74|  20 | 0.270270\n",
      "  101|  21 | 0.207921\n",
      "  116|  22 | 0.189655\n",
      "  117|  23 | 0.196581\n",
      "  182|  24 | 0.131868\n",
      "  183|  25 | 0.136612\n",
      "  204|  26 | 0.127451\n",
      "  275|  27 | 0.098182\n",
      "  276|  28 | 0.101449\n",
      "  347|  29 | 0.083573\n",
      "  394|  30 | 0.076142\n",
      "  511|  31 | 0.060665\n",
      "  513|  32 | 0.062378\n",
      "  526|  33 | 0.062738\n",
      "  551|  34 | 0.061706\n",
      "  583|  35 | 0.060034\n",
      "  585|  36 | 0.061538\n",
      "  586|  37 | 0.063140\n",
      "  588|  38 | 0.064626\n",
      "  589|  39 | 0.066214\n",
      "  590|  40 | 0.067797\n",
      "  591|  41 | 0.069374\n",
      "  595|  42 | 0.070588\n",
      "  597|  43 | 0.072027\n",
      " 1405|  44 | 0.031317\n",
      "Average precision: 0.212183\n",
      "--------------------\n",
      "Query: Query {id=29, txt='Number-theoretic algorithms, especially involving prime number series,\n",
      "sieves, and Chinese Remainder theorem.\n",
      "', relevances=[377, 513, 610, 935, 1094, 1420, 1537, 1538, 1539, 1840, 1841, 1967, 2028, 2089, 2120, 2462, 2927, 2932, 3037]}\n",
      "Retrieve scores...\n",
      "Evaluate the scores.\n",
      "This query has 19 relevant results\n",
      "   i |found| precision\n",
      "    2|   1 | 0.500000\n",
      "    4|   2 | 0.500000\n",
      "   22|   3 | 0.136364\n",
      "   25|   4 | 0.160000\n",
      "   26|   5 | 0.192308\n",
      "   27|   6 | 0.222222\n",
      "   34|   7 | 0.205882\n",
      "   38|   8 | 0.210526\n",
      "   41|   9 | 0.219512\n",
      "  123|  10 | 0.081301\n",
      "  126|  11 | 0.087302\n",
      "  127|  12 | 0.094488\n",
      "  137|  13 | 0.094891\n",
      "  138|  14 | 0.101449\n",
      "  139|  15 | 0.107914\n",
      "  212|  16 | 0.075472\n",
      "  213|  17 | 0.079812\n",
      "  242|  18 | 0.074380\n",
      "  382|  19 | 0.049738\n",
      "Average precision: 0.168082\n",
      "--------------------\n"
     ]
    }
   ],
   "source": [
    "print(\"\\n###### Testing evaluation.AveragePrecision: ###### \")\n",
    "queryChosen =[9, 10, 14, 29]#, 25, 26, 27, 42, 43] # lots of relevant results\n",
    "qp = QueryParserCACM(cacm_qry, cacm_rel)\n",
    "query = qp.nextQuery()\n",
    "print(\"Searching for query #\",queryChosen, \"\\n\")\n",
    "while query is not None :\n",
    "    if int(query.getID()) in queryChosen:\n",
    "        print(\"Query:\", query)\n",
    "        queryTxt = stemmer.getTextRepresentation(query.getText())\n",
    "        print(\"Retrieve scores...\")\n",
    "        scores = vect.getRanking(queryTxt)\n",
    "        irlist = evaluation.IRList(query, scores)\n",
    "        average_measure = evaluation.AveragePrecision(irlist)\n",
    "        print(\"Evaluate the scores.\")\n",
    "        average_prec = average_measure.eval(verbose=True)\n",
    "        print(\"Average precision: %f\" % average_prec)\n",
    "        print(20*'-')\n",
    "\n",
    "    query = qp.nextQuery()\n"
   ]
  },
  {
   "cell_type": "markdown",
   "metadata": {
    "deletable": true,
    "editable": true
   },
   "source": [
    "## Testing EvalIRModel:"
   ]
  },
  {
   "cell_type": "code",
   "execution_count": 7,
   "metadata": {
    "collapsed": false,
    "deletable": true,
    "editable": true,
    "scrolled": true
   },
   "outputs": [
    {
     "name": "stdout",
     "output_type": "stream",
     "text": [
      "\n",
      "###### Testing evaluation.EvalIRModel: ###### \n",
      "Searching for queries # [38 44 59  3 26  8 14 11 56 38] ...\n",
      "Found queries\n",
      "Calling eval()...\n",
      "{('vectoriel_bw', 'averagePrecision'): (0.19078914857471294, 0.16158531936879822), ('vectoriel_tfidf', 'averagePrecision'): (0.25421049762565728, 0.16559802001058002)}\n",
      "Done.\n"
     ]
    }
   ],
   "source": [
    "print(\"\\n###### Testing evaluation.EvalIRModel: ###### \")\n",
    "queryChosen = np.random.randint(1, 64, size=10)\n",
    "#queryChosen =[7, 10, 14]#, 25, 26, 27, 42, 43] # lots of relevant results\n",
    "queries = []\n",
    "qp = QueryParserCACM(cacm_qry, cacm_rel)\n",
    "query = qp.nextQuery()\n",
    "print(\"Searching for queries #\",queryChosen, \"...\")\n",
    "while query is not None :\n",
    "    if int(query.getID()) in queryChosen:\n",
    "        queries.append(query)\n",
    "    query = qp.nextQuery()\n",
    "print(\"Found queries\")\n",
    "irmodels = {\"vectoriel_tfidf\": modeles.Vectoriel(idx, tfidfWeighter),\n",
    "            \"vectoriel_bw\": modeles.Vectoriel(idx, binWeighter)\n",
    "           }\n",
    "measures = {\"averagePrecision\": evaluation.AveragePrecision}\n",
    "eval_model = evaluation.EvalIRModel(queries, irmodels, measures)\n",
    "print(\"Calling eval()...\")\n",
    "print(eval_model.eval(verbose=False))\n",
    "print(\"Done.\")\n"
   ]
  },
  {
   "cell_type": "markdown",
   "metadata": {
    "collapsed": true,
    "deletable": true,
    "editable": true
   },
   "source": [
    "## Comparison of language models:"
   ]
  },
  {
   "cell_type": "code",
   "execution_count": 8,
   "metadata": {
    "collapsed": false,
    "deletable": true,
    "editable": true
   },
   "outputs": [
    {
     "name": "stdout",
     "output_type": "stream",
     "text": [
      "Searching for queries # [38 44 59  3 26  8 14 11 56 38] ...\n",
      "Found all queries\n",
      "Best unigram params: {'index': <indexation.Index object at 0x7f78244f8630>, 'regularization': 0.3684210526315789}\n"
     ]
    }
   ],
   "source": [
    "from sklearn.model_selection import train_test_split\n",
    "\n",
    "# Searching queries:\n",
    "queries = []\n",
    "qp = QueryParserCACM(cacm_qry, cacm_rel)\n",
    "query = qp.nextQuery()\n",
    "print(\"Searching for queries #\",queryChosen, \"...\")\n",
    "while query is not None :\n",
    "    if int(query.getID()) in queryChosen:\n",
    "        queries.append(query)\n",
    "    query = qp.nextQuery()\n",
    "print(\"Found all queries\")\n",
    "\n",
    "q_train, q_test = train_test_split(queries)\n",
    "\n",
    "# Train models, find best parameters.\n",
    "unigram_params_grid = {'index':[idx], 'regularization':np.linspace(0,1, 20, endpoint=False)}\n",
    "\n",
    "#c = dict_combinations(params_grid)\n",
    "#print(\"comb: \",c)\n",
    "\n",
    "best_unigram_params = {'index':idx, 'regularization':0.36842105263157893}\n",
    "#best_unigram_params = evaluation.gridsearch(modeles.UnigramLanguage, unigram_params_grid, \n",
    "#                 q_train, evaluation.AveragePrecision, verbose=1)\n",
    "print(\"Best unigram params:\", best_unigram_params)"
   ]
  },
  {
   "cell_type": "code",
   "execution_count": 9,
   "metadata": {
    "collapsed": false,
    "deletable": true,
    "editable": true,
    "scrolled": true
   },
   "outputs": [
    {
     "name": "stdout",
     "output_type": "stream",
     "text": [
      "Best okapi params: {'index': <indexation.Index object at 0x7f78244f8630>, 'k': 1.1111111111111112, 'b': 0.4444444444444444}\n"
     ]
    }
   ],
   "source": [
    "okapi_params_grid = {'index':[idx], 'k':np.linspace(1, 2, 10), 'b':np.linspace(0,2,10)}\n",
    "\n",
    "best_okapi_params = {'index':idx, 'k': 1.1111111111111112, 'b': 0.44444444444444442}\n",
    "#best_okapi_params = evaluation.gridsearch(modeles.Okapi, okapi_params_grid, \n",
    "#             q_train, evaluation.AveragePrecision, verbose=1)\n",
    "\n",
    "print(\"Best okapi params:\", best_okapi_params)"
   ]
  },
  {
   "cell_type": "markdown",
   "metadata": {
    "deletable": true,
    "editable": true
   },
   "source": [
    "### Execution on the test set:"
   ]
  },
  {
   "cell_type": "code",
   "execution_count": 10,
   "metadata": {
    "collapsed": false,
    "deletable": true,
    "editable": true
   },
   "outputs": [
    {
     "name": "stdout",
     "output_type": "stream",
     "text": [
      "best unigram params: {'index': <indexation.Index object at 0x7f78244f8630>, 'regularization': 0.3684210526315789}\n",
      "best okapi params: {'index': <indexation.Index object at 0x7f78244f8630>, 'k': 1.1111111111111112, 'b': 0.4444444444444444}\n",
      "IRModel: okapi\n",
      "Measure: measure\n",
      "(0.31792918023020861, 0.22842318366690459)\n",
      "IRModel: unigram\n",
      "Measure: measure\n",
      "(0.23472680754812444, 0.17110056532188564)\n",
      "{('unigram', 'measure'): (0.23472680754812444, 0.17110056532188564), ('okapi', 'measure'): (0.31792918023020861, 0.22842318366690459)}\n"
     ]
    }
   ],
   "source": [
    "print(\"best unigram params:\", best_unigram_params)\n",
    "print(\"best okapi params:\", best_okapi_params)\n",
    "\n",
    "irmodels = {'unigram':modeles.UnigramLanguage(**best_unigram_params),\n",
    "            'okapi':modeles.Okapi(**best_okapi_params)}\n",
    "\n",
    "eval_models = evaluation.EvalIRModel(q_test, irmodels, {'measure':evaluation.AveragePrecision})\n",
    "scores = eval_models.eval(verbose=True)\n",
    "print(scores)"
   ]
  },
  {
   "cell_type": "code",
   "execution_count": 11,
   "metadata": {
    "collapsed": false,
    "deletable": true,
    "editable": true
   },
   "outputs": [
    {
     "name": "stdout",
     "output_type": "stream",
     "text": [
      "\n",
      "###### Comparison of different models: ###### \n",
      "Searching for queries # [18 12 38 32  3 25 61 27 59 42 34  9 63 43  6 17 35 30 60  2] ...\n",
      "Found queries\n",
      "Calling eval()...\n",
      "{('vectoriel_bw', 'averagePrecision'): (0.14577125299104834, 0.12544956712619476), ('okapi', 'averagePrecision'): (0.30850784415358301, 0.18401051756910761), ('vectoriel_tfidf', 'averagePrecision'): (0.23385479231112102, 0.16046801339477315), ('unigram', 'averagePrecision'): (0.30068116520950039, 0.1916573856833447)}\n",
      "Done.\n"
     ]
    }
   ],
   "source": [
    "print(\"\\n###### Comparison of different models: ###### \")\n",
    "queryChosen = np.random.randint(1, 64, size=5)\n",
    "queries = []\n",
    "qp = QueryParserCACM(cacm_qry, cacm_rel)\n",
    "query = qp.nextQuery()\n",
    "print(\"Searching for queries #\",queryChosen, \"...\")\n",
    "while query is not None :\n",
    "    if int(query.getID()) in queryChosen:\n",
    "        queries.append(query)\n",
    "    query = qp.nextQuery()\n",
    "print(\"Found queries\")\n",
    "irmodels = {\"vectoriel_tfidf\": modeles.Vectoriel(idx, tfidfWeighter),\n",
    "            \"vectoriel_bw\": modeles.Vectoriel(idx, binWeighter),\n",
    "            'unigram':modeles.UnigramLanguage(**best_unigram_params),\n",
    "            'okapi':modeles.Okapi(**best_okapi_params)\n",
    "           }\n",
    "measures = {\"averagePrecision\": evaluation.AveragePrecision}\n",
    "eval_model = evaluation.EvalIRModel(queries, irmodels, measures)\n",
    "print(\"Calling eval()...\")\n",
    "print(eval_model.eval(verbose=False))\n",
    "print(\"Done.\")\n"
   ]
  },
  {
   "cell_type": "markdown",
   "metadata": {
    "deletable": true,
    "editable": true
   },
   "source": [
    "## PageRank"
   ]
  },
  {
   "cell_type": "code",
   "execution_count": 12,
   "metadata": {
    "collapsed": false,
    "deletable": true,
    "editable": true
   },
   "outputs": [
    {
     "name": "stdout",
     "output_type": "stream",
     "text": [
      "21 nodes\n",
      "Graph:\n",
      " [[ 0.    0.05  0.05 ...,  0.05  0.05  0.05]\n",
      " [ 0.09  0.    0.   ...,  0.    0.09  0.09]\n",
      " [ 0.25  0.    0.   ...,  0.25  0.    0.25]\n",
      " ..., \n",
      " [ 0.25  0.    0.25 ...,  0.    0.    0.25]\n",
      " [ 0.07  0.07  0.   ...,  0.    0.    0.07]\n",
      " [ 0.08  0.08  0.08 ...,  0.08  0.08  0.  ]]\n",
      "Nodes: [1, 642, 324, 196, 205, 398, 210, 214, 410, 1883, 91, 669, 100, 165, 164, 43, 3184, 53, 1273, 123, 1982]\n",
      "Scores: {1: 0.047619047619047616, 642: 0.047619047619047616, 1883: 0.047619047619047616, 324: 0.047619047619047616, 165: 0.047619047619047616, 100: 0.04761904761904763, 3184: 0.047619047619047616, 43: 0.047619047619047616, 205: 0.047619047619047616, 398: 0.04761904761904763, 164: 0.04761904761904763, 210: 0.047619047619047616, 123: 0.047619047619047616, 53: 0.047619047619047616, 214: 0.047619047619047616, 1273: 0.047619047619047616, 196: 0.047619047619047616, 410: 0.047619047619047616, 91: 0.047619047619047616, 669: 0.047619047619047616, 1982: 0.047619047619047616}\n"
     ]
    }
   ],
   "source": [
    "import graphes\n",
    "pagerank = graphes.PageRank(idx, seeds=[1, 43], prevNeighbours=2)\n",
    "np.set_printoptions(precision=2, thresholdb=5)\n",
    "print(\"Scores:\", pagerank.getScores(nIter=10, teleportProba=0.1))"
   ]
  },
  {
   "cell_type": "code",
   "execution_count": 23,
   "metadata": {
    "collapsed": false
   },
   "outputs": [
    {
     "name": "stdout",
     "output_type": "stream",
     "text": [
      "True\n",
      "21 nodes\n",
      "Graph:\n",
      " [[ 0.    0.05  0.05  0.05  0.05  0.05  0.05  0.05  0.05  0.05 ...,  0.05\n",
      "   0.05  0.05  0.05  0.05  0.05  0.05  0.05  0.05  0.05]\n",
      " [ 0.09  0.    0.    0.09  0.09  0.09  0.09  0.09  0.    0.   ...,  0.09\n",
      "   0.09  0.    0.09  0.    0.    0.    0.    0.09  0.09]\n",
      " [ 0.25  0.    0.    0.    0.    0.    0.    0.    0.    0.25 ...,  0.    0.\n",
      "   0.    0.    0.    0.    0.    0.25  0.    0.25]\n",
      " [ 0.11  0.11  0.    0.    0.11  0.11  0.11  0.    0.11  0.   ...,  0.    0.\n",
      "   0.11  0.    0.    0.11  0.    0.    0.11  0.  ]\n",
      " [ 0.07  0.07  0.    0.07  0.    0.07  0.07  0.07  0.07  0.   ...,  0.07\n",
      "   0.07  0.    0.07  0.07  0.07  0.    0.    0.07  0.07]\n",
      " [ 0.08  0.08  0.    0.08  0.08  0.    0.08  0.08  0.08  0.   ...,  0.08\n",
      "   0.08  0.    0.08  0.    0.08  0.    0.    0.08  0.08]\n",
      " [ 0.08  0.08  0.    0.08  0.08  0.08  0.    0.08  0.    0.   ...,  0.08\n",
      "   0.08  0.    0.08  0.    0.08  0.    0.    0.08  0.08]\n",
      " [ 0.08  0.08  0.    0.    0.08  0.08  0.08  0.    0.    0.   ...,  0.08\n",
      "   0.08  0.    0.08  0.    0.    0.08  0.    0.08  0.08]\n",
      " [ 0.14  0.    0.    0.14  0.14  0.14  0.    0.    0.    0.   ...,  0.14\n",
      "   0.    0.    0.    0.    0.14  0.    0.    0.14  0.  ]\n",
      " [ 0.25  0.    0.25  0.    0.    0.    0.    0.    0.    0.   ...,  0.    0.\n",
      "   0.    0.    0.    0.    0.    0.25  0.    0.25]\n",
      " ..., \n",
      " [ 0.08  0.08  0.    0.    0.08  0.08  0.08  0.08  0.08  0.   ...,  0.\n",
      "   0.08  0.    0.08  0.    0.08  0.    0.    0.08  0.08]\n",
      " [ 0.1   0.1   0.    0.    0.1   0.1   0.1   0.1   0.    0.   ...,  0.1   0.\n",
      "   0.    0.1   0.    0.    0.    0.    0.1   0.1 ]\n",
      " [ 0.33  0.    0.    0.33  0.    0.    0.    0.    0.    0.   ...,  0.    0.\n",
      "   0.    0.    0.    0.    0.    0.    0.33  0.  ]\n",
      " [ 0.1   0.1   0.    0.    0.1   0.1   0.1   0.1   0.    0.   ...,  0.1\n",
      "   0.1   0.    0.    0.    0.    0.    0.    0.1   0.1 ]\n",
      " [ 0.5   0.    0.    0.    0.5   0.    0.    0.    0.    0.   ...,  0.    0.\n",
      "   0.    0.    0.    0.    0.    0.    0.    0.  ]\n",
      " [ 0.12  0.    0.    0.12  0.12  0.12  0.12  0.    0.12  0.   ...,  0.12\n",
      "   0.    0.    0.    0.    0.    0.    0.    0.12  0.  ]\n",
      " [ 0.33  0.    0.    0.    0.    0.    0.    0.33  0.    0.   ...,  0.    0.\n",
      "   0.    0.    0.    0.    0.    0.    0.    0.  ]\n",
      " [ 0.25  0.    0.25  0.    0.    0.    0.    0.    0.    0.25 ...,  0.    0.\n",
      "   0.    0.    0.    0.    0.    0.    0.    0.25]\n",
      " [ 0.07  0.07  0.    0.07  0.07  0.07  0.07  0.07  0.07  0.   ...,  0.07\n",
      "   0.07  0.07  0.07  0.    0.07  0.    0.    0.    0.07]\n",
      " [ 0.08  0.08  0.08  0.    0.08  0.08  0.08  0.08  0.    0.08 ...,  0.08\n",
      "   0.08  0.    0.08  0.    0.    0.    0.08  0.08  0.  ]]\n"
     ]
    }
   ],
   "source": [
    "np.set_printoptions(edgeitems=10)\n",
    "g = pagerank.graph.toarray()\n",
    "print(np.alltrue(g <= 1))\n",
    "N = len(pagerank.nodes)\n",
    "print(\"%d nodes\" % N)\n",
    "for i in range(N):\n",
    "    if np.all(g[i] == 0):\n",
    "        g[i] = np.ones(N)\n",
    "    s = (g[i].sum())\n",
    "    g[i] /= s\n",
    "print(\"Graph:\\n\", g)\n"
   ]
  }
 ],
 "metadata": {
  "kernelspec": {
   "display_name": "Python 3",
   "language": "python",
   "name": "python3"
  },
  "language_info": {
   "codemirror_mode": {
    "name": "ipython",
    "version": 3
   },
   "file_extension": ".py",
   "mimetype": "text/x-python",
   "name": "python",
   "nbconvert_exporter": "python",
   "pygments_lexer": "ipython3",
   "version": "3.5.2"
  }
 },
 "nbformat": 4,
 "nbformat_minor": 2
}
