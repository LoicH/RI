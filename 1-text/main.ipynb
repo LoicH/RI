{
 "cells": [
  {
   "cell_type": "markdown",
   "metadata": {
    "deletable": true,
    "editable": true
   },
   "source": [
    "# Information Retrieval"
   ]
  },
  {
   "cell_type": "code",
   "execution_count": 1,
   "metadata": {
    "collapsed": false,
    "deletable": true,
    "editable": true
   },
   "outputs": [],
   "source": [
    "import ParserCACM\n",
    "import TextRepresenter\n",
    "import indexation\n",
    "import modeles\n",
    "from query import QueryParserCACM\n",
    "import evaluation\n",
    "import os\n",
    "import matplotlib.pyplot as plt\n",
    "%matplotlib inline\n",
    "import numpy as np\n",
    "import operator\n",
    "# Auto reload the imported modules when running cells\n",
    "%load_ext autoreload \n",
    "%autoreload 2\n",
    "\n",
    "\"\"\" Some info to remember when testing:\n",
    "- Query 10 is about parallel computation\n",
    "- Doc 46 is about parallelism too\n",
    "\"\"\"\n",
    "\n",
    "# Constants:\n",
    "srcFolder = \"cacm/\" \n",
    "srcFile = \"cacm.txt\"\n",
    "qryFile = \"cacm.qry\"\n",
    "relFile = \"cacm.rel\"\n",
    "gendata = \"gendata\" #output folder\n",
    "indexName = \"cacm\"\n",
    "\n",
    "cacm_txt = os.path.join(srcFolder, srcFile)\n",
    "cacm_qry = os.path.join(srcFolder, qryFile)\n",
    "cacm_rel = os.path.join(srcFolder, relFile)"
   ]
  },
  {
   "cell_type": "markdown",
   "metadata": {
    "deletable": true,
    "editable": true
   },
   "source": [
    "##  Indexing:"
   ]
  },
  {
   "cell_type": "code",
   "execution_count": 2,
   "metadata": {
    "collapsed": false,
    "deletable": true,
    "editable": true
   },
   "outputs": [
    {
     "name": "stdout",
     "output_type": "stream",
     "text": [
      "Performing the indexation...\n",
      "1st pass: build the index...\n",
      "2nd pass: build the inverted index...\n",
      "Finished.\n",
      "Successfully indexed 3204 documents\n"
     ]
    }
   ],
   "source": [
    "# Construct the index:\n",
    "idx = indexation.Index(indexName, gendata)\n",
    "stemmer = TextRepresenter.PorterStemmer()\n",
    "parser = ParserCACM.ParserCACM()\n",
    "idx.indexation(cacm_txt, parser, stemmer, verbose=True)\n",
    "N_docs = len(idx.getDocsID())\n",
    "print(\"Successfully indexed %d documents\" % N_docs)"
   ]
  },
  {
   "cell_type": "markdown",
   "metadata": {
    "deletable": true,
    "editable": true
   },
   "source": [
    "## Testing precision/recall measure:\n"
   ]
  },
  {
   "cell_type": "code",
   "execution_count": 3,
   "metadata": {
    "collapsed": false,
    "deletable": true,
    "editable": true,
    "scrolled": false
   },
   "outputs": [
    {
     "name": "stdout",
     "output_type": "stream",
     "text": [
      "\n",
      "###### Testing evaluation.PrecisionRecallMeasure: ###### \n",
      "Searching for query # [7, 29, 30]\n",
      "\n",
      "Query: Query {id=7, txt='I am interested in distributed algorithms - concurrent programs in\n",
      "which processes communicate and synchronize by using message passing.\n",
      "Areas of particular interest include fault-tolerance and techniques\n",
      "for understanding the correctness of these algorithms.\n",
      "', relevances=[1198, 1338, 1877, 1960, 2150, 2228, 2256, 2280, 2320, 2342, 2376, 2482, 2578, 2597, 2618, 2685, 2700, 2777, 2865, 2866, 2895, 2912, 2941, 3043, 3082, 3128, 3141, 3148]}\n",
      "Retrieve scores...\n",
      "This query has 28 relevant results\n",
      "   i |found| precision | recall\n",
      "    1|   1 | 1.000000  |0.035714\n",
      "    2|   2 | 1.000000  |0.071429\n",
      "    4|   3 | 0.750000  |0.107143\n",
      "   12|   4 | 0.333333  |0.142857\n",
      "   13|   5 | 0.384615  |0.178571\n",
      "   19|   6 | 0.315789  |0.214286\n",
      "   21|   7 | 0.333333  |0.250000\n",
      "   31|   8 | 0.258065  |0.285714\n",
      "   32|   9 | 0.281250  |0.321429\n",
      "   45|  10 | 0.222222  |0.357143\n",
      "   49|  11 | 0.224490  |0.392857\n",
      "   57|  12 | 0.210526  |0.428571\n",
      "   65|  13 | 0.200000  |0.464286\n",
      "   79|  14 | 0.177215  |0.500000\n",
      "  112|  15 | 0.133929  |0.535714\n",
      "  126|  16 | 0.126984  |0.571429\n",
      "  141|  17 | 0.120567  |0.607143\n",
      "  290|  18 | 0.062069  |0.642857\n",
      "  301|  19 | 0.063123  |0.678571\n",
      "  304|  20 | 0.065789  |0.714286\n",
      "  588|  21 | 0.035714  |0.750000\n",
      " 1409|  22 | 0.015614  |0.785714\n",
      " 1655|  23 | 0.013897  |0.821429\n",
      " 1852|  24 | 0.012959  |0.857143\n",
      " 1868|  25 | 0.013383  |0.892857\n",
      " 2245|  26 | 0.011581  |0.928571\n",
      " 2364|  27 | 0.011421  |0.964286\n",
      " 2557|  28 | 0.010950  |1.000000\n"
     ]
    },
    {
     "data": {
      "image/png": "[encoded data removed]",
      "text/plain": [
       "<matplotlib.figure.Figure at 0x7f0770e26710>"
      ]
     },
     "metadata": {},
     "output_type": "display_data"
    },
    {
     "name": "stdout",
     "output_type": "stream",
     "text": [
      "--------------------\n",
      "\n",
      "Query: Query {id=29, txt='Number-theoretic algorithms, especially involving prime number series,\n",
      "sieves, and Chinese Remainder theorem.\n",
      "', relevances=[377, 513, 610, 935, 1094, 1420, 1537, 1538, 1539, 1840, 1841, 1967, 2028, 2089, 2120, 2462, 2927, 2932, 3037]}\n",
      "Retrieve scores...\n",
      "This query has 19 relevant results\n",
      "   i |found| precision | recall\n",
      "    1|   1 | 1.000000  |0.052632\n",
      "    2|   2 | 1.000000  |0.105263\n",
      "    3|   3 | 1.000000  |0.157895\n",
      "    4|   4 | 1.000000  |0.210526\n",
      "    5|   5 | 1.000000  |0.263158\n",
      "    6|   6 | 1.000000  |0.315789\n",
      "    7|   7 | 1.000000  |0.368421\n",
      "    8|   8 | 1.000000  |0.421053\n",
      "   10|   9 | 0.900000  |0.473684\n",
      "   11|  10 | 0.909091  |0.526316\n",
      "   12|  11 | 0.916667  |0.578947\n",
      "   13|  12 | 0.923077  |0.631579\n",
      "   14|  13 | 0.928571  |0.684211\n",
      "   15|  14 | 0.933333  |0.736842\n",
      "   17|  15 | 0.882353  |0.789474\n",
      "   19|  16 | 0.842105  |0.842105\n",
      "   39|  17 | 0.435897  |0.894737\n",
      "  171|  18 | 0.105263  |0.947368\n",
      "  186|  19 | 0.102151  |1.000000\n"
     ]
    },
    {
     "data": {
      "image/png": "[encoded data removed]",
      "text/plain": [
       "<matplotlib.figure.Figure at 0x7f076e7376d8>"
      ]
     },
     "metadata": {},
     "output_type": "display_data"
    },
    {
     "name": "stdout",
     "output_type": "stream",
     "text": [
      "--------------------\n",
      "\n",
      "Query: Query {id=30, txt='Articles on text formatting systems, including \"what you see is what you\n",
      "get\" systems.  Examples: t/nroff, scribe, bravo.\n",
      "', relevances=[1926, 2486, 2786, 2917]}\n",
      "Retrieve scores...\n",
      "This query has 4 relevant results\n",
      "   i |found| precision | recall\n",
      "    1|   1 | 1.000000  |0.250000\n",
      "    6|   2 | 0.333333  |0.500000\n",
      "   13|   3 | 0.230769  |0.750000\n",
      "   18|   4 | 0.222222  |1.000000\n"
     ]
    },
    {
     "data": {
      "image/png": "[encoded data removed]",
      "text/plain": [
       "<matplotlib.figure.Figure at 0x7f076e6c9c50>"
      ]
     },
     "metadata": {},
     "output_type": "display_data"
    },
    {
     "name": "stdout",
     "output_type": "stream",
     "text": [
      "--------------------\n",
      "Done.\n"
     ]
    }
   ],
   "source": [
    "binWeighter = modeles.BinaryWeighter(idx)\n",
    "tfidfWeighter = modeles.TfidfWeighter(idx)\n",
    "vect = modeles.Vectoriel(idx, tfidfWeighter)\n",
    "\n",
    "print(\"\\n###### Testing evaluation.PrecisionRecallMeasure: ###### \")\n",
    "queryChosen = [7, 29, 30]\n",
    "qp = QueryParserCACM(cacm_qry, cacm_rel)\n",
    "query = qp.nextQuery()\n",
    "print(\"Searching for query #\", queryChosen)\n",
    "while query is not None :\n",
    "    if int(query.getID()) in queryChosen:\n",
    "        print(\"\\nQuery:\", query)\n",
    "        queryTxt = stemmer.getTextRepresentation(query.getText())\n",
    "        print(\"Retrieve scores...\")\n",
    "        ranking = vect.getRanking(queryTxt)\n",
    "        irlist = evaluation.IRList(query, ranking)\n",
    "        precisRecall = evaluation.PrecisionRecallMeasure(irlist)\n",
    "        pr = precisRecall.eval(verbose=True, nbLevel=100) # (recall, precision)\n",
    "        precision = [p for r,p in pr]\n",
    "        recall = [r for r,p in pr]\n",
    "        plt.plot(recall, precision)\n",
    "        plt.title(\"Precision-Recall for query #\"+query.getID())\n",
    "        plt.show()\n",
    "        print(20*'-')\n",
    "\n",
    "\n",
    "    query = qp.nextQuery()\n",
    "print(\"Done.\")\n"
   ]
  },
  {
   "cell_type": "markdown",
   "metadata": {
    "deletable": true,
    "editable": true
   },
   "source": [
    "## Testing average precision:"
   ]
  },
  {
   "cell_type": "code",
   "execution_count": 4,
   "metadata": {
    "collapsed": false,
    "deletable": true,
    "editable": true,
    "scrolled": false
   },
   "outputs": [
    {
     "name": "stdout",
     "output_type": "stream",
     "text": [
      "\n",
      "###### Testing evaluation.AveragePrecision: ###### \n",
      "Searching for query # [9, 10, 14, 29] \n",
      "\n",
      "Query: Query {id=9, txt='Security considerations in local networks, network operating systems,\n",
      "and distributed systems.\n",
      "', relevances=[2372, 2632, 2870, 2876, 3068, 3111, 3128, 3158, 3177]}\n",
      "Retrieve scores...\n",
      "Evaluate the scores.\n",
      "This query has 9 relevant results\n",
      "   i |found| precision\n",
      "    1|   1 | 1.000000\n",
      "    2|   2 | 1.000000\n",
      "    3|   3 | 1.000000\n",
      "    4|   4 | 1.000000\n",
      "    6|   5 | 0.833333\n",
      "   33|   6 | 0.181818\n",
      "   71|   7 | 0.098592\n",
      "  111|   8 | 0.072072\n",
      "  311|   9 | 0.028939\n",
      "Average precision: 0.579417\n",
      "--------------------\n",
      "Query: Query {id=10, txt='Parallel languages; languages for parallel computation\n",
      "', relevances=[46, 141, 392, 950, 1158, 1198, 1262, 1380, 1471, 1601, 1613, 1747, 1795, 1811, 2060, 2150, 2256, 2289, 2342, 2376, 2433, 2618, 2664, 2685, 2700, 2714, 2777, 2785, 2851, 2895, 2896, 2912, 3039, 3075, 3156]}\n",
      "Retrieve scores...\n",
      "Evaluate the scores.\n",
      "This query has 35 relevant results\n",
      "   i |found| precision\n",
      "    1|   1 | 1.000000\n",
      "    2|   2 | 1.000000\n",
      "    3|   3 | 1.000000\n",
      "    4|   4 | 1.000000\n",
      "    5|   5 | 1.000000\n",
      "    8|   6 | 0.750000\n",
      "    9|   7 | 0.777778\n",
      "   10|   8 | 0.800000\n",
      "   11|   9 | 0.818182\n",
      "   12|  10 | 0.833333\n",
      "   13|  11 | 0.846154\n",
      "   18|  12 | 0.666667\n",
      "   19|  13 | 0.684211\n",
      "   26|  14 | 0.538462\n",
      "   30|  15 | 0.500000\n",
      "   31|  16 | 0.516129\n",
      "   32|  17 | 0.531250\n",
      "   38|  18 | 0.473684\n",
      "   47|  19 | 0.404255\n",
      "   51|  20 | 0.392157\n",
      "   56|  21 | 0.375000\n",
      "   62|  22 | 0.354839\n",
      "   65|  23 | 0.353846\n",
      "   69|  24 | 0.347826\n",
      "   84|  25 | 0.297619\n",
      "  104|  26 | 0.250000\n",
      "  211|  27 | 0.127962\n",
      "  620|  28 | 0.045161\n",
      " 1026|  29 | 0.028265\n",
      " 2085|  30 | 0.014388\n",
      " 2224|  31 | 0.013939\n",
      " 2492|  32 | 0.012841\n",
      " 2807|  33 | 0.011756\n",
      " 2995|  34 | 0.011352\n",
      " 3146|  35 | 0.011125\n",
      "Average precision: 0.479662\n",
      "--------------------\n",
      "Query: Query {id=14, txt='find all discussions of optimal implementations of sort algorithms for\n",
      "database management applications\n",
      "', relevances=[74, 117, 232, 776, 827, 850, 851, 852, 854, 855, 856, 857, 858, 860, 861, 862, 864, 865, 866, 1175, 1724, 1919, 1956, 1969, 1980, 1997, 2017, 2041, 2108, 2118, 2146, 2176, 2191, 2272, 2337, 2348, 2397, 2563, 2664, 2679, 2714, 2716, 3075, 3187]}\n",
      "Retrieve scores...\n",
      "Evaluate the scores.\n",
      "This query has 44 relevant results\n",
      "   i |found| precision\n",
      "    2|   1 | 0.500000\n",
      "    4|   2 | 0.500000\n",
      "    5|   3 | 0.600000\n",
      "    7|   4 | 0.571429\n",
      "    8|   5 | 0.625000\n",
      "    9|   6 | 0.666667\n",
      "   10|   7 | 0.700000\n",
      "   11|   8 | 0.727273\n",
      "   12|   9 | 0.750000\n",
      "   14|  10 | 0.714286\n",
      "   15|  11 | 0.733333\n",
      "   16|  12 | 0.750000\n",
      "   19|  13 | 0.684211\n",
      "   22|  14 | 0.636364\n",
      "   24|  15 | 0.625000\n",
      "   29|  16 | 0.551724\n",
      "   34|  17 | 0.500000\n",
      "   37|  18 | 0.486486\n",
      "   39|  19 | 0.487179\n",
      "   40|  20 | 0.500000\n",
      "   45|  21 | 0.466667\n",
      "   47|  22 | 0.468085\n",
      "   51|  23 | 0.450980\n",
      "   58|  24 | 0.413793\n",
      "   59|  25 | 0.423729\n",
      "   63|  26 | 0.412698\n",
      "   65|  27 | 0.415385\n",
      "   72|  28 | 0.388889\n",
      "   73|  29 | 0.397260\n",
      "   74|  30 | 0.405405\n",
      "   79|  31 | 0.392405\n",
      "   85|  32 | 0.376471\n",
      "   91|  33 | 0.362637\n",
      "   93|  34 | 0.365591\n",
      "   96|  35 | 0.364583\n",
      "  104|  36 | 0.346154\n",
      "  133|  37 | 0.278195\n",
      "  148|  38 | 0.256757\n",
      "  168|  39 | 0.232143\n",
      "  313|  40 | 0.127796\n",
      "  436|  41 | 0.094037\n",
      "  651|  42 | 0.064516\n",
      "  723|  43 | 0.059474\n",
      " 1369|  44 | 0.032140\n",
      "Average precision: 0.452381\n",
      "--------------------\n",
      "Query: Query {id=29, txt='Number-theoretic algorithms, especially involving prime number series,\n",
      "sieves, and Chinese Remainder theorem.\n",
      "', relevances=[377, 513, 610, 935, 1094, 1420, 1537, 1538, 1539, 1840, 1841, 1967, 2028, 2089, 2120, 2462, 2927, 2932, 3037]}\n",
      "Retrieve scores...\n",
      "Evaluate the scores.\n",
      "This query has 19 relevant results\n",
      "   i |found| precision\n",
      "    1|   1 | 1.000000\n",
      "    2|   2 | 1.000000\n",
      "    3|   3 | 1.000000\n",
      "    4|   4 | 1.000000\n",
      "    5|   5 | 1.000000\n",
      "    6|   6 | 1.000000\n",
      "    7|   7 | 1.000000\n",
      "    8|   8 | 1.000000\n",
      "   10|   9 | 0.900000\n",
      "   11|  10 | 0.909091\n",
      "   12|  11 | 0.916667\n",
      "   13|  12 | 0.923077\n",
      "   14|  13 | 0.928571\n",
      "   15|  14 | 0.933333\n",
      "   17|  15 | 0.882353\n",
      "   19|  16 | 0.842105\n",
      "   39|  17 | 0.435897\n",
      "  171|  18 | 0.105263\n",
      "  186|  19 | 0.102151\n",
      "Average precision: 0.835711\n",
      "--------------------\n"
     ]
    }
   ],
   "source": [
    "print(\"\\n###### Testing evaluation.AveragePrecision: ###### \")\n",
    "queryChosen =[9, 10, 14, 29]#, 25, 26, 27, 42, 43] # lots of relevant results\n",
    "qp = QueryParserCACM(cacm_qry, cacm_rel)\n",
    "query = qp.nextQuery()\n",
    "print(\"Searching for query #\",queryChosen, \"\\n\")\n",
    "while query is not None :\n",
    "    if int(query.getID()) in queryChosen:\n",
    "        print(\"Query:\", query)\n",
    "        queryTxt = stemmer.getTextRepresentation(query.getText())\n",
    "        print(\"Retrieve scores...\")\n",
    "        scores = vect.getRanking(queryTxt)\n",
    "        irlist = evaluation.IRList(query, scores)\n",
    "        average_measure = evaluation.AveragePrecision(irlist)\n",
    "        print(\"Evaluate the scores.\")\n",
    "        average_prec = average_measure.eval(verbose=True)\n",
    "        print(\"Average precision: %f\" % average_prec)\n",
    "        print(20*'-')\n",
    "\n",
    "    query = qp.nextQuery()\n"
   ]
  },
  {
   "cell_type": "markdown",
   "metadata": {
    "deletable": true,
    "editable": true
   },
   "source": [
    "## Testing EvalIRModel:"
   ]
  },
  {
   "cell_type": "code",
   "execution_count": 5,
   "metadata": {
    "collapsed": false,
    "deletable": true,
    "editable": true,
    "scrolled": true
   },
   "outputs": [
    {
     "name": "stdout",
     "output_type": "stream",
     "text": [
      "\n",
      "###### Testing evaluation.EvalIRModel: ###### \n",
      "Searching for queries # [13 43 13 63 37 56 41 17 34  1] ...\n",
      "Found queries\n",
      "Calling eval()...\n",
      "{('vectoriel_tfidf', 'averagePrecision'): (0.12630620697924713, 0.12828306303614209), ('vectoriel_bw', 'averagePrecision'): (0.090068916596127258, 0.093620194216179023)}\n",
      "Done.\n"
     ]
    }
   ],
   "source": [
    "print(\"\\n###### Testing evaluation.EvalIRModel: ###### \")\n",
    "queryChosen = np.random.randint(1, 64, size=10)\n",
    "#queryChosen =[7, 10, 14]#, 25, 26, 27, 42, 43] # lots of relevant results\n",
    "queries = []\n",
    "qp = QueryParserCACM(cacm_qry, cacm_rel)\n",
    "query = qp.nextQuery()\n",
    "print(\"Searching for queries #\",queryChosen, \"...\")\n",
    "while query is not None :\n",
    "    if int(query.getID()) in queryChosen:\n",
    "        queries.append(query)\n",
    "    query = qp.nextQuery()\n",
    "print(\"Found queries\")\n",
    "irmodels = {\"vectoriel_tfidf\": modeles.Vectoriel(idx, tfidfWeighter),\n",
    "            \"vectoriel_bw\": modeles.Vectoriel(idx, binWeighter)\n",
    "           }\n",
    "measures = {\"averagePrecision\": evaluation.AveragePrecision}\n",
    "eval_model = evaluation.EvalIRModel(queries, irmodels, measures)\n",
    "print(\"Calling eval()...\")\n",
    "print(eval_model.eval(verbose=False))\n",
    "print(\"Done.\")\n"
   ]
  },
  {
   "cell_type": "markdown",
   "metadata": {
    "collapsed": true,
    "deletable": true,
    "editable": true
   },
   "source": [
    "## Comparison of language models:"
   ]
  },
  {
   "cell_type": "code",
   "execution_count": 29,
   "metadata": {
    "collapsed": false,
    "deletable": true,
    "editable": true
   },
   "outputs": [
    {
     "name": "stdout",
     "output_type": "stream",
     "text": [
      "Searching for queries # [1, 2, 3, 4, 5, 6, 7, 8, 9, 10, 11, 12, 13, 14, 15, 16, 17, 18, 19, 20, 21, 22, 23, 24, 25, 26, 27, 28, 29, 30, 31, 32, 33, 34, 35, 36, 37, 38, 39, 40, 41, 42, 43, 44, 45, 46, 47, 48, 49] ...\n",
      "Found all queries\n",
      "Best unigram params: {'index': <indexation.Index object at 0x7f0798e79f98>, 'regularization': 0.3684210526315789}\n"
     ]
    }
   ],
   "source": [
    "from sklearn.model_selection import train_test_split\n",
    "\n",
    "# Searching queries:\n",
    "queries = []\n",
    "qp = QueryParserCACM(cacm_qry, cacm_rel)\n",
    "query = qp.nextQuery()\n",
    "queryChosen = list(range(1, 50)) # lots of relevant results\n",
    "\n",
    "print(\"Searching for queries #\",queryChosen, \"...\")\n",
    "while query is not None :\n",
    "    if int(query.getID()) in queryChosen:\n",
    "        queries.append(query)\n",
    "    query = qp.nextQuery()\n",
    "print(\"Found all queries\")\n",
    "\n",
    "q_train, q_test = train_test_split(queries)\n",
    "\n",
    "# Train models, find best parameters.\n",
    "unigram_params_grid = {'index':[idx], 'regularization':np.linspace(0,1, 20, endpoint=False)}\n",
    "\n",
    "#c = dict_combinations(params_grid)\n",
    "#print(\"comb: \",c)\n",
    "\n",
    "best_unigram_params = {'index':idx, 'regularization':0.6842105263157893}\n",
    "#best_unigram_params = evaluation.gridsearch(modeles.UnigramLanguage, unigram_params_grid, \n",
    "#                 q_train, evaluation.AveragePrecision, verbose=1)\n",
    "print(\"Best unigram params:\", best_unigram_params)"
   ]
  },
  {
   "cell_type": "code",
   "execution_count": 33,
   "metadata": {
    "collapsed": false,
    "deletable": true,
    "editable": true,
    "scrolled": true
   },
   "outputs": [
    {
     "name": "stdout",
     "output_type": "stream",
     "text": [
      "Best okapi params: {'k': 1.1111111111111112, 'b': 0.6, 'index': <indexation.Index object at 0x7f0798e79f98>}\n"
     ]
    }
   ],
   "source": [
    "okapi_params_grid = {'index':[idx], 'k':np.linspace(1, 2, 10), 'b':np.linspace(0,2,10)}\n",
    "\n",
    "best_okapi_params = {'index':idx, 'k': 1.1111111111111112, 'b': 0.6}\n",
    "#best_okapi_params = evaluation.gridsearch(modeles.Okapi, okapi_params_grid, \n",
    "#             q_train, evaluation.AveragePrecision, verbose=1)\n",
    "\n",
    "print(\"Best okapi params:\", best_okapi_params)"
   ]
  },
  {
   "cell_type": "markdown",
   "metadata": {
    "deletable": true,
    "editable": true
   },
   "source": [
    "### Execution on the test set:"
   ]
  },
  {
   "cell_type": "code",
   "execution_count": 34,
   "metadata": {
    "collapsed": false,
    "deletable": true,
    "editable": true
   },
   "outputs": [
    {
     "name": "stdout",
     "output_type": "stream",
     "text": [
      "best unigram params: {'index': <indexation.Index object at 0x7f0798e79f98>, 'regularization': 0.3684210526315789}\n",
      "best okapi params: {'k': 1.1111111111111112, 'b': 0.6, 'index': <indexation.Index object at 0x7f0798e79f98>}\n",
      "[  0/  2] IRModel 'okapi'\n",
      "Measure: measure\n",
      "(0.42534931104965679, 0.24053126649934967)\n",
      "[  1/  2] IRModel 'unigram'\n",
      "Measure: measure\n",
      "(0.44673985979448089, 0.21745929409528778)\n",
      "{('unigram', 'measure'): (0.44673985979448089, 0.21745929409528778), ('okapi', 'measure'): (0.42534931104965679, 0.24053126649934967)}\n"
     ]
    }
   ],
   "source": [
    "print(\"best unigram params:\", best_unigram_params)\n",
    "print(\"best okapi params:\", best_okapi_params)\n",
    "\n",
    "irmodels = {'unigram':modeles.UnigramLanguage(**best_unigram_params),\n",
    "            'okapi':modeles.Okapi(**best_okapi_params)}\n",
    "\n",
    "eval_models = evaluation.EvalIRModel(q_test, irmodels, {'measure':evaluation.AveragePrecision})\n",
    "scores = eval_models.eval(verbose=True)\n",
    "print(scores)"
   ]
  },
  {
   "cell_type": "code",
   "execution_count": 9,
   "metadata": {
    "collapsed": false,
    "deletable": true,
    "editable": true
   },
   "outputs": [
    {
     "name": "stdout",
     "output_type": "stream",
     "text": [
      "\n",
      "###### Comparison of different models: ###### \n",
      "Searching for queries # [56  1 48 55 45] ...\n",
      "Found queries\n",
      "Calling eval()...\n",
      "{('vectoriel_tfidf', 'averagePrecision'): (0.12046585073226537, 0.13644632545756047), ('unigram', 'averagePrecision'): (0.18697330505583781, 0.16482483970226861), ('okapi', 'averagePrecision'): (0.14960355264280056, 0.17212530898646577), ('vectoriel_bw', 'averagePrecision'): (0.12294950647422449, 0.12888086852492672)}\n",
      "Done.\n"
     ]
    }
   ],
   "source": [
    "print(\"\\n###### Comparison of different models: ###### \")\n",
    "queryChosen = np.random.randint(1, 64, size=5)\n",
    "queries = []\n",
    "qp = QueryParserCACM(cacm_qry, cacm_rel)\n",
    "query = qp.nextQuery()\n",
    "print(\"Searching for queries #\",queryChosen, \"...\")\n",
    "while query is not None :\n",
    "    if int(query.getID()) in queryChosen:\n",
    "        queries.append(query)\n",
    "    query = qp.nextQuery()\n",
    "print(\"Found queries\")\n",
    "irmodels = {\"vectoriel_tfidf\": modeles.Vectoriel(idx, tfidfWeighter),\n",
    "            \"vectoriel_bw\": modeles.Vectoriel(idx, binWeighter),\n",
    "            'unigram':modeles.UnigramLanguage(**best_unigram_params),\n",
    "            'okapi':modeles.Okapi(**best_okapi_params)\n",
    "           }\n",
    "measures = {\"averagePrecision\": evaluation.AveragePrecision}\n",
    "eval_model = evaluation.EvalIRModel(queries, irmodels, measures)\n",
    "print(\"Calling eval()...\")\n",
    "print(eval_model.eval(verbose=False))\n",
    "print(\"Done.\")\n"
   ]
  },
  {
   "cell_type": "markdown",
   "metadata": {
    "deletable": true,
    "editable": true
   },
   "source": [
    "## PageRank"
   ]
  },
  {
   "cell_type": "code",
   "execution_count": 10,
   "metadata": {
    "collapsed": false,
    "deletable": true,
    "editable": true
   },
   "outputs": [
    {
     "name": "stdout",
     "output_type": "stream",
     "text": [
      "\n",
      "###### Testing evaluation.PrecisionRecallMeasure: ###### \n",
      "Searching for query # [7, 29, 30]\n",
      "\n",
      "Query: Query {id=7, txt='I am interested in distributed algorithms - concurrent programs in\n",
      "which processes communicate and synchronize by using message passing.\n",
      "Areas of particular interest include fault-tolerance and techniques\n",
      "for understanding the correctness of these algorithms.\n",
      "', relevances=[1198, 1338, 1877, 1960, 2150, 2228, 2256, 2280, 2320, 2342, 2376, 2482, 2578, 2597, 2618, 2685, 2700, 2777, 2865, 2866, 2895, 2912, 2941, 3043, 3082, 3128, 3141, 3148]}\n",
      "Retrieve scores...\n",
      "219 nodes in the sub-graph\n",
      "This query has 28 relevant results\n",
      "   i |found| precision | recall\n",
      "    5|   1 | 0.200000  |0.035714\n",
      "    6|   2 | 0.333333  |0.071429\n",
      "   10|   3 | 0.300000  |0.107143\n",
      "   13|   4 | 0.307692  |0.142857\n",
      "   30|   5 | 0.166667  |0.178571\n",
      "   49|   6 | 0.122449  |0.214286\n",
      "   81|   7 | 0.086420  |0.250000\n",
      "   87|   8 | 0.091954  |0.285714\n",
      "   92|   9 | 0.097826  |0.321429\n",
      "   93|  10 | 0.107527  |0.357143\n",
      "   99|  11 | 0.111111  |0.392857\n",
      "  107|  12 | 0.112150  |0.428571\n",
      "  132|  13 | 0.098485  |0.464286\n",
      "  134|  14 | 0.104478  |0.500000\n",
      "  145|  15 | 0.103448  |0.535714\n",
      "  149|  16 | 0.107383  |0.571429\n",
      "  150|  17 | 0.113333  |0.607143\n",
      "  163|  18 | 0.110429  |0.642857\n",
      "  164|  19 | 0.115854  |0.678571\n",
      "  167|  20 | 0.119760  |0.714286\n",
      "  174|  21 | 0.120690  |0.750000\n",
      "  183|  22 | 0.120219  |0.785714\n",
      "  196|  23 | 0.117347  |0.821429\n",
      "  200|  24 | 0.120000  |0.857143\n",
      "  208|  25 | 0.120192  |0.892857\n",
      "  211|  26 | 0.123223  |0.928571\n",
      "  216|  27 | 0.125000  |0.964286\n",
      "  217|  28 | 0.129032  |1.000000\n"
     ]
    },
    {
     "data": {
      "image/png": "[encoded data removed]",
      "text/plain": [
       "<matplotlib.figure.Figure at 0x7f0766930d68>"
      ]
     },
     "metadata": {},
     "output_type": "display_data"
    },
    {
     "name": "stdout",
     "output_type": "stream",
     "text": [
      "--------------------\n",
      "\n",
      "Query: Query {id=29, txt='Number-theoretic algorithms, especially involving prime number series,\n",
      "sieves, and Chinese Remainder theorem.\n",
      "', relevances=[377, 513, 610, 935, 1094, 1420, 1537, 1538, 1539, 1840, 1841, 1967, 2028, 2089, 2120, 2462, 2927, 2932, 3037]}\n",
      "Retrieve scores...\n",
      "64 nodes in the sub-graph\n",
      "This query has 19 relevant results\n",
      "   i |found| precision | recall\n",
      "    1|   1 | 1.000000  |0.052632\n",
      "    2|   2 | 1.000000  |0.105263\n",
      "    3|   3 | 1.000000  |0.157895\n",
      "    4|   4 | 1.000000  |0.210526\n",
      "    7|   5 | 0.714286  |0.263158\n",
      "   14|   6 | 0.428571  |0.315789\n",
      "   15|   7 | 0.466667  |0.368421\n",
      "   21|   8 | 0.380952  |0.421053\n",
      "   24|   9 | 0.375000  |0.473684\n",
      "   25|  10 | 0.400000  |0.526316\n",
      "   45|  11 | 0.244444  |0.578947\n",
      "   46|  12 | 0.260870  |0.631579\n",
      "   47|  13 | 0.276596  |0.684211\n",
      "   48|  14 | 0.291667  |0.736842\n",
      "   49|  15 | 0.306122  |0.789474\n",
      "   50|  16 | 0.320000  |0.842105\n",
      "   51|  17 | 0.333333  |0.894737\n",
      "   53|  18 | 0.339623  |0.947368\n",
      "   54|  19 | 0.351852  |1.000000\n"
     ]
    },
    {
     "data": {
      "image/png": "[encoded data removed]",
      "text/plain": [
       "<matplotlib.figure.Figure at 0x7f07668890f0>"
      ]
     },
     "metadata": {},
     "output_type": "display_data"
    },
    {
     "name": "stdout",
     "output_type": "stream",
     "text": [
      "--------------------\n",
      "\n",
      "Query: Query {id=30, txt='Articles on text formatting systems, including \"what you see is what you\n",
      "get\" systems.  Examples: t/nroff, scribe, bravo.\n",
      "', relevances=[1926, 2486, 2786, 2917]}\n",
      "Retrieve scores...\n",
      "187 nodes in the sub-graph\n",
      "This query has 4 relevant results\n",
      "   i |found| precision | recall\n",
      "   27|   1 | 0.037037  |0.250000\n",
      "  169|   2 | 0.011834  |0.500000\n",
      "  175|   3 | 0.017143  |0.750000\n",
      "  177|   4 | 0.022599  |1.000000\n"
     ]
    },
    {
     "data": {
      "image/png": "[encoded data removed]",
      "text/plain": [
       "<matplotlib.figure.Figure at 0x7f0770e26588>"
      ]
     },
     "metadata": {},
     "output_type": "display_data"
    },
    {
     "name": "stdout",
     "output_type": "stream",
     "text": [
      "--------------------\n",
      "Done.\n"
     ]
    }
   ],
   "source": [
    "pagerank_model = modeles.PageRankModel(idx, baseModel=vect, seedsNbr=20, parentsNbr=3)\n",
    "\n",
    "print(\"\\n###### Testing evaluation.PrecisionRecallMeasure: ###### \")\n",
    "queryChosen = [7, 29, 30]\n",
    "qp = QueryParserCACM(cacm_qry, cacm_rel)\n",
    "query = qp.nextQuery()\n",
    "print(\"Searching for query #\", queryChosen)\n",
    "while query is not None :\n",
    "    if int(query.getID()) in queryChosen:\n",
    "        print(\"\\nQuery:\", query)\n",
    "        queryTxt = stemmer.getTextRepresentation(query.getText())\n",
    "        print(\"Retrieve scores...\")\n",
    "        ranking = pagerank_model.getRanking(queryTxt)\n",
    "        irlist = evaluation.IRList(query, ranking)\n",
    "        precisRecall = evaluation.PrecisionRecallMeasure(irlist)\n",
    "        pr = precisRecall.eval(verbose=True, nbLevel=100) # (recall, precision)\n",
    "        precision = [p for r,p in pr]\n",
    "        recall = [r for r,p in pr]\n",
    "        plt.plot(recall, precision)\n",
    "        plt.title(\"Precision-Recall for query #\"+query.getID())\n",
    "        plt.show()\n",
    "        print(20*'-')\n",
    "\n",
    "\n",
    "    query = qp.nextQuery()\n",
    "print(\"Done.\")\n"
   ]
  },
  {
   "cell_type": "code",
   "execution_count": 11,
   "metadata": {
    "collapsed": false,
    "deletable": true,
    "editable": true
   },
   "outputs": [
    {
     "name": "stdout",
     "output_type": "stream",
     "text": [
      "\n",
      "###### Testing evaluation.AveragePrecision: ###### \n",
      "Searching for query # [9, 10, 14, 29] \n",
      "\n",
      "Query: Query {id=9, txt='Security considerations in local networks, network operating systems,\n",
      "and distributed systems.\n",
      "', relevances=[2372, 2632, 2870, 2876, 3068, 3111, 3128, 3158, 3177]}\n",
      "Retrieve scores...\n",
      "110 nodes in the sub-graph\n",
      "Evaluate the scores.\n",
      "This query has 9 relevant results\n",
      "   i |found| precision\n",
      "    5|   1 | 0.200000\n",
      "    8|   2 | 0.250000\n",
      "   28|   3 | 0.107143\n",
      "   61|   4 | 0.065574\n",
      "   70|   5 | 0.071429\n",
      "   80|   6 | 0.075000\n",
      "   84|   7 | 0.083333\n",
      "   94|   8 | 0.085106\n",
      "  100|   8 | 0.080000\n",
      "  102|   9 | 0.088235\n",
      "Average precision: 0.122869\n",
      "--------------------\n",
      "Query: Query {id=10, txt='Parallel languages; languages for parallel computation\n",
      "', relevances=[46, 141, 392, 950, 1158, 1198, 1262, 1380, 1471, 1601, 1613, 1747, 1795, 1811, 2060, 2150, 2256, 2289, 2342, 2376, 2433, 2618, 2664, 2685, 2700, 2714, 2777, 2785, 2851, 2895, 2896, 2912, 3039, 3075, 3156]}\n",
      "Retrieve scores...\n",
      "242 nodes in the sub-graph\n",
      "Evaluate the scores.\n",
      "This query has 35 relevant results\n",
      "   i |found| precision\n",
      "    4|   1 | 0.250000\n",
      "   30|   2 | 0.066667\n",
      "   36|   3 | 0.083333\n",
      "   72|   4 | 0.055556\n",
      "   79|   5 | 0.063291\n",
      "   80|   6 | 0.075000\n",
      "   87|   7 | 0.080460\n",
      "   94|   8 | 0.085106\n",
      "  112|   9 | 0.080357\n",
      "  113|  10 | 0.088496\n",
      "  153|  11 | 0.071895\n",
      "  155|  12 | 0.077419\n",
      "  159|  13 | 0.081761\n",
      "  178|  14 | 0.078652\n",
      "  179|  15 | 0.083799\n",
      "  182|  16 | 0.087912\n",
      "  186|  17 | 0.091398\n",
      "  187|  18 | 0.096257\n",
      "  190|  19 | 0.100000\n",
      "  191|  20 | 0.104712\n",
      "  221|  21 | 0.095023\n",
      "  223|  22 | 0.098655\n",
      "  225|  23 | 0.102222\n",
      "  226|  24 | 0.106195\n",
      "  227|  24 | 0.105727\n",
      "  230|  24 | 0.104348\n",
      "  232|  24 | 0.103448\n",
      "  234|  24 | 0.102564\n",
      "  235|  25 | 0.106383\n",
      "  236|  25 | 0.105932\n",
      "  237|  26 | 0.109705\n",
      "  240|  27 | 0.112500\n",
      "  241|  27 | 0.112033\n",
      "Average precision: 0.090480\n",
      "--------------------\n",
      "Query: Query {id=14, txt='find all discussions of optimal implementations of sort algorithms for\n",
      "database management applications\n",
      "', relevances=[74, 117, 232, 776, 827, 850, 851, 852, 854, 855, 856, 857, 858, 860, 861, 862, 864, 865, 866, 1175, 1724, 1919, 1956, 1969, 1980, 1997, 2017, 2041, 2108, 2118, 2146, 2176, 2191, 2272, 2337, 2348, 2397, 2563, 2664, 2679, 2714, 2716, 3075, 3187]}\n",
      "Retrieve scores...\n",
      "138 nodes in the sub-graph\n",
      "Evaluate the scores.\n",
      "This query has 44 relevant results\n",
      "   i |found| precision\n",
      "    1|   1 | 1.000000\n",
      "    2|   2 | 1.000000\n",
      "    3|   3 | 1.000000\n",
      "    4|   4 | 1.000000\n",
      "    5|   5 | 1.000000\n",
      "    6|   6 | 1.000000\n",
      "    8|   7 | 0.875000\n",
      "   14|   8 | 0.571429\n",
      "   15|   9 | 0.600000\n",
      "   19|  10 | 0.526316\n",
      "   20|  11 | 0.550000\n",
      "   21|  12 | 0.571429\n",
      "   23|  13 | 0.565217\n",
      "   26|  14 | 0.538462\n",
      "   27|  15 | 0.555556\n",
      "   28|  16 | 0.571429\n",
      "   29|  17 | 0.586207\n",
      "   30|  18 | 0.600000\n",
      "   32|  19 | 0.593750\n",
      "   33|  20 | 0.606061\n",
      "   36|  21 | 0.583333\n",
      "   53|  22 | 0.415094\n",
      "   58|  23 | 0.396552\n",
      "   61|  24 | 0.393443\n",
      "   63|  25 | 0.396825\n",
      "   86|  26 | 0.302326\n",
      "   99|  27 | 0.272727\n",
      "  100|  28 | 0.280000\n",
      "  102|  29 | 0.284314\n",
      "  108|  30 | 0.277778\n",
      "  109|  31 | 0.284404\n",
      "  117|  32 | 0.273504\n",
      "  118|  33 | 0.279661\n",
      "  120|  34 | 0.283333\n",
      "  121|  35 | 0.289256\n",
      "  123|  36 | 0.292683\n",
      "  124|  36 | 0.290323\n",
      "  125|  36 | 0.288000\n",
      "  127|  36 | 0.283465\n",
      "  128|  36 | 0.281250\n",
      "  130|  36 | 0.276923\n",
      "  133|  36 | 0.270677\n",
      "  134|  36 | 0.268657\n",
      "  135|  36 | 0.266667\n",
      "  136|  36 | 0.264706\n",
      "Average precision: 0.502426\n",
      "--------------------\n",
      "Query: Query {id=29, txt='Number-theoretic algorithms, especially involving prime number series,\n",
      "sieves, and Chinese Remainder theorem.\n",
      "', relevances=[377, 513, 610, 935, 1094, 1420, 1537, 1538, 1539, 1840, 1841, 1967, 2028, 2089, 2120, 2462, 2927, 2932, 3037]}\n",
      "Retrieve scores...\n",
      "64 nodes in the sub-graph\n",
      "Evaluate the scores.\n",
      "This query has 19 relevant results\n",
      "   i |found| precision\n",
      "    1|   1 | 1.000000\n",
      "    2|   2 | 1.000000\n",
      "    3|   3 | 1.000000\n",
      "    4|   4 | 1.000000\n",
      "    7|   5 | 0.714286\n",
      "   14|   6 | 0.428571\n",
      "   15|   7 | 0.466667\n",
      "   21|   8 | 0.380952\n",
      "   24|   9 | 0.375000\n",
      "   25|  10 | 0.400000\n",
      "   45|  11 | 0.244444\n",
      "   46|  12 | 0.260870\n",
      "   47|  12 | 0.255319\n",
      "   48|  12 | 0.250000\n",
      "   49|  12 | 0.244898\n",
      "   50|  12 | 0.240000\n",
      "   51|  13 | 0.254902\n",
      "   53|  13 | 0.245283\n",
      "   54|  14 | 0.259259\n",
      "   55|  14 | 0.254545\n",
      "   56|  14 | 0.250000\n",
      "   57|  15 | 0.263158\n",
      "   58|  15 | 0.258621\n",
      "   60|  16 | 0.266667\n",
      "   61|  16 | 0.262295\n",
      "   62|  16 | 0.258065\n",
      "Average precision: 0.570200\n",
      "--------------------\n"
     ]
    }
   ],
   "source": [
    "print(\"\\n###### Testing evaluation.AveragePrecision: ###### \")\n",
    "queryChosen =[9, 10, 14, 29]#, 25, 26, 27, 42, 43] # lots of relevant results\n",
    "qp = QueryParserCACM(cacm_qry, cacm_rel)\n",
    "query = qp.nextQuery()\n",
    "print(\"Searching for query #\",queryChosen, \"\\n\")\n",
    "while query is not None :\n",
    "    if int(query.getID()) in queryChosen:\n",
    "        print(\"Query:\", query)\n",
    "        queryTxt = stemmer.getTextRepresentation(query.getText())\n",
    "        print(\"Retrieve scores...\")\n",
    "        scores = pagerank_model.getRanking(queryTxt)\n",
    "        irlist = evaluation.IRList(query, scores)\n",
    "        average_measure = evaluation.AveragePrecision(irlist)\n",
    "        print(\"Evaluate the scores.\")\n",
    "        average_prec = average_measure.eval(verbose=True)\n",
    "        print(\"Average precision: %f\" % average_prec)\n",
    "        print(20*'-')\n",
    "\n",
    "    query = qp.nextQuery()\n"
   ]
  },
  {
   "cell_type": "code",
   "execution_count": 14,
   "metadata": {
    "collapsed": false,
    "deletable": true,
    "editable": true
   },
   "outputs": [
    {
     "name": "stdout",
     "output_type": "stream",
     "text": [
      "Best PageRank params: {'parentsNbr': 5, 'baseModel': <modeles.Vectoriel object at 0x7f07667ed828>, 'seedsNbr': 100, 'index': <indexation.Index object at 0x7f0798e79f98>}\n"
     ]
    }
   ],
   "source": [
    "pagerank_params_grid = {'index':[idx], \n",
    "                        'baseModel':[modeles.Vectoriel(idx, tfidfWeighter), modeles.Vectoriel(idx, binWeighter)],\n",
    "                        'seedsNbr':np.logspace(1, 3, num=3, dtype=int), \n",
    "                        'parentsNbr':np.linspace(0, 100, num=3, dtype=int)}\n",
    "\n",
    "best_pagerank_params = {'index':idx, 'baseModel':modeles.Vectoriel(idx, tfidfWeighter),\n",
    "                        'seedsNbr':100,\n",
    "                       'parentsNbr':5}\n",
    "#best_pagerank_params = evaluation.gridsearch(modeles.PageRankModel, pagerank_params_grid, \n",
    "#             q_train, evaluation.AveragePrecision, verbose=1)\n",
    "\n",
    "print(\"Best PageRank params:\", best_pagerank_params)\n",
    "pagerank_model = modeles.PageRankModel(**best_pagerank_params)"
   ]
  },
  {
   "cell_type": "markdown",
   "metadata": {
    "deletable": true,
    "editable": true
   },
   "source": [
    "## HITS"
   ]
  },
  {
   "cell_type": "code",
   "execution_count": 16,
   "metadata": {
    "collapsed": false,
    "deletable": true,
    "editable": true,
    "scrolled": false
   },
   "outputs": [
    {
     "name": "stdout",
     "output_type": "stream",
     "text": [
      "\n",
      "###### Testing evaluation.PrecisionRecallMeasure: ###### \n",
      "Searching for query # [7, 29, 30]\n",
      "\n",
      "Query: Query {id=7, txt='I am interested in distributed algorithms - concurrent programs in\n",
      "which processes communicate and synchronize by using message passing.\n",
      "Areas of particular interest include fault-tolerance and techniques\n",
      "for understanding the correctness of these algorithms.\n",
      "', relevances=[1198, 1338, 1877, 1960, 2150, 2228, 2256, 2280, 2320, 2342, 2376, 2482, 2578, 2597, 2618, 2685, 2700, 2777, 2865, 2866, 2895, 2912, 2941, 3043, 3082, 3128, 3141, 3148]}\n",
      "Retrieve scores...\n",
      "219 nodes in the sub-graph\n",
      "This query has 28 relevant results\n",
      "   i |found| precision | recall\n",
      "    5|   1 | 0.200000  |0.035714\n",
      "   75|   2 | 0.026667  |0.071429\n",
      "   76|   3 | 0.039474  |0.107143\n",
      "   77|   4 | 0.051948  |0.142857\n",
      "   78|   5 | 0.064103  |0.178571\n",
      "   80|   6 | 0.075000  |0.214286\n",
      "   81|   7 | 0.086420  |0.250000\n",
      "   85|   8 | 0.094118  |0.285714\n",
      "   86|   9 | 0.104651  |0.321429\n",
      "   99|  10 | 0.101010  |0.357143\n",
      "  108|  11 | 0.101852  |0.392857\n",
      "  109|  12 | 0.110092  |0.428571\n",
      "  114|  13 | 0.114035  |0.464286\n",
      "  121|  14 | 0.115702  |0.500000\n",
      "  123|  15 | 0.121951  |0.535714\n",
      "  135|  16 | 0.118519  |0.571429\n",
      "  137|  17 | 0.124088  |0.607143\n",
      "  147|  18 | 0.122449  |0.642857\n",
      "  148|  19 | 0.128378  |0.678571\n",
      "  152|  20 | 0.131579  |0.714286\n",
      "  154|  21 | 0.136364  |0.750000\n",
      "  159|  22 | 0.138365  |0.785714\n",
      "  169|  23 | 0.136095  |0.821429\n",
      "  198|  24 | 0.121212  |0.857143\n",
      "  206|  25 | 0.121359  |0.892857\n",
      "  210|  26 | 0.123810  |0.928571\n",
      "  216|  27 | 0.125000  |0.964286\n",
      "  217|  28 | 0.129032  |1.000000\n"
     ]
    },
    {
     "data": {
      "image/png": "[encoded data removed]",
      "text/plain": [
       "<matplotlib.figure.Figure at 0x7f07668c9630>"
      ]
     },
     "metadata": {},
     "output_type": "display_data"
    },
    {
     "name": "stdout",
     "output_type": "stream",
     "text": [
      "--------------------\n",
      "\n",
      "Query: Query {id=29, txt='Number-theoretic algorithms, especially involving prime number series,\n",
      "sieves, and Chinese Remainder theorem.\n",
      "', relevances=[377, 513, 610, 935, 1094, 1420, 1537, 1538, 1539, 1840, 1841, 1967, 2028, 2089, 2120, 2462, 2927, 2932, 3037]}\n",
      "Retrieve scores...\n",
      "64 nodes in the sub-graph\n",
      "This query has 19 relevant results\n",
      "   i |found| precision | recall\n",
      "   29|   1 | 0.034483  |0.052632\n",
      "   35|   2 | 0.057143  |0.105263\n",
      "   36|   3 | 0.083333  |0.157895\n",
      "   37|   4 | 0.108108  |0.210526\n",
      "   38|   5 | 0.131579  |0.263158\n",
      "   39|   6 | 0.153846  |0.315789\n",
      "   40|   7 | 0.175000  |0.368421\n",
      "   41|   8 | 0.195122  |0.421053\n",
      "   42|   9 | 0.214286  |0.473684\n",
      "   43|  10 | 0.232558  |0.526316\n",
      "   44|  11 | 0.250000  |0.578947\n",
      "   45|  12 | 0.266667  |0.631579\n",
      "   46|  13 | 0.282609  |0.684211\n",
      "   47|  14 | 0.297872  |0.736842\n",
      "   48|  15 | 0.312500  |0.789474\n",
      "   49|  16 | 0.326531  |0.842105\n",
      "   50|  17 | 0.340000  |0.894737\n",
      "   52|  18 | 0.346154  |0.947368\n",
      "   53|  19 | 0.358491  |1.000000\n"
     ]
    },
    {
     "data": {
      "image/png": "[encoded data removed]",
      "text/plain": [
       "<matplotlib.figure.Figure at 0x7f076e75f710>"
      ]
     },
     "metadata": {},
     "output_type": "display_data"
    },
    {
     "name": "stdout",
     "output_type": "stream",
     "text": [
      "--------------------\n",
      "\n",
      "Query: Query {id=30, txt='Articles on text formatting systems, including \"what you see is what you\n",
      "get\" systems.  Examples: t/nroff, scribe, bravo.\n",
      "', relevances=[1926, 2486, 2786, 2917]}\n",
      "Retrieve scores...\n",
      "187 nodes in the sub-graph\n",
      "This query has 4 relevant results\n",
      "   i |found| precision | recall\n",
      "  103|   1 | 0.009709  |0.250000\n",
      "  168|   2 | 0.011905  |0.500000\n",
      "  174|   3 | 0.017241  |0.750000\n",
      "  176|   4 | 0.022727  |1.000000\n"
     ]
    },
    {
     "data": {
      "image/png": "[encoded data removed]",
      "text/plain": [
       "<matplotlib.figure.Figure at 0x7f076e6eeeb8>"
      ]
     },
     "metadata": {},
     "output_type": "display_data"
    },
    {
     "name": "stdout",
     "output_type": "stream",
     "text": [
      "--------------------\n",
      "Done.\n"
     ]
    }
   ],
   "source": [
    "hits_model = modeles.HitsModel(idx, baseModel=vect, seedsNbr=20, parentsNbr=3)\n",
    "\n",
    "print(\"\\n###### Testing evaluation.PrecisionRecallMeasure: ###### \")\n",
    "queryChosen = [7, 29, 30]\n",
    "qp = QueryParserCACM(cacm_qry, cacm_rel)\n",
    "query = qp.nextQuery()\n",
    "print(\"Searching for query #\", queryChosen)\n",
    "while query is not None :\n",
    "    if int(query.getID()) in queryChosen:\n",
    "        print(\"\\nQuery:\", query)\n",
    "        queryTxt = stemmer.getTextRepresentation(query.getText())\n",
    "        print(\"Retrieve scores...\")\n",
    "        ranking = hits_model.getRanking(queryTxt)\n",
    "        irlist = evaluation.IRList(query, ranking)\n",
    "        precisRecall = evaluation.PrecisionRecallMeasure(irlist)\n",
    "        pr = precisRecall.eval(verbose=True, nbLevel=100) # (recall, precision)\n",
    "        precision = [p for r,p in pr]\n",
    "        recall = [r for r,p in pr]\n",
    "        plt.plot(recall, precision)\n",
    "        plt.title(\"Precision-Recall for query #\"+query.getID())\n",
    "        plt.show()\n",
    "        print(20*'-')\n",
    "\n",
    "\n",
    "    query = qp.nextQuery()\n",
    "print(\"Done.\")\n"
   ]
  },
  {
   "cell_type": "code",
   "execution_count": 19,
   "metadata": {
    "collapsed": false,
    "deletable": true,
    "editable": true
   },
   "outputs": [
    {
     "name": "stdout",
     "output_type": "stream",
     "text": [
      "Best HITS params: {'parentsNbr': 5, 'baseModel': <modeles.Vectoriel object at 0x7f07667df240>, 'seedsNbr': 100, 'index': <indexation.Index object at 0x7f0798e79f98>}\n"
     ]
    }
   ],
   "source": [
    "hits_params_grid = {'index':[idx], \n",
    "                        'baseModel':[modeles.Vectoriel(idx, tfidfWeighter), modeles.Vectoriel(idx, binWeighter)],\n",
    "                        'seedsNbr':[10, 20, 30], \n",
    "                        'parentsNbr':[0, 2, 10]}\n",
    "\n",
    "best_hits_params = {'index':idx, 'baseModel':modeles.Vectoriel(idx, tfidfWeighter),\n",
    "                        'seedsNbr':100,\n",
    "                       'parentsNbr':5}\n",
    "\n",
    "#best_hits_params = evaluation.gridsearch(modeles.HitsModel, hits_params_grid, \n",
    "#             q_train, evaluation.AveragePrecision, verbose=1)\n",
    "\n",
    "print(\"Best HITS params:\", best_hits_params)\n",
    "hits_model = modeles.HitsModel(**best_hits_params)"
   ]
  },
  {
   "cell_type": "code",
   "execution_count": 22,
   "metadata": {
    "collapsed": false,
    "deletable": true,
    "editable": true,
    "scrolled": true
   },
   "outputs": [
    {
     "name": "stdout",
     "output_type": "stream",
     "text": [
      "Testing on  [<query.Query object at 0x7f0766922668>, <query.Query object at 0x7f0770e16240>, <query.Query object at 0x7f0766922400>]\n",
      "[  0/  2] IRModel 'pagerank'\n",
      "577 nodes in the sub-graph\n",
      "581 nodes in the sub-graph\n",
      "598 nodes in the sub-graph\n",
      "Measure: measure\n",
      "(0.025210259790923062, 0.018090270925010945)\n",
      "[  1/  2] IRModel 'hits'\n",
      "577 nodes in the sub-graph\n",
      "iter 0\n",
      "iter 1\n",
      "iter 2\n",
      "iter 3\n",
      "iter 4\n",
      "iter 5\n",
      "iter 6\n",
      "iter 7\n",
      "iter 8\n",
      "iter 9\n",
      "581 nodes in the sub-graph\n",
      "iter 0\n",
      "iter 1\n",
      "iter 2\n",
      "iter 3\n",
      "iter 4\n",
      "iter 5\n",
      "iter 6\n",
      "iter 7\n",
      "iter 8\n",
      "iter 9\n",
      "598 nodes in the sub-graph\n",
      "iter 0\n",
      "iter 1\n",
      "iter 2\n",
      "iter 3\n",
      "iter 4\n",
      "iter 5\n",
      "iter 6\n",
      "iter 7\n",
      "iter 8\n",
      "iter 9\n",
      "Measure: measure\n",
      "(0.025073432872006737, 0.020728728333908306)\n",
      "{('pagerank', 'measure'): (0.025210259790923062, 0.018090270925010945), ('hits', 'measure'): (0.025073432872006737, 0.020728728333908306)}\n"
     ]
    }
   ],
   "source": [
    "\n",
    "irmodels = {'pagerank':modeles.PageRankModel(**best_pagerank_params),\n",
    "            'hits':modeles.HitsModel(**best_hits_params)}\n",
    "print(\"Testing on \", q_test)\n",
    "eval_models = evaluation.EvalIRModel(q_test, irmodels, {'measure':evaluation.AveragePrecision})\n",
    "scores = eval_models.eval(verbose=True)\n",
    "print(scores)"
   ]
  },
  {
   "cell_type": "markdown",
   "metadata": {
    "collapsed": true,
    "deletable": true,
    "editable": true
   },
   "source": [
    "## MetaModel "
   ]
  },
  {
   "cell_type": "code",
   "execution_count": 43,
   "metadata": {
    "collapsed": false,
    "scrolled": false
   },
   "outputs": [
    {
     "name": "stdout",
     "output_type": "stream",
     "text": [
      "Featurers: [<meta.DocLenFeaturer object at 0x7f0766567358>, <meta.QueryLenFeaturer object at 0x7f07665677b8>, <meta.FeaturerModel object at 0x7f07665670b8>, <meta.FeaturerModel object at 0x7f07665676a0>, <meta.FeaturerModel object at 0x7f0766567c50>]\n",
      "Train...\n",
      "Done.\n",
      "\n",
      "###### Testing evaluation.AveragePrecision: ###### \n",
      "Searching for query # [48 14  5] \n",
      "\n",
      "Query: Query {id=5, txt='I'd like papers on design and implementation of editing interfaces,\n",
      "window-managers, command interpreters, etc.  The essential issues are\n",
      "human interface design, with views on improvements to user efficiency,\n",
      "effectiveness and satisfaction.\n",
      "', relevances=[756, 1307, 1502, 2035, 2299, 2399, 2501, 2820]}\n",
      "Retrieve scores...\n",
      "Evaluate the scores.\n",
      "This query has 8 relevant results\n",
      "   i |found| precision\n",
      "   11|   1 | 0.090909\n",
      "   12|   2 | 0.166667\n",
      "   14|   3 | 0.214286\n",
      "   59|   4 | 0.067797\n",
      "  158|   5 | 0.031646\n",
      "  166|   6 | 0.036145\n",
      "  245|   7 | 0.028571\n",
      "  275|   8 | 0.029091\n",
      "Average precision: 0.083139\n",
      "--------------------\n",
      "Query: Query {id=14, txt='find all discussions of optimal implementations of sort algorithms for\n",
      "database management applications\n",
      "', relevances=[74, 117, 232, 776, 827, 850, 851, 852, 854, 855, 856, 857, 858, 860, 861, 862, 864, 865, 866, 1175, 1724, 1919, 1956, 1969, 1980, 1997, 2017, 2041, 2108, 2118, 2146, 2176, 2191, 2272, 2337, 2348, 2397, 2563, 2664, 2679, 2714, 2716, 3075, 3187]}\n",
      "Retrieve scores...\n",
      "Evaluate the scores.\n",
      "This query has 44 relevant results\n",
      "   i |found| precision\n",
      "    2|   1 | 0.500000\n",
      "    3|   2 | 0.666667\n",
      "    4|   3 | 0.750000\n",
      "   18|   4 | 0.222222\n",
      "   22|   5 | 0.227273\n",
      "   28|   6 | 0.214286\n",
      "   32|   7 | 0.218750\n",
      "   41|   8 | 0.195122\n",
      "   44|   9 | 0.204545\n",
      "   45|  10 | 0.222222\n",
      "   46|  11 | 0.239130\n",
      "   50|  12 | 0.240000\n",
      "   56|  13 | 0.232143\n",
      "   58|  14 | 0.241379\n",
      "   62|  15 | 0.241935\n",
      "   65|  16 | 0.246154\n",
      "   67|  17 | 0.253731\n",
      "   74|  18 | 0.243243\n",
      "   89|  19 | 0.213483\n",
      "   97|  20 | 0.206186\n",
      "  100|  21 | 0.210000\n",
      "  101|  22 | 0.217822\n",
      "  132|  23 | 0.174242\n",
      "  135|  24 | 0.177778\n",
      "  160|  25 | 0.156250\n",
      "  161|  26 | 0.161491\n",
      "  162|  27 | 0.166667\n",
      "  181|  28 | 0.154696\n",
      "  183|  29 | 0.158470\n",
      "  188|  30 | 0.159574\n",
      "  189|  31 | 0.164021\n",
      "  190|  32 | 0.168421\n",
      "  200|  33 | 0.165000\n",
      "  206|  34 | 0.165049\n",
      "  207|  35 | 0.169082\n",
      "  212|  36 | 0.169811\n",
      "  217|  37 | 0.170507\n",
      "  337|  38 | 0.112760\n",
      "  349|  39 | 0.111748\n",
      "  412|  40 | 0.097087\n",
      "  428|  41 | 0.095794\n",
      "  532|  42 | 0.078947\n",
      "  750|  43 | 0.057333\n",
      " 1694|  44 | 0.025974\n",
      "Average precision: 0.210614\n",
      "--------------------\n",
      "Query: Query {id=48, txt='The use of computer science principles (e.g. data structures, \n",
      "numerical methods) in generating optimization (e.g. linear programming)\n",
      "algorithms.  This includes issues of the Khachian (Russian, ellipsoidal)\n",
      "algorithm and complexity of such algorithms.\n",
      "', relevances=[1666, 1729, 1797, 1863, 2073, 2223, 2226, 2285, 2325, 2589]}\n",
      "Retrieve scores...\n",
      "Evaluate the scores.\n",
      "This query has 10 relevant results\n",
      "   i |found| precision\n",
      "    3|   1 | 0.333333\n",
      "    7|   2 | 0.285714\n",
      "    8|   3 | 0.375000\n",
      "    9|   4 | 0.444444\n",
      "   14|   5 | 0.357143\n",
      "   27|   6 | 0.222222\n",
      "   41|   7 | 0.170732\n",
      "   55|   8 | 0.145455\n",
      "   91|   9 | 0.098901\n",
      "  118|  10 | 0.084746\n",
      "Average precision: 0.251769\n",
      "--------------------\n",
      "Done.\n"
     ]
    }
   ],
   "source": [
    "import meta\n",
    "# 3 models:\n",
    "binWeighter = modeles.BinaryWeighter(idx)\n",
    "vect_binary = modeles.Vectoriel(idx, binWeighter)\n",
    "tfidfWeighter = modeles.TfidfWeighter(idx)\n",
    "vect_tfidf = modeles.Vectoriel(idx, tfidfWeighter)\n",
    "unigram = modeles.UnigramLanguage(**best_unigram_params)\n",
    "\n",
    "list_model = [vect_binary, vect_tfidf, unigram]\n",
    "list_featurers_model = [meta.FeaturerModel(idx, model) for model in list_model]\n",
    "list_featurers = [meta.DocLenFeaturer(idx), meta.QueryLenFeaturer(idx)] + list_featurers_model\n",
    "featurers = meta.FeaturerList(idx, list_featurers)\n",
    "meta_model = meta.MetaModel(idx, featurers, stemmer=stemmer)\n",
    "\n",
    "print(\"Train...\")\n",
    "meta_model.train(q_train, max_iter = 30, lr=0.01, regul_coef=2)\n",
    "print(\"Done.\")\n",
    "\n",
    "print(\"\\n###### Testing evaluation.AveragePrecision: ###### \")\n",
    "queryChosen = np.random.randint(1, 50, size=3)\n",
    "#queryChosen =[7, 10, 14, 29]#, 25, 26, 27, 42, 43] # lots of relevant results\n",
    "qp = QueryParserCACM(cacm_qry, cacm_rel)\n",
    "query = qp.nextQuery()\n",
    "print(\"Searching for query #\",queryChosen, \"\\n\")\n",
    "while query is not None :\n",
    "    if int(query.getID()) in queryChosen:\n",
    "        print(\"Query:\", query)\n",
    "        queryTxt = stemmer.getTextRepresentation(query.getText())\n",
    "        print(\"Retrieve scores...\")\n",
    "        scores = meta_model.getRanking(queryTxt)\n",
    "        irlist = evaluation.IRList(query, scores)\n",
    "        average_measure = evaluation.AveragePrecision(irlist)\n",
    "        print(\"Evaluate the scores.\")\n",
    "        average_prec = average_measure.eval(verbose=True)\n",
    "        print(\"Average precision: %f\" % average_prec)\n",
    "        print(20*'-')\n",
    "\n",
    "    query = qp.nextQuery()\n",
    "print(\"Done.\")\n"
   ]
  },
  {
   "cell_type": "code",
   "execution_count": 42,
   "metadata": {
    "collapsed": false
   },
   "outputs": [
    {
     "name": "stdout",
     "output_type": "stream",
     "text": [
      "Testing on 13 queries\n",
      "[  0/  3] IRModel 'vectoriel tfidf'\n",
      "Measure: measure\n",
      "(0.34530784767296796, 0.26687580930578647)\n",
      "[  1/  3] IRModel 'metamodel'\n",
      "Measure: measure\n",
      "(0.44687399015661422, 0.21751796837326173)\n",
      "[  2/  3] IRModel 'okapi'\n",
      "Measure: measure\n",
      "(0.42534931104965679, 0.24053126649934967)\n",
      "{('metamodel', 'measure'): (0.44687399015661422, 0.21751796837326173), ('vectoriel tfidf', 'measure'): (0.34530784767296796, 0.26687580930578647), ('okapi', 'measure'): (0.42534931104965679, 0.24053126649934967)}\n"
     ]
    }
   ],
   "source": [
    "\n",
    "irmodels = {'okapi':modeles.Okapi(**best_okapi_params),\n",
    "            'vectoriel tfidf':modeles.Vectoriel(idx, tfidfWeighter),\n",
    "             'metamodel':meta_model}\n",
    "print(\"Testing on %d queries\" % len(q_test))\n",
    "eval_models = evaluation.EvalIRModel(q_test, irmodels, {'measure':evaluation.AveragePrecision})\n",
    "scores = eval_models.eval(verbose=True)\n",
    "print(scores)"
   ]
  },
  {
   "cell_type": "code",
   "execution_count": null,
   "metadata": {
    "collapsed": true
   },
   "outputs": [],
   "source": []
  }
 ],
 "metadata": {
  "kernelspec": {
   "display_name": "Python 3",
   "language": "python",
   "name": "python3"
  },
  "language_info": {
   "codemirror_mode": {
    "name": "ipython",
    "version": 3
   },
   "file_extension": ".py",
   "mimetype": "text/x-python",
   "name": "python",
   "nbconvert_exporter": "python",
   "pygments_lexer": "ipython3",
   "version": "3.5.2"
  }
 },
 "nbformat": 4,
 "nbformat_minor": 2
}
