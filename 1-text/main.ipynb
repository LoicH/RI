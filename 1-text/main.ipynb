{
 "cells": [
  {
   "cell_type": "markdown",
   "metadata": {
    "deletable": true,
    "editable": true
   },
   "source": [
    "# Information Retrieval"
   ]
  },
  {
   "cell_type": "code",
   "execution_count": 1,
   "metadata": {
    "collapsed": false,
    "deletable": true,
    "editable": true
   },
   "outputs": [],
   "source": [
    "import ParserCACM\n",
    "import TextRepresenter\n",
    "import indexation\n",
    "import modeles\n",
    "from query import QueryParserCACM\n",
    "import evaluation\n",
    "import os\n",
    "import matplotlib.pyplot as plt\n",
    "%matplotlib inline\n",
    "import numpy as np\n",
    "import operator\n",
    "\n",
    "%load_ext autoreload # Auto reload the imported modules when running cells\n",
    "%autoreload 2\n",
    "\n",
    "\"\"\" Some info to remember when testing:\n",
    "- Query 10 is about parallel computation\n",
    "- Doc 46 is about parallelism too\n",
    "\"\"\"\n",
    "\n",
    "# Constants:\n",
    "srcFolder = \"cacm\" \n",
    "srcFile = \"cacm.txt\"\n",
    "qryFile = \"cacm.qry\"\n",
    "relFile = \"cacm.rel\"\n",
    "gendata = \"gendata\" #output folder\n",
    "indexName = \"cacm\"\n",
    "docId = 46\n",
    "queryId = np.random.randint(1,60)\n",
    "wordTest = \"logic\"\n",
    "\n",
    "cacm_txt = os.path.join(srcFolder, srcFile)\n",
    "cacm_qry = os.path.join(srcFolder, qryFile)\n",
    "cacm_rel = os.path.join(srcFolder, relFile)"
   ]
  },
  {
   "cell_type": "markdown",
   "metadata": {
    "deletable": true,
    "editable": true
   },
   "source": [
    "## Testing the indexation:"
   ]
  },
  {
   "cell_type": "code",
   "execution_count": 2,
   "metadata": {
    "collapsed": false,
    "deletable": true,
    "editable": true
   },
   "outputs": [
    {
     "name": "stdout",
     "output_type": "stream",
     "text": [
      "Performing the indexation...\n",
      "1st pass: build the index...\n",
      "2nd pass: build the inverted index...\n",
      "Finished.\n",
      "CPU times: user 4.35 s, sys: 596 ms, total: 4.94 s\n",
      "Wall time: 5.96 s\n"
     ]
    }
   ],
   "source": [
    "# Construct the index:\n",
    "idx = indexation.Index(indexName, gendata)\n",
    "stemmer = TextRepresenter.PorterStemmer()\n",
    "%time idx.indexation(cacm_txt, ParserCACM.ParserCACM(), stemmer)"
   ]
  },
  {
   "cell_type": "code",
   "execution_count": 3,
   "metadata": {
    "collapsed": false,
    "deletable": true,
    "editable": true
   },
   "outputs": [
    {
     "name": "stdout",
     "output_type": "stream",
     "text": [
      "\n",
      "###### Testing the index: ###### \n",
      "Retrieve common stems in doc 46:\n",
      "['program', 'problem', 'programm', 'logic', 'stretch', 'requir', 'parallel', 'independ', 'system', 'number']\n",
      "Should look like\n",
      "> “The tendency towards increased parallelism in\n",
      "> computers is noted.  Exploitation of this parallelism\n",
      "> presents a number of new problems in machine design\n",
      "> and in programming systems...”\n",
      "\n",
      "Retrieve docs that contains 'logic'\n",
      "Should include doc 63 and 46: True\n"
     ]
    }
   ],
   "source": [
    "print(\"\\n###### Testing the index: ###### \")\n",
    "print(\"Retrieve common stems in doc %d:\" % docId)\n",
    "stems = sorted(idx.getTfsForDoc(docId).items(), key=operator.itemgetter(1), reverse=True)\n",
    "print([stem for stem, freq in stems[:10]])\n",
    "print(\"\"\"Should look like\n",
    "> “The tendency towards increased parallelism in\n",
    "> computers is noted.  Exploitation of this parallelism\n",
    "> presents a number of new problems in machine design\n",
    "> and in programming systems...”\"\"\")\n",
    "\n",
    "print(\"\\nRetrieve docs that contains 'logic'\")\n",
    "docs = idx.getTfsForStem(\"logic\") \n",
    "print(\"Should include doc 63 and 46:\", (63 in docs.keys() and 46 in docs.keys()))"
   ]
  },
  {
   "cell_type": "code",
   "execution_count": 4,
   "metadata": {
    "collapsed": true,
    "deletable": true,
    "editable": true
   },
   "outputs": [],
   "source": [
    "# Choosing what to test:\n",
    "test_binaryweighter = True\n",
    "test_tfidfweighter = True\n",
    "test_queryparser = True\n",
    "test_PRrecallmeasure = True\n",
    "test_averageprecision = True\n",
    "test_eval_ir_model = True\n",
    "test_unigram_model = True"
   ]
  },
  {
   "cell_type": "markdown",
   "metadata": {
    "deletable": true,
    "editable": true
   },
   "source": [
    "## Testing the weighters:"
   ]
  },
  {
   "cell_type": "code",
   "execution_count": 22,
   "metadata": {
    "collapsed": false,
    "deletable": true,
    "editable": true
   },
   "outputs": [
    {
     "name": "stdout",
     "output_type": "stream",
     "text": [
      "\n",
      "#####Testing BinaryWeighter: #####\n",
      "bw.getDocWeightsForDoc( 46 ): {'independ': 1, 'system': 1, 'number': 1, 'scalzi': 1, 'burden': 1, 'discuss': 1, 'problem': 3, 'execut': 1, 'tendenc': 1, 'exploit': 1, 'minimum': 1, 'logic': 2, 'comput': 1, 'lowri': 1, 'met': 1, 'success': 1, 'combin': 1, 'techniqu': 1, 'note': 1, 'mcdonough': 1, 'multiprogramm': 1, 'increas': 1, 'stretch': 2, 'requir': 2, 'design': 1, 'supervisori': 1, 'codd': 1, 'balanc': 1, 'describ': 1, 'built': 1, 'feasibl': 1, 'present': 1, 'carefulli': 1, 'program': 4, 'place': 1, 'machin': 1, 'compil': 1, 'concurr': 1, 'parallel': 2, 'programm': 3, 'consider': 1}\n",
      "\n",
      "bw.getDocWeightsForStem('logic'): {2817: 1, 3154: 6, 1030: 1, 2568: 1, 2313: 2, 3082: 1, 2060: 1, 2322: 1, 2067: 1, 22: 1, 2845: 1, 30: 1, 2848: 3, 2851: 1, 2054: 1, 3111: 1, 1834: 1, 1324: 1, 46: 2, 1327: 1, 2952: 1, 2871: 4, 3133: 5, 63: 2, 320: 8, 1602: 2, 2230: 1, 2888: 1, 3147: 1, 1101: 1, 2127: 2, 850: 1, 595: 2, 753: 1, 2145: 1, 2146: 2, 1381: 1, 2406: 3, 1383: 2, 1103: 1, 2931: 5, 1908: 1, 1398: 1, 3194: 1, 1916: 1, 2943: 1, 1155: 2, 1462: 1, 1928: 4, 1677: 1, 1718: 1, 1170: 1, 1173: 1, 2209: 1, 1700: 1, 2726: 3, 679: 2, 1195: 1, 1965: 1, 1456: 1, 2227: 1, 2484: 1, 1974: 6, 1208: 1, 1465: 1, 3008: 1, 1788: 1, 202: 1, 971: 1, 2765: 1, 1235: 1, 1749: 1, 1188: 1, 3034: 2, 847: 1, 1786: 1, 2341: 1, 2273: 1, 1255: 1, 892: 1, 2794: 1, 1515: 1, 1261: 1, 2289: 3, 2035: 1, 1271: 1, 250: 1, 2812: 2, 2046: 1}\n",
      "\n",
      "bw.getWeightsForQuery(' Parallel languages; languages for parallel computation'): {'parallel': 1, 'comput': 1, 'languag': 1}\n",
      "\n",
      "#####Testing Vectoriel with BinaryWeighter: #####\n",
      "Top 10 documents for the previous query:\n",
      "Should include some of the following docs: 1043, 1188, 1306, \n",
      "    1358, 1396, 1491, 1923, 2246, 2316, 2527, 2699, 2710, 2715, 2716, \n",
      "    2906, 2923, 2956, 3073, 3150, \n",
      "[('2785', 0.6196773353931867), ('2685', 0.60522753266880247), ('1306', 0.58950634474656327), ('1262', 0.55708601453115558), ('1366', 0.53978144024077934), ('1471', 0.53333333333333333), ('1496', 0.48686449556014766), ('1659', 0.47628967220784024), ('93', 0.47140452079103173), ('830', 0.47140452079103173)]\n"
     ]
    }
   ],
   "source": [
    "query = stemmer.getTextRepresentation(\" Parallel languages; languages for parallel computation\")\n",
    "\n",
    "if test_binaryweighter:\n",
    "    print(\"\\n#####Testing BinaryWeighter: #####\")\n",
    "\n",
    "    bw = modeles.BinaryWeighter(idx)\n",
    "    print(\"bw.getDocWeightsForDoc(\",docId,\"):\", \n",
    "        bw.getDocWeightsForDoc(docId))\n",
    "    print(\"\\nbw.getDocWeightsForStem('\"+wordTest+\"'):\", \n",
    "        bw.getDocWeightsForStem(wordTest))\n",
    "    print(\"\\nbw.getWeightsForQuery(' Parallel languages; languages for parallel computation'):\", \n",
    "        bw.getWeightsForQuery(query))\n",
    "\n",
    "    print(\"\\n#####Testing Vectoriel with BinaryWeighter: #####\")\n",
    "    vect = modeles.Vectoriel(idx, bw)\n",
    "    print(\"Top 10 documents for the previous query:\")\n",
    "    print(\"\"\"Should include some of the following docs: 1043, 1188, 1306, \n",
    "    1358, 1396, 1491, 1923, 2246, 2316, 2527, 2699, 2710, 2715, 2716, \n",
    "    2906, 2923, 2956, 3073, 3150, \"\"\")\n",
    "    print(vect.getRanking(query)[:10])\n",
    "else:\n",
    "    print(\"\\n##### Skipping the test of BinaryWeighter #####\")\n",
    "    "
   ]
  },
  {
   "cell_type": "code",
   "execution_count": 6,
   "metadata": {
    "collapsed": false,
    "deletable": true,
    "editable": true
   },
   "outputs": [
    {
     "name": "stdout",
     "output_type": "stream",
     "text": [
      "\n",
      "###### Testing TfidfWeighter: ###### \n",
      "tfidfWeighter.getDocWeightsForDoc( 46 ): {'independ': 1, 'system': 1, 'number': 1, 'scalzi': 1, 'burden': 1, 'discuss': 1, 'problem': 3, 'execut': 1, 'tendenc': 1, 'exploit': 1, 'minimum': 1, 'logic': 2, 'comput': 1, 'lowri': 1, 'met': 1, 'success': 1, 'combin': 1, 'techniqu': 1, 'note': 1, 'mcdonough': 1, 'multiprogramm': 1, 'increas': 1, 'stretch': 2, 'requir': 2, 'design': 1, 'supervisori': 1, 'codd': 1, 'balanc': 1, 'describ': 1, 'built': 1, 'feasibl': 1, 'present': 1, 'carefulli': 1, 'program': 4, 'place': 1, 'machin': 1, 'compil': 1, 'concurr': 1, 'parallel': 2, 'programm': 3, 'consider': 1}\n",
      "\n",
      "tfidfWeighter.getDocWeightsForStem(\"logic\"): {2817: 1, 3154: 6, 1030: 1, 2568: 1, 2313: 2, 3082: 1, 2060: 1, 2322: 1, 2067: 1, 22: 1, 2845: 1, 30: 1, 2848: 3, 2851: 1, 2054: 1, 3111: 1, 1834: 1, 1324: 1, 46: 2, 1327: 1, 2952: 1, 2871: 4, 3133: 5, 63: 2, 320: 8, 1602: 2, 2230: 1, 2888: 1, 3147: 1, 1101: 1, 2127: 2, 850: 1, 595: 2, 753: 1, 2145: 1, 2146: 2, 1381: 1, 2406: 3, 1383: 2, 1103: 1, 2931: 5, 1908: 1, 1398: 1, 3194: 1, 1916: 1, 2943: 1, 1155: 2, 1462: 1, 1928: 4, 1677: 1, 1718: 1, 1170: 1, 1173: 1, 2209: 1, 1700: 1, 2726: 3, 679: 2, 1195: 1, 1965: 1, 1456: 1, 2227: 1, 2484: 1, 1974: 6, 1208: 1, 1465: 1, 3008: 1, 1788: 1, 202: 1, 971: 1, 2765: 1, 1235: 1, 1749: 1, 1188: 1, 3034: 2, 847: 1, 1786: 1, 2341: 1, 2273: 1, 1255: 1, 892: 1, 2794: 1, 1515: 1, 1261: 1, 2289: 3, 2035: 1, 1271: 1, 250: 1, 2812: 2, 2046: 1}\n",
      "\n",
      "tfidfWeighter.getWeightsForQuery(query): {'parallel': 3.7154464814986583, 'comput': 1.2477816381451639, 'languag': 2.063342122745655}\n",
      "\n",
      "###### Testing Vectoriel with TfidfWeighter: ###### \n",
      "Top 10 documents for the query:\n",
      "[('2785', 0.58402818133982293), ('1262', 0.55022124789918558), ('2685', 0.4705180276134806), ('141', 0.4194149275774155), ('2664', 0.41617615379853456), ('2973', 0.40635424019291577), ('1306', 0.39507197568948604), ('1471', 0.3883464830933987), ('392', 0.37513611553650089), ('950', 0.37351311122657732)]\n"
     ]
    }
   ],
   "source": [
    "tfidfWeighter = modeles.TfidfWeighter(idx)\n",
    "vect = modeles.Vectoriel(idx, tfidfWeighter)\n",
    "\n",
    "if test_tfidfweighter:\n",
    "    print(\"\\n###### Testing TfidfWeighter: ###### \")\n",
    "    print(\"tfidfWeighter.getDocWeightsForDoc(\", docId, \"):\",\n",
    "         tfidfWeighter.getDocWeightsForDoc(docId))\n",
    "    print(\"\\ntfidfWeighter.getDocWeightsForStem(\\\"logic\\\"):\",\n",
    "         tfidfWeighter.getDocWeightsForStem(wordTest))\n",
    "    print(\"\\ntfidfWeighter.getWeightsForQuery(query):\",\n",
    "         tfidfWeighter.getWeightsForQuery(query))\n",
    "    print(\"\\n###### Testing Vectoriel with TfidfWeighter: ###### \")\n",
    "    print(\"Top 10 documents for the query:\")\n",
    "    print(vect.getRanking(query)[:10])\n",
    "else:\n",
    "    print(\"\\n##### Skipping the test of TfidfWeighter #####\")"
   ]
  },
  {
   "cell_type": "markdown",
   "metadata": {
    "deletable": true,
    "editable": true
   },
   "source": [
    "## Testing the QueryParser"
   ]
  },
  {
   "cell_type": "code",
   "execution_count": 7,
   "metadata": {
    "collapsed": false,
    "deletable": true,
    "editable": true,
    "scrolled": true
   },
   "outputs": [
    {
     "name": "stdout",
     "output_type": "stream",
     "text": [
      "\n",
      "###### Testing QueryParserCACM: ###### \n",
      "Searching for query #42:\n",
      "Query: Query {id=42, txt='Computer performance evaluation techniques using pattern recognition\n",
      "and clustering.\n",
      "', relevances=[1069, 1518, 1572, 1653, 1805, 1827, 1884, 2022, 2085, 2151, 2247, 2318, 2344, 2522, 2542, 2749, 2951, 2984, 3048, 3072]}\n",
      "\n",
      "Compute scores:\n",
      "[('2641', 0.40936316959576724), ('204', 0.39313358980794361), ('2494', 0.37363326333172714), ('462', 0.35447425092083429), ('2231', 0.34979238253191614), ('1653', 0.33104046921205771), ('2545', 0.3112134218886618), ('2402', 0.31057123931147884), ('2019', 0.28384045480120457), ('2942', 0.27690417154897301)]\n",
      "Done.\n"
     ]
    }
   ],
   "source": [
    "if test_queryparser:\n",
    "    print(\"\\n###### Testing QueryParserCACM: ###### \")\n",
    "    qp = QueryParserCACM(cacm_qry, cacm_rel)\n",
    "    query = qp.nextQuery()\n",
    "    print(\"Searching for query #%d:\" % queryId)\n",
    "    while query is not None and query.getID() != str(queryId):\n",
    "        #print(query)\n",
    "        #print(20*'-')\n",
    "        query = qp.nextQuery()\n",
    "\n",
    "    print(\"Query:\", query)\n",
    "    queryTxt = stemmer.getTextRepresentation(query.getText())\n",
    "    print(\"\\nCompute scores:\")\n",
    "    scores = vect.getRanking(queryTxt)\n",
    "    print(scores[:10])\n",
    "    print(\"Done.\")\n",
    "else:\n",
    "    print(\"\\n##### Skipping the test of QueryParserCACM #####\")"
   ]
  },
  {
   "cell_type": "markdown",
   "metadata": {
    "deletable": true,
    "editable": true
   },
   "source": [
    "## Testing measures:\n"
   ]
  },
  {
   "cell_type": "code",
   "execution_count": 29,
   "metadata": {
    "collapsed": false,
    "deletable": true,
    "editable": true,
    "scrolled": false
   },
   "outputs": [
    {
     "name": "stdout",
     "output_type": "stream",
     "text": [
      "\n",
      "###### Testing evaluation.PrecisionRecallMeasure: ###### \n",
      "Searching for query # [10 32 15  9  3 15 44 22  6 30]\n",
      "Query: Query {id=3, txt='Intermediate languages used in construction of multi-targeted compilers; TCOLL\n",
      "', relevances=[1134, 1613, 1807, 1947, 2290, 2923]}\n",
      "Retrieve scores...\n",
      "CPU times: user 228 ms, sys: 64 ms, total: 292 ms\n",
      "Wall time: 348 ms\n",
      "Create PrecisionRecallMeasure object\n",
      "Evaluate the scores.\n",
      "This query has 6 relevant results\n",
      "   i |found| precision | recall\n",
      "   10|   1 | 0.100000  |0.166667\n",
      "  136|   2 | 0.014706  |0.333333\n",
      "  137|   3 | 0.021898  |0.500000\n",
      "  261|   4 | 0.015326  |0.666667\n",
      "  319|   5 | 0.015674  |0.833333\n",
      "  368|   6 | 0.016304  |1.000000\n"
     ]
    },
    {
     "data": {
      "image/png": "[encoded data removed]",
      "text/plain": [
       "<matplotlib.figure.Figure at 0x7f4a526b2c88>"
      ]
     },
     "metadata": {},
     "output_type": "display_data"
    },
    {
     "name": "stdout",
     "output_type": "stream",
     "text": [
      "--------------------\n",
      "Query: Query {id=6, txt='Interested in articles on robotics, motion planning particularly the\n",
      "geometric and combinatorial aspects.  We are not interested in the\n",
      "dynamics of arm motion.\n",
      "', relevances=[1543, 2078, 2828]}\n",
      "Retrieve scores...\n",
      "CPU times: user 288 ms, sys: 136 ms, total: 424 ms\n",
      "Wall time: 377 ms\n",
      "Create PrecisionRecallMeasure object\n",
      "Evaluate the scores.\n",
      "This query has 3 relevant results\n",
      "   i |found| precision | recall\n",
      "   16|   1 | 0.062500  |0.333333\n",
      "   17|   2 | 0.117647  |0.666667\n",
      "   62|   3 | 0.048387  |1.000000\n"
     ]
    },
    {
     "data": {
      "image/png": "[encoded data removed]",
      "text/plain": [
       "<matplotlib.figure.Figure at 0x7f4a52b016d8>"
      ]
     },
     "metadata": {},
     "output_type": "display_data"
    },
    {
     "name": "stdout",
     "output_type": "stream",
     "text": [
      "--------------------\n",
      "Query: Query {id=9, txt='Security considerations in local networks, network operating systems,\n",
      "and distributed systems.\n",
      "', relevances=[2372, 2632, 2870, 2876, 3068, 3111, 3128, 3158, 3177]}\n",
      "Retrieve scores...\n",
      "CPU times: user 284 ms, sys: 164 ms, total: 448 ms\n",
      "Wall time: 375 ms\n",
      "Create PrecisionRecallMeasure object\n",
      "Evaluate the scores.\n",
      "This query has 9 relevant results\n",
      "   i |found| precision | recall\n",
      "    1|   1 | 1.000000  |0.111111\n",
      "    3|   2 | 0.666667  |0.222222\n",
      "   11|   3 | 0.272727  |0.333333\n",
      "   17|   4 | 0.235294  |0.444444\n",
      "   18|   5 | 0.277778  |0.555556\n",
      "   38|   6 | 0.157895  |0.666667\n",
      "  125|   7 | 0.056000  |0.777778\n",
      "  129|   8 | 0.062016  |0.888889\n",
      "  349|   9 | 0.025788  |1.000000\n"
     ]
    },
    {
     "data": {
      "image/png": "[encoded data removed]",
      "text/plain": [
       "<matplotlib.figure.Figure at 0x7f4a5269f8d0>"
      ]
     },
     "metadata": {},
     "output_type": "display_data"
    },
    {
     "name": "stdout",
     "output_type": "stream",
     "text": [
      "--------------------\n",
      "Query: Query {id=10, txt='Parallel languages; languages for parallel computation\n",
      "', relevances=[46, 141, 392, 950, 1158, 1198, 1262, 1380, 1471, 1601, 1613, 1747, 1795, 1811, 2060, 2150, 2256, 2289, 2342, 2376, 2433, 2618, 2664, 2685, 2700, 2714, 2777, 2785, 2851, 2895, 2896, 2912, 3039, 3075, 3156]}\n",
      "Retrieve scores...\n",
      "CPU times: user 276 ms, sys: 156 ms, total: 432 ms\n",
      "Wall time: 372 ms\n",
      "Create PrecisionRecallMeasure object\n",
      "Evaluate the scores.\n",
      "This query has 35 relevant results\n",
      "   i |found| precision | recall\n",
      "    1|   1 | 1.000000  |0.028571\n",
      "    2|   2 | 1.000000  |0.057143\n",
      "    4|   3 | 0.750000  |0.085714\n",
      "    6|   4 | 0.666667  |0.114286\n",
      "   12|   5 | 0.416667  |0.142857\n",
      "   29|   6 | 0.206897  |0.171429\n",
      "   47|   7 | 0.148936  |0.200000\n",
      "   66|   8 | 0.121212  |0.228571\n",
      "   92|   9 | 0.097826  |0.257143\n",
      "   97|  10 | 0.103093  |0.285714\n",
      "   99|  11 | 0.111111  |0.314286\n",
      "  132|  12 | 0.090909  |0.342857\n",
      "  135|  13 | 0.096296  |0.371429\n",
      "  143|  14 | 0.097902  |0.400000\n",
      "  148|  15 | 0.101351  |0.428571\n",
      "  184|  16 | 0.086957  |0.457143\n",
      "  196|  17 | 0.086735  |0.485714\n",
      "  214|  18 | 0.084112  |0.514286\n",
      "  341|  19 | 0.055718  |0.542857\n",
      "  355|  20 | 0.056338  |0.571429\n",
      "  394|  21 | 0.053299  |0.600000\n",
      "  428|  22 | 0.051402  |0.628571\n",
      "  445|  23 | 0.051685  |0.657143\n",
      "  459|  24 | 0.052288  |0.685714\n",
      "  495|  25 | 0.050505  |0.714286\n",
      "  502|  26 | 0.051793  |0.742857\n",
      "  532|  27 | 0.050752  |0.771429\n",
      "  976|  28 | 0.028689  |0.800000\n",
      " 1032|  29 | 0.028101  |0.828571\n",
      " 1909|  30 | 0.015715  |0.857143\n",
      " 1941|  31 | 0.015971  |0.885714\n",
      " 1980|  32 | 0.016162  |0.914286\n",
      " 2670|  33 | 0.012360  |0.942857\n",
      " 2711|  34 | 0.012541  |0.971429\n",
      " 2930|  35 | 0.011945  |1.000000\n"
     ]
    },
    {
     "data": {
      "image/png": "[encoded data removed]",
      "text/plain": [
       "<matplotlib.figure.Figure at 0x7f4a54b1f630>"
      ]
     },
     "metadata": {},
     "output_type": "display_data"
    },
    {
     "name": "stdout",
     "output_type": "stream",
     "text": [
      "--------------------\n",
      "Query: Query {id=15, txt='Find all discussions of horizontal microcode optimization with special\n",
      "emphasis on optimization of loops and global optimization.\n",
      "', relevances=[1231, 1551, 1613, 1947, 2263, 2495, 2598, 2685, 2701, 2880]}\n",
      "Retrieve scores...\n",
      "CPU times: user 288 ms, sys: 176 ms, total: 464 ms\n",
      "Wall time: 428 ms\n",
      "Create PrecisionRecallMeasure object\n",
      "Evaluate the scores.\n",
      "This query has 10 relevant results\n",
      "   i |found| precision | recall\n",
      "    4|   1 | 0.250000  |0.100000\n",
      "   21|   2 | 0.095238  |0.200000\n",
      "   23|   3 | 0.130435  |0.300000\n",
      "   47|   4 | 0.085106  |0.400000\n",
      "   48|   5 | 0.104167  |0.500000\n",
      "   53|   6 | 0.113208  |0.600000\n",
      "  128|   7 | 0.054688  |0.700000\n",
      "  310|   8 | 0.025806  |0.800000\n",
      " 2252|   9 | 0.003996  |0.900000\n",
      " 2659|  10 | 0.003761  |1.000000\n"
     ]
    },
    {
     "data": {
      "image/png": "[encoded data removed]",
      "text/plain": [
       "<matplotlib.figure.Figure at 0x7f4a52680128>"
      ]
     },
     "metadata": {},
     "output_type": "display_data"
    },
    {
     "name": "stdout",
     "output_type": "stream",
     "text": [
      "--------------------\n",
      "Query: Query {id=22, txt='I am interested in hidden-line and hidden-surface algorithms for\n",
      "cylinders, toroids, spheres, and cones.  This is a rather specialized\n",
      "topic in computer graphics.\n",
      "', relevances=[2369, 2384, 2441, 2473, 2564, 2637, 2638, 2678, 2692, 2751, 2760, 2761, 2827, 2828, 2829, 3116, 3149]}\n",
      "Retrieve scores...\n",
      "CPU times: user 228 ms, sys: 188 ms, total: 416 ms\n",
      "Wall time: 362 ms\n",
      "Create PrecisionRecallMeasure object\n",
      "Evaluate the scores.\n",
      "This query has 17 relevant results\n",
      "   i |found| precision | recall\n",
      "    1|   1 | 1.000000  |0.058824\n",
      "    2|   2 | 1.000000  |0.117647\n",
      "    3|   3 | 1.000000  |0.176471\n",
      "    5|   4 | 0.800000  |0.235294\n",
      "    6|   5 | 0.833333  |0.294118\n",
      "    7|   6 | 0.857143  |0.352941\n",
      "    8|   7 | 0.875000  |0.411765\n",
      "    9|   8 | 0.888889  |0.470588\n",
      "   10|   9 | 0.900000  |0.529412\n",
      "   13|  10 | 0.769231  |0.588235\n",
      "   16|  11 | 0.687500  |0.647059\n",
      "   25|  12 | 0.480000  |0.705882\n",
      "   32|  13 | 0.406250  |0.764706\n",
      "   33|  14 | 0.424242  |0.823529\n",
      "  147|  15 | 0.102041  |0.882353\n",
      "  325|  16 | 0.049231  |0.941176\n",
      "  745|  17 | 0.022819  |1.000000\n"
     ]
    },
    {
     "data": {
      "image/png": "[encoded data removed]",
      "text/plain": [
       "<matplotlib.figure.Figure at 0x7f4a52263630>"
      ]
     },
     "metadata": {},
     "output_type": "display_data"
    },
    {
     "name": "stdout",
     "output_type": "stream",
     "text": [
      "--------------------\n",
      "Query: Query {id=30, txt='Articles on text formatting systems, including \"what you see is what you\n",
      "get\" systems.  Examples: t/nroff, scribe, bravo.\n",
      "', relevances=[1926, 2486, 2786, 2917]}\n",
      "Retrieve scores...\n",
      "CPU times: user 248 ms, sys: 168 ms, total: 416 ms\n",
      "Wall time: 354 ms\n",
      "Create PrecisionRecallMeasure object\n",
      "Evaluate the scores.\n",
      "This query has 4 relevant results\n",
      "   i |found| precision | recall\n",
      "    1|   1 | 1.000000  |0.250000\n",
      "   20|   2 | 0.100000  |0.500000\n",
      "   77|   3 | 0.038961  |0.750000\n",
      "   85|   4 | 0.047059  |1.000000\n"
     ]
    },
    {
     "data": {
      "image/png": "[encoded data removed]",
      "text/plain": [
       "<matplotlib.figure.Figure at 0x7f4a52b18160>"
      ]
     },
     "metadata": {},
     "output_type": "display_data"
    },
    {
     "name": "stdout",
     "output_type": "stream",
     "text": [
      "--------------------\n",
      "Query: Query {id=32, txt='I'd like to find articles describing graph algorithms that are based on\n",
      "the eigenvalue decomposition (or singular value decomposition) of the\n",
      "ajacency matrix for the graph.  I'm especially interested in any heuristic\n",
      "algorithms for graph coloring and graph isomorphism using this method.\n",
      "', relevances=[366, 1145, 3139]}\n",
      "Retrieve scores...\n",
      "CPU times: user 264 ms, sys: 148 ms, total: 412 ms\n",
      "Wall time: 360 ms\n",
      "Create PrecisionRecallMeasure object\n",
      "Evaluate the scores.\n",
      "This query has 3 relevant results\n",
      "   i |found| precision | recall\n",
      "    1|   1 | 1.000000  |0.333333\n",
      "   14|   2 | 0.142857  |0.666667\n",
      "  127|   3 | 0.023622  |1.000000\n"
     ]
    },
    {
     "data": {
      "image/png": "[encoded data removed]",
      "text/plain": [
       "<matplotlib.figure.Figure at 0x7f4a54b564a8>"
      ]
     },
     "metadata": {},
     "output_type": "display_data"
    },
    {
     "name": "stdout",
     "output_type": "stream",
     "text": [
      "--------------------\n",
      "Query: Query {id=44, txt='Texture analysis by computer.\tDigitized texture analysis.  Texture\n",
      "synthesis. Perception of texture.\n",
      "', relevances=[1804, 1891, 2004, 2382, 2514, 2523, 2547, 2687, 2751, 2771, 2827, 2829, 2910, 2913, 2924, 3013, 3047]}\n",
      "Retrieve scores...\n",
      "CPU times: user 236 ms, sys: 164 ms, total: 400 ms\n",
      "Wall time: 386 ms\n",
      "Create PrecisionRecallMeasure object\n",
      "Evaluate the scores.\n",
      "This query has 17 relevant results\n",
      "   i |found| precision | recall\n",
      "   30|   1 | 0.033333  |0.058824\n",
      "   60|   2 | 0.033333  |0.117647\n",
      "  107|   3 | 0.028037  |0.176471\n",
      "  209|   4 | 0.019139  |0.235294\n",
      "  302|   5 | 0.016556  |0.294118\n",
      "  330|   6 | 0.018182  |0.352941\n",
      "  392|   7 | 0.017857  |0.411765\n",
      "  512|   8 | 0.015625  |0.470588\n",
      "  553|   9 | 0.016275  |0.529412\n",
      "  695|  10 | 0.014388  |0.588235\n",
      "  989|  11 | 0.011122  |0.647059\n",
      " 1063|  12 | 0.011289  |0.705882\n",
      " 1184|  13 | 0.010980  |0.764706\n",
      " 1557|  14 | 0.008992  |0.823529\n",
      " 1824|  15 | 0.008224  |0.882353\n",
      " 1837|  16 | 0.008710  |0.941176\n",
      " 2300|  17 | 0.007391  |1.000000\n"
     ]
    },
    {
     "data": {
      "image/png": "[encoded data removed]",
      "text/plain": [
       "<matplotlib.figure.Figure at 0x7f4a52832ef0>"
      ]
     },
     "metadata": {},
     "output_type": "display_data"
    },
    {
     "name": "stdout",
     "output_type": "stream",
     "text": [
      "--------------------\n",
      "Done.\n"
     ]
    }
   ],
   "source": [
    "if test_PRrecallmeasure:\n",
    "    print(\"\\n###### Testing evaluation.PrecisionRecallMeasure: ###### \")\n",
    "    queryChosen = np.random.randint(1, 50, size=10)\n",
    "    #queryChosen =[7, 10, 25]#, 14, 26, 27, 42, 43] # lots of relevant results\n",
    "    qp = QueryParserCACM(cacm_qry, cacm_rel)\n",
    "    query = qp.nextQuery()\n",
    "    print(\"Searching for query #\", queryChosen)\n",
    "    while query is not None :\n",
    "        if int(query.getID()) in queryChosen:\n",
    "            print(\"Query:\", query)\n",
    "            queryTxt = stemmer.getTextRepresentation(query.getText())\n",
    "            print(\"Retrieve scores...\")\n",
    "            %time ranking = vect.getRanking(queryTxt)\n",
    "            print(\"Create PrecisionRecallMeasure object\")\n",
    "            irlist = evaluation.IRList(query, ranking)\n",
    "            precisRecall = evaluation.PrecisionRecallMeasure(irlist)\n",
    "            print(\"Evaluate the scores.\")\n",
    "            pr = precisRecall.eval(verbose=True, nbLevel=100) # (recall, precision)\n",
    "            precision = [p for r,p in pr]\n",
    "            recall = [r for r,p in pr]\n",
    "            plt.plot(recall, precision)\n",
    "            plt.title(\"Precision-Recall for query #\"+query.getID())\n",
    "            plt.show()\n",
    "            print(20*'-')\n",
    "\n",
    "\n",
    "        query = qp.nextQuery()\n",
    "    print(\"Done.\")\n",
    "else:\n",
    "    print(\"\\n##### Skipping the test of PrecisionRecallMeasure #####\")"
   ]
  },
  {
   "cell_type": "code",
   "execution_count": 30,
   "metadata": {
    "collapsed": false,
    "deletable": true,
    "editable": true,
    "scrolled": true
   },
   "outputs": [
    {
     "name": "stdout",
     "output_type": "stream",
     "text": [
      "\n",
      "###### Testing evaluation.AveragePrecision: ###### \n",
      "Searching for query # [39  2 43 49  9  5  8 44  9 14] \n",
      "\n",
      "Query: Query {id=2, txt='I am interested in articles written either by Prieve or Udo Pooch\n",
      "', relevances=[2434, 2863, 3078]}\n",
      "Retrieve scores...\n",
      "Evaluate the scores.\n",
      "This query has 3 relevant results\n",
      "   i |found| precision\n",
      "   56|   1 | 0.017857\n",
      "   83|   2 | 0.024096\n",
      "   94|   3 | 0.031915\n",
      "Average precision: 0.024623\n",
      "--------------------\n",
      "Query: Query {id=5, txt='I'd like papers on design and implementation of editing interfaces,\n",
      "window-managers, command interpreters, etc.  The essential issues are\n",
      "human interface design, with views on improvements to user efficiency,\n",
      "effectiveness and satisfaction.\n",
      "', relevances=[756, 1307, 1502, 2035, 2299, 2399, 2501, 2820]}\n",
      "Retrieve scores...\n",
      "Evaluate the scores.\n",
      "This query has 8 relevant results\n",
      "   i |found| precision\n",
      "    2|   1 | 0.500000\n",
      "    9|   2 | 0.222222\n",
      "   14|   3 | 0.214286\n",
      "   53|   4 | 0.075472\n",
      "  121|   5 | 0.041322\n",
      "  131|   6 | 0.045802\n",
      "  138|   7 | 0.050725\n",
      "  241|   8 | 0.033195\n",
      "Average precision: 0.147878\n",
      "--------------------\n",
      "Query: Query {id=8, txt='Addressing schemes for resources in networks; resource addressing in\n",
      "network operating systems\n",
      "', relevances=[2625, 2849, 3032]}\n",
      "Retrieve scores...\n",
      "Evaluate the scores.\n",
      "This query has 3 relevant results\n",
      "   i |found| precision\n",
      "    1|   1 | 1.000000\n",
      "  117|   2 | 0.017094\n",
      "  129|   3 | 0.023256\n",
      "Average precision: 0.346783\n",
      "--------------------\n",
      "Query: Query {id=9, txt='Security considerations in local networks, network operating systems,\n",
      "and distributed systems.\n",
      "', relevances=[2372, 2632, 2870, 2876, 3068, 3111, 3128, 3158, 3177]}\n",
      "Retrieve scores...\n",
      "Evaluate the scores.\n",
      "This query has 9 relevant results\n",
      "   i |found| precision\n",
      "    1|   1 | 1.000000\n",
      "    3|   2 | 0.666667\n",
      "   11|   3 | 0.272727\n",
      "   17|   4 | 0.235294\n",
      "   18|   5 | 0.277778\n",
      "   38|   6 | 0.157895\n",
      "  125|   7 | 0.056000\n",
      "  129|   8 | 0.062016\n",
      "  349|   9 | 0.025788\n",
      "Average precision: 0.306018\n",
      "--------------------\n",
      "Query: Query {id=14, txt='find all discussions of optimal implementations of sort algorithms for\n",
      "database management applications\n",
      "', relevances=[74, 117, 232, 776, 827, 850, 851, 852, 854, 855, 856, 857, 858, 860, 861, 862, 864, 865, 866, 1175, 1724, 1919, 1956, 1969, 1980, 1997, 2017, 2041, 2108, 2118, 2146, 2176, 2191, 2272, 2337, 2348, 2397, 2563, 2664, 2679, 2714, 2716, 3075, 3187]}\n",
      "Retrieve scores...\n",
      "Evaluate the scores.\n",
      "This query has 44 relevant results\n",
      "   i |found| precision\n",
      "    2|   1 | 0.500000\n",
      "    3|   2 | 0.666667\n",
      "    4|   3 | 0.750000\n",
      "    5|   4 | 0.800000\n",
      "    6|   5 | 0.833333\n",
      "    8|   6 | 0.750000\n",
      "    9|   7 | 0.777778\n",
      "   11|   8 | 0.727273\n",
      "   13|   9 | 0.692308\n",
      "   14|  10 | 0.714286\n",
      "   19|  11 | 0.578947\n",
      "   27|  12 | 0.444444\n",
      "   41|  13 | 0.317073\n",
      "   52|  14 | 0.269231\n",
      "   53|  15 | 0.283019\n",
      "   54|  16 | 0.296296\n",
      "   58|  17 | 0.293103\n",
      "   62|  18 | 0.290323\n",
      "   88|  19 | 0.215909\n",
      "   91|  20 | 0.219780\n",
      "  107|  21 | 0.196262\n",
      "  114|  22 | 0.192982\n",
      "  119|  23 | 0.193277\n",
      "  128|  24 | 0.187500\n",
      "  131|  25 | 0.190840\n",
      "  234|  26 | 0.111111\n",
      "  248|  27 | 0.108871\n",
      "  269|  28 | 0.104089\n",
      "  308|  29 | 0.094156\n",
      "  384|  30 | 0.078125\n",
      "  393|  31 | 0.078880\n",
      "  501|  32 | 0.063872\n",
      "  509|  33 | 0.064833\n",
      "  582|  34 | 0.058419\n",
      "  606|  35 | 0.057756\n",
      "  742|  36 | 0.048518\n",
      "  854|  37 | 0.043326\n",
      "  864|  38 | 0.043981\n",
      "  885|  39 | 0.044068\n",
      "  971|  40 | 0.041195\n",
      " 1029|  41 | 0.039845\n",
      " 1061|  42 | 0.039585\n",
      " 1472|  43 | 0.029212\n",
      " 1695|  44 | 0.025959\n",
      "Average precision: 0.285373\n",
      "--------------------\n",
      "Query: Query {id=39, txt='What does type compatibility mean in languages that allow programmer\n",
      "defined types?  (You might want to restrict this to \"extensible\" languages\n",
      "that allow definition of abstract data types or programmer-supplied\n",
      "definitions of operators like *, +.)\n",
      "', relevances=[1693, 1861, 2126, 2265, 2317, 2558, 2625, 2632, 2651, 2939, 2941, 3031]}\n",
      "Retrieve scores...\n",
      "Evaluate the scores.\n",
      "This query has 12 relevant results\n",
      "   i |found| precision\n",
      "    1|   1 | 1.000000\n",
      "    4|   2 | 0.500000\n",
      "    8|   3 | 0.375000\n",
      "    9|   4 | 0.444444\n",
      "   10|   5 | 0.500000\n",
      "   16|   6 | 0.375000\n",
      "   24|   7 | 0.291667\n",
      "   25|   8 | 0.320000\n",
      "   74|   9 | 0.121622\n",
      "  152|  10 | 0.065789\n",
      "  196|  11 | 0.056122\n",
      " 1254|  12 | 0.009569\n",
      "Average precision: 0.338268\n",
      "--------------------\n",
      "Query: Query {id=43, txt='Analysis and perception of shape by humans and computers.  Shape\n",
      "descriptions, shape recognition by computer.  Two-dimensional shapes.\n",
      "Measures of circularity.  Shape matching.\n",
      "', relevances=[122, 266, 297, 462, 1113, 1325, 1528, 1554, 1686, 1697, 2004, 2195, 2201, 2211, 2382, 2400, 2421, 2514, 2523, 2655, 2687, 2751, 2754, 2771, 2788, 2811, 2826, 2827, 2828, 2829, 2841, 2883, 2910, 2913, 2924, 2994, 3047, 3062, 3116, 3149, 3172]}\n",
      "Retrieve scores...\n",
      "Evaluate the scores.\n",
      "This query has 41 relevant results\n",
      "   i |found| precision\n",
      "    4|   1 | 0.250000\n",
      "   15|   2 | 0.133333\n",
      "   20|   3 | 0.150000\n",
      "   21|   4 | 0.190476\n",
      "   22|   5 | 0.227273\n",
      "   57|   6 | 0.105263\n",
      "   71|   7 | 0.098592\n",
      "  125|   8 | 0.064000\n",
      "  136|   9 | 0.066176\n",
      "  140|  10 | 0.071429\n",
      "  179|  11 | 0.061453\n",
      "  213|  12 | 0.056338\n",
      "  277|  13 | 0.046931\n",
      "  321|  14 | 0.043614\n",
      "  382|  15 | 0.039267\n",
      "  390|  16 | 0.041026\n",
      "  398|  17 | 0.042714\n",
      "  411|  18 | 0.043796\n",
      "  501|  19 | 0.037924\n",
      "  519|  20 | 0.038536\n",
      "  585|  21 | 0.035897\n",
      "  598|  22 | 0.036789\n",
      "  620|  23 | 0.037097\n",
      "  645|  24 | 0.037209\n",
      "  654|  25 | 0.038226\n",
      "  678|  26 | 0.038348\n",
      "  680|  27 | 0.039706\n",
      "  791|  28 | 0.035398\n",
      "  844|  29 | 0.034360\n",
      "  853|  30 | 0.035170\n",
      " 1117|  31 | 0.027753\n",
      " 1141|  32 | 0.028046\n",
      " 1182|  33 | 0.027919\n",
      " 1371|  34 | 0.024799\n",
      " 1492|  35 | 0.023458\n",
      " 1662|  36 | 0.021661\n",
      " 1930|  37 | 0.019171\n",
      " 2041|  38 | 0.018618\n",
      " 2214|  39 | 0.017615\n",
      " 2271|  40 | 0.017613\n",
      " 2947|  41 | 0.013912\n",
      "Average precision: 0.058949\n",
      "--------------------\n",
      "Query: Query {id=44, txt='Texture analysis by computer.\tDigitized texture analysis.  Texture\n",
      "synthesis. Perception of texture.\n",
      "', relevances=[1804, 1891, 2004, 2382, 2514, 2523, 2547, 2687, 2751, 2771, 2827, 2829, 2910, 2913, 2924, 3013, 3047]}\n",
      "Retrieve scores...\n",
      "Evaluate the scores.\n",
      "This query has 17 relevant results\n",
      "   i |found| precision\n",
      "   30|   1 | 0.033333\n",
      "   60|   2 | 0.033333\n",
      "  107|   3 | 0.028037\n",
      "  209|   4 | 0.019139\n",
      "  302|   5 | 0.016556\n",
      "  330|   6 | 0.018182\n",
      "  392|   7 | 0.017857\n",
      "  512|   8 | 0.015625\n",
      "  553|   9 | 0.016275\n",
      "  695|  10 | 0.014388\n",
      "  989|  11 | 0.011122\n",
      " 1063|  12 | 0.011289\n",
      " 1184|  13 | 0.010980\n",
      " 1557|  14 | 0.008992\n",
      " 1824|  15 | 0.008224\n",
      " 1837|  16 | 0.008710\n",
      " 2300|  17 | 0.007391\n",
      "Average precision: 0.016437\n",
      "--------------------\n",
      "Query: Query {id=49, txt='The role of information retrieval in knowledge based systems\n",
      "(i.e., expert systems).\n",
      "', relevances=[1152, 1515, 1681, 2127, 2390, 2561, 2795, 2832]}\n",
      "Retrieve scores...\n",
      "Evaluate the scores.\n",
      "This query has 8 relevant results\n",
      "   i |found| precision\n",
      "   23|   1 | 0.043478\n",
      "   37|   2 | 0.054054\n",
      "   48|   3 | 0.062500\n",
      "   49|   4 | 0.081633\n",
      "   65|   5 | 0.076923\n",
      "   86|   6 | 0.069767\n",
      "  442|   7 | 0.015837\n",
      " 2454|   8 | 0.003260\n",
      "Average precision: 0.050932\n",
      "--------------------\n",
      "Done.\n"
     ]
    }
   ],
   "source": [
    "if test_averageprecision:\n",
    "    print(\"\\n###### Testing evaluation.AveragePrecision: ###### \")\n",
    "    queryChosen = np.random.randint(1, 50, size=10)\n",
    "    #queryChosen =[7, 10, 14]#, 25, 26, 27, 42, 43] # lots of relevant results\n",
    "    qp = QueryParserCACM(cacm_qry, cacm_rel)\n",
    "    query = qp.nextQuery()\n",
    "    print(\"Searching for query #\",queryChosen, \"\\n\")\n",
    "    while query is not None :\n",
    "        if int(query.getID()) in queryChosen:\n",
    "            print(\"Query:\", query)\n",
    "            queryTxt = stemmer.getTextRepresentation(query.getText())\n",
    "            print(\"Retrieve scores...\")\n",
    "            scores = vect.getRanking(queryTxt)\n",
    "            irlist = evaluation.IRList(query, scores)\n",
    "            average_measure = evaluation.AveragePrecision(irlist)\n",
    "            print(\"Evaluate the scores.\")\n",
    "            average_prec = average_measure.eval(verbose=True)\n",
    "            print(\"Average precision: %f\" % average_prec)\n",
    "            print(20*'-')\n",
    "\n",
    "        query = qp.nextQuery()\n",
    "    print(\"Done.\")\n",
    "else:\n",
    "    print(\"\\n##### Skipping the test of AveragePrecision #####\")"
   ]
  },
  {
   "cell_type": "code",
   "execution_count": 31,
   "metadata": {
    "collapsed": false,
    "deletable": true,
    "editable": true,
    "scrolled": true
   },
   "outputs": [
    {
     "name": "stdout",
     "output_type": "stream",
     "text": [
      "\n",
      "###### Testing evaluation.EvalIRModel: ###### \n",
      "Searching for queries # [28 28 22  7  7  3 18 30 34  2  7  7 11 32 35 12 32 13 41 21  2  5 29  3 13\n",
      " 44 22 11  7 14 33 34 27 49  6 34 45 39  4 48  5 19 31 24 31 23 48 35 16 18] ...\n",
      "Found queries\n",
      "Calling eval()...\n",
      "{('vectoriel', 'averagePrecision'): (0.27754240378037742, 0.22842165414868784)}\n",
      "Done.\n"
     ]
    }
   ],
   "source": [
    "if test_eval_ir_model:\n",
    "    print(\"\\n###### Testing evaluation.EvalIRModel: ###### \")\n",
    "    queryChosen = np.random.randint(1, 50, size=50)\n",
    "    #queryChosen =[7, 10, 14]#, 25, 26, 27, 42, 43] # lots of relevant results\n",
    "    queries = []\n",
    "    qp = QueryParserCACM(cacm_qry, cacm_rel)\n",
    "    query = qp.nextQuery()\n",
    "    print(\"Searching for queries #\",queryChosen, \"...\")\n",
    "    while query is not None :\n",
    "        if int(query.getID()) in queryChosen:\n",
    "            queries.append(query)\n",
    "        query = qp.nextQuery()\n",
    "    print(\"Found queries\")\n",
    "    irmodels = {\"vectoriel\": modeles.Vectoriel(idx, tfidfWeighter)}\n",
    "    measures = {\"averagePrecision\": evaluation.AveragePrecision}\n",
    "    eval_model = evaluation.EvalIRModel(queries, irmodels, measures)\n",
    "    print(\"Calling eval()...\")\n",
    "    print(eval_model.eval(verbose=False))\n",
    "    print(\"Done.\")\n",
    "else:\n",
    "    print(\"\\n##### Skipping the test of EvalIRModel #####\")"
   ]
  },
  {
   "cell_type": "code",
   "execution_count": 32,
   "metadata": {
    "collapsed": false,
    "deletable": true,
    "editable": true
   },
   "outputs": [
    {
     "name": "stdout",
     "output_type": "stream",
     "text": [
      "\n",
      "###### Testing LanguageModel: ###### \n",
      "Searching for queries # [ 2 33 36] ...\n",
      "Query {id=2, txt='I am interested in articles written either by Prieve or Udo Pooch\n",
      "', relevances=[2434, 2863, 3078]}\n",
      "Query {id=33, txt='Articles about the sensitivity of the eigenvalue decomposition of real\n",
      "matrices, in particular, zero-one matrices.  I'm especially interested in\n",
      "the separation of eigenspaces corresponding to distinct eigenvalues.\n",
      "Articles on the subject:\n",
      "C. Davis and W.M. Kahn, \"The rotation of eigenvectors by a permutation:,\n",
      "SIAM J. Numerical Analysis, vol. 7, no. 1 (1970); G.W. Stewart, \"Error\n",
      "bounds for approximate invariant subspaces of closed linear operators\",\n",
      "SIAM J. Numerical Analysis., Vol. 8, no. 4 (1971).\n",
      "', relevances=[2805]}\n",
      "Query {id=36, txt='Fast algorithm for context-free language recognition or parsing\n",
      "', relevances=[1683, 1768, 1787, 1825, 1836, 2015, 2084, 2110, 2179, 2340, 2423, 2702, 2708, 2733, 2824, 2836, 2986, 3094]}\n",
      "Found queries\n",
      "36\n",
      "Scores for 3 relevant docs:\n",
      "3094 -inf\n",
      "2733 -inf\n",
      "2084 -inf\n",
      "Scores for 3 random docs:\n",
      "1899 decomposit,linear,350,lu,stabil,error,method,round,golub,algorithm,simplex,bartel,comput,emploi,programm,procedur\n",
      "Irrelevant doc: -inf\n",
      "1651 articl,subscript,doubtless,gener,describ,small,constraint,user,identif,evalu,fix,exampl,subsequ,problem,aid,requir,skeleton,present,includ,aigner,solut,liber,write,pedagog,deck,data,routin,row,devic,handl,editori,input,column,programm,appear,flowchart,bulk,greatli,benefit,lp,inher,code,standpoint,comment,simplifi,textbook,descript,output,inabl,deriv,solv,effici,format,prepar,limit,linear,interpret,scan,larg,wise,suit,keypunch\n",
      "Irrelevant doc: -inf\n",
      "974 read,arrhythmia,valid,7090,patient,compon,cycle,comput,maher,ibm,electrocardiograph,frequenc,seri,beat,examin,gapless,tape,heart,present,studi,analysi,comparison,techniqu,feasibl,long,automat,electrocardiogram,higher,digit\n",
      "Irrelevant doc: -inf\n",
      "--------------------\n",
      "2\n",
      "Scores for 3 relevant docs:\n",
      "2863 -inf\n",
      "2863 -inf\n",
      "3078 -inf\n",
      "Scores for 3 random docs:\n",
      "1660 index,1960,1968,algorithm,subject\n",
      "Irrelevant doc: -inf\n",
      "1412 approach,kind,usag,bank,gener,cross,sought,led,relationship,custom,discern,data,common,direct,convers,applic,respons,access,includ,individu,central,serv,time,gradual,coupl,automat,interfac,contain,store,manag,facilit,major,concept,inquir,prudent,equip,develop,commerci,purpos,suit,introduc,file,index,draw,progress,combin,real,point,sophisticat,base,process,exist,stasu,head,inform,complex,provid,comput,referenc,avail,fold,larg,account\n",
      "Irrelevant doc: -inf\n",
      "2554 symmetric,requir,oper,ax,band,matric,block,condit,sum,describ,order,algorithm,case,larg,determin,matrix,problem,respect,generaliz,calcul,reduct,definit,bandwidth,lambda,schwartz,crawford,error,similar,mn,reduc,round,form,2,partit,step,posit,term,bx,rutishaus,eigenvalu,ordinari,invers\n",
      "Irrelevant doc: -inf\n",
      "--------------------\n",
      "33\n",
      "Scores for 3 relevant docs:\n",
      "2805 -inf\n",
      "2805 -inf\n",
      "2805 -inf\n",
      "Scores for 3 random docs:\n",
      "296 cox,arithmet,multipl,luther,note,precis\n",
      "Irrelevant doc: -inf\n",
      "1797 solut,program,0,variabl,enumer,algorithm,linear,341,proll,1,programm,partial\n",
      "Irrelevant doc: -inf\n",
      "1641 disk,10,reduc,perform,complet,leav,slower,compos,describ,machin,number,call,gain,scheme,transferr,list,drum,period,test,applic,algol,comput,languag,fold,slow,request,time,structur,permitt,fast,data,program,contain,store,implement,lisp,memori,nonhomogen,space,addit,reduct,connect,page,increas,utiliz,divid,actual,depend,ibm,price,7044,4,substanti,were,core,process,100,cohen,access,longest,consist,indic,level,inact,32k,programm,embedd,word,vari,3\n",
      "Irrelevant doc: -inf\n",
      "--------------------\n",
      "Done.\n"
     ]
    }
   ],
   "source": [
    "if test_unigram_model:\n",
    "    print(\"\\n###### Testing LanguageModel: ###### \")\n",
    "    queryChosen = np.random.randint(1, 50, size=3)\n",
    "    #queryChosen =[7, 10, 14]#, 25, 26, 27, 42, 43] # lots of relevant results\n",
    "    queries = []\n",
    "    relevants = {} #dict of {query id : list of relevant doc id}\n",
    "    qp = QueryParserCACM(cacm_qry, cacm_rel)\n",
    "    query = qp.nextQuery()\n",
    "    print(\"Searching for queries #\",queryChosen, \"...\")\n",
    "    while query is not None :\n",
    "        if int(query.getID()) in queryChosen:\n",
    "            queries.append(query)\n",
    "            relevants[query.getID()] = list(query.getRelevants().keys())\n",
    "            print(query)\n",
    "        query = qp.nextQuery()\n",
    "    print(\"Found queries\")\n",
    "    model = modeles.LanguageModel(idx, TextRepresenter.PorterStemmer(), 0.8)\n",
    "    for q, (q_id, relev) in zip(queries, relevants.items()):\n",
    "        print(q_id)\n",
    "        print(\"Scores for 3 relevant docs:\")\n",
    "        for doc_id in np.random.choice(relev, size=3):\n",
    "            print(doc_id, model.score(q, doc_id))\n",
    "        print(\"Scores for 3 random docs:\")\n",
    "        for doc_id in np.random.choice(idx.getDocsID(), size=3):\n",
    "            if doc_id in relev:\n",
    "                print(doc_id, \"Relevant doc\")\n",
    "            else:\n",
    "                stems = ','.join(idx.getTfsForDoc(doc_id).keys())\n",
    "                print(doc_id, stems)\n",
    "                print(\"Irrelevant doc:\", model.score(q, doc_id))\n",
    "        print(20*'-')\n",
    "    print(\"Done.\")\n",
    "else:\n",
    "    print(\"\\n##### Skipping the test of LanguageModel #####\")"
   ]
  },
  {
   "cell_type": "code",
   "execution_count": 33,
   "metadata": {
    "collapsed": false
   },
   "outputs": [
    {
     "name": "stdout",
     "output_type": "stream",
     "text": [
      "\n",
      "###### Testing LanguageModel: ###### \n",
      "Searching for queries # [26 37 47] ...\n",
      "Query {id=26, txt='Concurrency control mechanisms in operating systems\n",
      "', relevances=[1071, 1198, 1338, 1749, 1828, 1854, 1960, 2080, 2150, 2256, 2320, 2342, 2376, 2379, 2541, 2597, 2618, 2632, 2700, 2740, 2777, 2851, 2866, 2912, 2938, 3039, 3043, 3048, 3082, 3128]}\n",
      "Query {id=37, txt='Articles describing the relationship between data types and concurrency\n",
      "(e.g. what is the type of a process?  when is a synchronization attempt \n",
      "between two processes \"type correct\"?  in a message-passing system is there\n",
      "any notion of the types of messages?--i.e. any way to check that the sender\n",
      "of the message and the receiver are both treating the bit stream as some\n",
      "particular type)\n",
      "', relevances=[2265, 2377, 2558, 2625, 2632, 2651, 2738, 2840, 2939, 2941, 3144, 3148]}\n",
      "Query {id=47, txt='The use of Bayesian decision models to optimize information retrieval\n",
      "system performance.  This includes stopping rules to determine when a\n",
      "user should cease scanning the output of a retrieval search.\n",
      "', relevances=[1353]}\n",
      "Found queries\n",
      "| 0.500 | 42 |  0 |\n",
      "| 0.625 | 42 |  0 |\n",
      "| 0.750 | 42 |  0 |\n",
      "| 0.875 | 42 |  0 |\n",
      "| 1.000 | 42 |  0 |\n",
      "Done.\n"
     ]
    }
   ],
   "source": [
    "if test_unigram_model:\n",
    "    print(\"\\n###### Testing LanguageModel: ###### \")\n",
    "    queryChosen = np.random.randint(1, 50, size=3)\n",
    "    #queryChosen =[7, 10, 14]#, 25, 26, 27, 42, 43] # lots of relevant results\n",
    "    queries = []\n",
    "    relevants = {} #dict of {query id : list of relevant doc id}\n",
    "    irrelevants = {} # dict of chosen irrelevant docs\n",
    "    qp = QueryParserCACM(cacm_qry, cacm_rel)\n",
    "    query = qp.nextQuery()\n",
    "    print(\"Searching for queries #\",queryChosen, \"...\")\n",
    "    while query is not None :\n",
    "        if int(query.getID()) in queryChosen:\n",
    "            queries.append(query)\n",
    "            relevants[query.getID()] = list(query.getRelevants().keys())\n",
    "            irrelevants[query.getID()] = set(np.random.choice(idx.getDocsID(), size=50)) \\\n",
    "                                       - set(relevants[query.getID()])\n",
    "            print(query)\n",
    "        query = qp.nextQuery()\n",
    "    print(\"Found queries\")\n",
    "    reg_values = np.linspace(0.5, 1, 5)\n",
    "    for reg_val in reg_values:\n",
    "        false_neg = 0\n",
    "        false_pos = 0\n",
    "        model = modeles.LanguageModel(idx, TextRepresenter.PorterStemmer(), reg_val)\n",
    "        for q, (q_id, relev) in zip(queries, relevants.items()):\n",
    "            for doc_id in relev:\n",
    "                score = model.score(q, doc_id)\n",
    "                if np.isneginf(score ):\n",
    "                    false_neg += 1\n",
    "            for doc_id in irrelevants[q_id]:\n",
    "                score = model.score(q, doc_id)\n",
    "                if np.isfinite(score):\n",
    "                    false_pos += 1\n",
    "        print(\"| %.3f | %2d | %2d |\" % (reg_val, false_neg, false_pos))\n",
    "    print(\"Done.\")\n",
    "else:\n",
    "    print(\"\\n##### Skipping the test of LanguageModel #####\")"
   ]
  },
  {
   "cell_type": "code",
   "execution_count": null,
   "metadata": {
    "collapsed": true,
    "deletable": true,
    "editable": true
   },
   "outputs": [],
   "source": []
  },
  {
   "cell_type": "code",
   "execution_count": null,
   "metadata": {
    "collapsed": true,
    "deletable": true,
    "editable": true
   },
   "outputs": [],
   "source": []
  }
 ],
 "metadata": {
  "kernelspec": {
   "display_name": "Python 3",
   "language": "python",
   "name": "python3"
  },
  "language_info": {
   "codemirror_mode": {
    "name": "ipython",
    "version": 3
   },
   "file_extension": ".py",
   "mimetype": "text/x-python",
   "name": "python",
   "nbconvert_exporter": "python",
   "pygments_lexer": "ipython3",
   "version": "3.5.2"
  }
 },
 "nbformat": 4,
 "nbformat_minor": 2
}
