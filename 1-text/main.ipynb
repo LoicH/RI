{
 "cells": [
  {
   "cell_type": "markdown",
   "metadata": {
    "deletable": true,
    "editable": true
   },
   "source": [
    "# Information Retrieval"
   ]
  },
  {
   "cell_type": "code",
   "execution_count": 30,
   "metadata": {
    "collapsed": false,
    "deletable": true,
    "editable": true
   },
   "outputs": [
    {
     "name": "stdout",
     "output_type": "stream",
     "text": [
      "The autoreload extension is already loaded. To reload it, use:\n",
      "  %reload_ext autoreload\n"
     ]
    }
   ],
   "source": [
    "import ParserCACM\n",
    "import TextRepresenter\n",
    "import indexation\n",
    "import modeles\n",
    "from query import QueryParserCACM\n",
    "import evaluation\n",
    "import os\n",
    "import matplotlib.pyplot as plt\n",
    "%matplotlib inline\n",
    "import numpy as np\n",
    "import operator\n",
    "\n",
    "%load_ext autoreload\n",
    "%autoreload 2\n",
    "\"\"\" Some info to remember when testing:\n",
    "- Query 10 is about parallel computation\n",
    "- Doc 46 is about parallelism too\n",
    "\"\"\"\n",
    "\n",
    "# Constants:\n",
    "srcFolder = \"cacm\"\n",
    "srcFile = \"cacm.txt\"\n",
    "qryFile = \"cacm.qry\"\n",
    "relFile = \"cacm.rel\"\n",
    "gendata = \"gendata\"\n",
    "indexName = \"cacm\"\n",
    "docId = 46\n",
    "queryId = np.random.randint(1,60)\n",
    "wordTest = \"logic\"\n",
    "\n",
    "cacm_txt = os.path.join(srcFolder, srcFile)\n",
    "cacm_qry = os.path.join(srcFolder, qryFile)\n",
    "cacm_rel = os.path.join(srcFolder, relFile)"
   ]
  },
  {
   "cell_type": "markdown",
   "metadata": {
    "deletable": true,
    "editable": true
   },
   "source": [
    "## Testing the indexation:"
   ]
  },
  {
   "cell_type": "code",
   "execution_count": 31,
   "metadata": {
    "collapsed": false,
    "deletable": true,
    "editable": true
   },
   "outputs": [
    {
     "name": "stdout",
     "output_type": "stream",
     "text": [
      "Performing the indexation...\n",
      "1st pass: build the index...\n",
      "2nd pass: build the inverted index...\n",
      "Finished.\n"
     ]
    }
   ],
   "source": [
    "# Construct the index:\n",
    "idx = indexation.Index(indexName, gendata)\n",
    "stemmer = TextRepresenter.PorterStemmer()\n",
    "idx.indexation(cacm_txt, ParserCACM.ParserCACM(),\n",
    "               stemmer)"
   ]
  },
  {
   "cell_type": "code",
   "execution_count": 32,
   "metadata": {
    "collapsed": false,
    "deletable": true,
    "editable": true
   },
   "outputs": [
    {
     "name": "stdout",
     "output_type": "stream",
     "text": [
      "\n",
      "###### Testing the index: ###### \n",
      "Retrieve common stems in doc 46:\n",
      "['program', 'programm', 'problem', 'parallel', 'requir', 'logic', 'stretch', 'lowri', 'supervisori', 'exploit']\n",
      "Should look like\n",
      "> “The tendency towards increased parallelism in\n",
      "> computers is noted.  Exploitation of this parallelism\n",
      "> presents a number of new problems in machine design\n",
      "> and in programming systems...”\n",
      "\n",
      "Retrieve docs that contains 'logic'\n",
      "Should include doc 63 and 46: True\n"
     ]
    }
   ],
   "source": [
    "print(\"\\n###### Testing the index: ###### \")\n",
    "print(\"Retrieve common stems in doc %d:\" % docId)\n",
    "stems = sorted(idx.getTfsForDoc(docId).items(), key=operator.itemgetter(1), reverse=True)\n",
    "print([stem for stem, freq in stems[:10]])\n",
    "print(\"\"\"Should look like\n",
    "> “The tendency towards increased parallelism in\n",
    "> computers is noted.  Exploitation of this parallelism\n",
    "> presents a number of new problems in machine design\n",
    "> and in programming systems...”\"\"\")\n",
    "\n",
    "print(\"\\nRetrieve docs that contains 'logic'\")\n",
    "docs = idx.getTfsForStem(\"logic\") \n",
    "print(\"Should include doc 63 and 46:\", (63 in docs.keys() and 46 in docs.keys()))"
   ]
  },
  {
   "cell_type": "code",
   "execution_count": 42,
   "metadata": {
    "collapsed": true
   },
   "outputs": [],
   "source": [
    "# Chosing what to test:\n",
    "test_binaryweighter = True\n",
    "test_tfidfweighter = True\n",
    "test_queryparser = True\n",
    "test_PRrecallmeasure = True\n",
    "test_averageprecision = True\n",
    "test_eval_ir_model = True\n"
   ]
  },
  {
   "cell_type": "markdown",
   "metadata": {
    "deletable": true,
    "editable": true
   },
   "source": [
    "## Testing the weighters:"
   ]
  },
  {
   "cell_type": "code",
   "execution_count": 44,
   "metadata": {
    "collapsed": false,
    "deletable": true,
    "editable": true
   },
   "outputs": [
    {
     "name": "stdout",
     "output_type": "stream",
     "text": [
      "\n",
      "#####Testing BinaryWeighter: #####\n",
      "bw.getDocWeightsForDoc( 46 ): {'lowri': 1, 'supervisori': 1, 'exploit': 1, 'combin': 1, 'number': 1, 'program': 4, 'multiprogramm': 1, 'programm': 3, 'parallel': 2, 'note': 1, 'problem': 3, 'place': 1, 'minimum': 1, 'concurr': 1, 'system': 1, 'codd': 1, 'independ': 1, 'present': 1, 'requir': 2, 'logic': 2, 'machin': 1, 'feasibl': 1, 'tendenc': 1, 'describ': 1, 'techniqu': 1, 'execut': 1, 'discuss': 1, 'built': 1, 'met': 1, 'carefulli': 1, 'scalzi': 1, 'balanc': 1, 'comput': 1, 'burden': 1, 'stretch': 2, 'compil': 1, 'consider': 1, 'success': 1, 'design': 1, 'increas': 1, 'mcdonough': 1}\n",
      "\n",
      "bw.getDocWeightsForStem('logic'): {2817: 1, 3154: 6, 1030: 1, 2568: 1, 2313: 2, 3082: 1, 2060: 1, 2322: 1, 2067: 1, 22: 1, 2845: 1, 30: 1, 2848: 3, 2851: 1, 2054: 1, 3111: 1, 1834: 1, 1324: 1, 46: 2, 1327: 1, 2952: 1, 2871: 4, 3133: 5, 63: 2, 320: 8, 1602: 2, 2230: 1, 2888: 1, 3147: 1, 1101: 1, 2127: 2, 850: 1, 595: 2, 753: 1, 2145: 1, 2146: 2, 1381: 1, 2406: 3, 1383: 2, 1103: 1, 2931: 5, 1908: 1, 1398: 1, 3194: 1, 1916: 1, 2943: 1, 1155: 2, 1462: 1, 1928: 4, 1677: 1, 1718: 1, 1170: 1, 1173: 1, 2209: 1, 1700: 1, 2726: 3, 679: 2, 1195: 1, 1965: 1, 1456: 1, 2227: 1, 2484: 1, 1974: 6, 1208: 1, 1465: 1, 3008: 1, 1788: 1, 202: 1, 971: 1, 2765: 1, 1235: 1, 1749: 1, 1188: 1, 3034: 2, 847: 1, 1786: 1, 2341: 1, 2273: 1, 1255: 1, 892: 1, 2794: 1, 1515: 1, 1261: 1, 2289: 3, 2035: 1, 1271: 1, 250: 1, 2812: 2, 2046: 1}\n",
      "\n",
      "bw.getWeightsForQuery(' Parallel languages; languages for parallel computation'): {'parallel': 1, 'languag': 1, 'comput': 1}\n",
      "\n",
      "#####Testing Vectoriel with BinaryWeighter: #####\n",
      "Top 10 documents for the previous query:\n",
      "[('2785', 0.6196773353931867), ('2685', 0.60522753266880247), ('1306', 0.58950634474656327), ('1262', 0.55708601453115558), ('1366', 0.53978144024077934), ('1471', 0.53333333333333333), ('1496', 0.48686449556014766), ('1659', 0.47628967220784024), ('830', 0.47140452079103173), ('93', 0.47140452079103173)]\n"
     ]
    }
   ],
   "source": [
    "query = stemmer.getTextRepresentation(\" Parallel languages; languages for parallel computation\")\n",
    "\n",
    "if test_binaryweighter:\n",
    "    print(\"\\n#####Testing BinaryWeighter: #####\")\n",
    "\n",
    "    bw = modeles.BinaryWeighter(idx)\n",
    "    print(\"bw.getDocWeightsForDoc(\",docId,\"):\", \n",
    "        bw.getDocWeightsForDoc(docId))\n",
    "    print(\"\\nbw.getDocWeightsForStem('\"+wordTest+\"'):\", \n",
    "        bw.getDocWeightsForStem(wordTest))\n",
    "    print(\"\\nbw.getWeightsForQuery(' Parallel languages; languages for parallel computation'):\", \n",
    "        bw.getWeightsForQuery(query))\n",
    "\n",
    "    print(\"\\n#####Testing Vectoriel with BinaryWeighter: #####\")\n",
    "    vect = modeles.Vectoriel(idx, bw)\n",
    "    print(\"Top 10 documents for the previous query:\")\n",
    "    print(vect.getRanking(query)[:10])\n",
    "else:\n",
    "    print(\"\\n##### Skipping the test of BinaryWeighter #####\")\n",
    "    "
   ]
  },
  {
   "cell_type": "code",
   "execution_count": 45,
   "metadata": {
    "collapsed": false,
    "deletable": true,
    "editable": true
   },
   "outputs": [
    {
     "name": "stdout",
     "output_type": "stream",
     "text": [
      "\n",
      "###### Testing TfidfWeighter: ###### \n",
      "tfidfWeighter.getDocWeightsForDoc( 46 ): {'lowri': 1, 'supervisori': 1, 'exploit': 1, 'combin': 1, 'number': 1, 'program': 4, 'multiprogramm': 1, 'programm': 3, 'parallel': 2, 'note': 1, 'problem': 3, 'place': 1, 'minimum': 1, 'concurr': 1, 'system': 1, 'codd': 1, 'independ': 1, 'present': 1, 'requir': 2, 'logic': 2, 'machin': 1, 'feasibl': 1, 'tendenc': 1, 'describ': 1, 'techniqu': 1, 'execut': 1, 'discuss': 1, 'built': 1, 'met': 1, 'carefulli': 1, 'scalzi': 1, 'balanc': 1, 'comput': 1, 'burden': 1, 'stretch': 2, 'compil': 1, 'consider': 1, 'success': 1, 'design': 1, 'increas': 1, 'mcdonough': 1}\n",
      "\n",
      "tfidfWeighter.getDocWeightsForStem(\"logic\"): {2817: 1, 3154: 6, 1030: 1, 2568: 1, 2313: 2, 3082: 1, 2060: 1, 2322: 1, 2067: 1, 22: 1, 2845: 1, 30: 1, 2848: 3, 2851: 1, 2054: 1, 3111: 1, 1834: 1, 1324: 1, 46: 2, 1327: 1, 2952: 1, 2871: 4, 3133: 5, 63: 2, 320: 8, 1602: 2, 2230: 1, 2888: 1, 3147: 1, 1101: 1, 2127: 2, 850: 1, 595: 2, 753: 1, 2145: 1, 2146: 2, 1381: 1, 2406: 3, 1383: 2, 1103: 1, 2931: 5, 1908: 1, 1398: 1, 3194: 1, 1916: 1, 2943: 1, 1155: 2, 1462: 1, 1928: 4, 1677: 1, 1718: 1, 1170: 1, 1173: 1, 2209: 1, 1700: 1, 2726: 3, 679: 2, 1195: 1, 1965: 1, 1456: 1, 2227: 1, 2484: 1, 1974: 6, 1208: 1, 1465: 1, 3008: 1, 1788: 1, 202: 1, 971: 1, 2765: 1, 1235: 1, 1749: 1, 1188: 1, 3034: 2, 847: 1, 1786: 1, 2341: 1, 2273: 1, 1255: 1, 892: 1, 2794: 1, 1515: 1, 1261: 1, 2289: 3, 2035: 1, 1271: 1, 250: 1, 2812: 2, 2046: 1}\n",
      "\n",
      "tfidfWeighter.getWeightsForQuery(query): {'parallel': 3.7154464814986583, 'languag': 2.063342122745655, 'comput': 1.2477816381451639}\n",
      "\n",
      "###### Testing Vectoriel with TfidfWeighter: ###### \n",
      "Top 10 documents for the query:\n",
      "[('2785', 0.58402818133982293), ('1262', 0.55022124789918558), ('2685', 0.4705180276134806), ('141', 0.4194149275774155), ('2664', 0.41617615379853456), ('2973', 0.40635424019291577), ('1306', 0.39507197568948604), ('1471', 0.38834648309339875), ('392', 0.37513611553650089), ('950', 0.37351311122657732)]\n"
     ]
    }
   ],
   "source": [
    "tfidfWeighter = modeles.TfidfWeighter(idx)\n",
    "vect = modeles.Vectoriel(idx, tfidfWeighter)\n",
    "\n",
    "if test_tfidfweighter:\n",
    "    print(\"\\n###### Testing TfidfWeighter: ###### \")\n",
    "    print(\"tfidfWeighter.getDocWeightsForDoc(\", docId, \"):\",\n",
    "         tfidfWeighter.getDocWeightsForDoc(docId))\n",
    "    print(\"\\ntfidfWeighter.getDocWeightsForStem(\\\"logic\\\"):\",\n",
    "         tfidfWeighter.getDocWeightsForStem(wordTest))\n",
    "    print(\"\\ntfidfWeighter.getWeightsForQuery(query):\",\n",
    "         tfidfWeighter.getWeightsForQuery(query))\n",
    "    print(\"\\n###### Testing Vectoriel with TfidfWeighter: ###### \")\n",
    "    print(\"Top 10 documents for the query:\")\n",
    "    print(vect.getRanking(query)[:10])\n",
    "else:\n",
    "    print(\"\\n##### Skipping the test of TfidfWeighter #####\")\n",
    "    "
   ]
  },
  {
   "cell_type": "markdown",
   "metadata": {
    "deletable": true,
    "editable": true
   },
   "source": [
    "## Testing the QueryParser"
   ]
  },
  {
   "cell_type": "code",
   "execution_count": 46,
   "metadata": {
    "collapsed": false,
    "deletable": true,
    "editable": true
   },
   "outputs": [
    {
     "name": "stdout",
     "output_type": "stream",
     "text": [
      "\n",
      "###### Testing QueryParserCACM: ###### \n",
      "Searching for query #7:\n",
      "Query: Query {id=7, txt='I am interested in distributed algorithms - concurrent programs in\n",
      "which processes communicate and synchronize by using message passing.\n",
      "Areas of particular interest include fault-tolerance and techniques\n",
      "for understanding the correctness of these algorithms.\n",
      "', relevances=[3141, 2376, 3148, 3082, 2700, 2895, 2320, 2578, 1877, 2777, 2618, 2597, 2912, 2256, 3043, 2342, 2150, 2280, 2866, 1198, 2941, 2865, 2482, 1960, 2228, 3128, 1338, 2685]}\n",
      "\n",
      "Compute scores:\n",
      "[('3043', 0.24732145743535461), ('2376', 0.22938395482143212), ('3104', 0.1798557675831185), ('3141', 0.17315344360246515), ('1353', 0.16983387109708892), ('3170', 0.16879342504247508), ('2896', 0.16180611685701665), ('2212', 0.16108729547777365), ('2914', 0.16092764695534537), ('1778', 0.15687092488883222)]\n",
      "Done.\n"
     ]
    }
   ],
   "source": [
    "if test_queryparser:\n",
    "    print(\"\\n###### Testing QueryParserCACM: ###### \")\n",
    "    qp = QueryParserCACM(cacm_qry, cacm_rel)\n",
    "    query = qp.nextQuery()\n",
    "    print(\"Searching for query #%d:\" % queryId)\n",
    "    while query is not None and query.getID() != str(queryId):\n",
    "        #print(query)\n",
    "        #print(20*'-')\n",
    "        query = qp.nextQuery()\n",
    "\n",
    "    print(\"Query:\", query)\n",
    "    queryTxt = stemmer.getTextRepresentation(query.getText())\n",
    "    print(\"\\nCompute scores:\")\n",
    "    scores = vect.getRanking(queryTxt)\n",
    "    print(scores[:10])\n",
    "    print(\"Done.\")\n",
    "else:\n",
    "    print(\"\\n##### Skipping the test of QueryParserCACM #####\")\n",
    "    "
   ]
  },
  {
   "cell_type": "markdown",
   "metadata": {
    "deletable": true,
    "editable": true
   },
   "source": [
    "## Testing measures:\n"
   ]
  },
  {
   "cell_type": "code",
   "execution_count": 47,
   "metadata": {
    "collapsed": false,
    "deletable": true,
    "editable": true,
    "scrolled": false
   },
   "outputs": [
    {
     "name": "stdout",
     "output_type": "stream",
     "text": [
      "\n",
      "###### Testing evaluation.PrecisionRecallMeasure: ###### \n",
      "Searching for query # [7, 10, 25]\n",
      "Query: Query {id=7, txt='I am interested in distributed algorithms - concurrent programs in\n",
      "which processes communicate and synchronize by using message passing.\n",
      "Areas of particular interest include fault-tolerance and techniques\n",
      "for understanding the correctness of these algorithms.\n",
      "', relevances=[3141, 2376, 3148, 3082, 2700, 2895, 2320, 2578, 1877, 2777, 2618, 2597, 2912, 2256, 3043, 2342, 2150, 2280, 2866, 1198, 2941, 2865, 2482, 1960, 2228, 3128, 1338, 2685]}\n",
      "Retrieve scores...\n",
      "Evaluate the scores.\n"
     ]
    },
    {
     "data": {
      "image/png": "[encoded data removed]",
      "text/plain": [
       "<matplotlib.figure.Figure at 0x7faa06f2f0b8>"
      ]
     },
     "metadata": {},
     "output_type": "display_data"
    },
    {
     "name": "stdout",
     "output_type": "stream",
     "text": [
      "--------------------\n",
      "Query: Query {id=10, txt='Parallel languages; languages for parallel computation\n",
      "', relevances=[2896, 1601, 1795, 3075, 1158, 2433, 2376, 2700, 2060, 1613, 141, 2256, 1747, 3156, 1262, 2777, 2714, 2895, 3039, 2912, 2785, 2851, 1380, 2342, 2150, 2289, 2664, 46, 1198, 392, 1811, 950, 2618, 2685, 1471]}\n",
      "Retrieve scores...\n",
      "Evaluate the scores.\n"
     ]
    },
    {
     "data": {
      "image/png": "[encoded data removed]",
      "text/plain": [
       "<matplotlib.figure.Figure at 0x7faa39566c88>"
      ]
     },
     "metadata": {},
     "output_type": "display_data"
    },
    {
     "name": "stdout",
     "output_type": "stream",
     "text": [
      "--------------------\n",
      "Query: Query {id=25, txt='Performance evaluation and modelling of computer systems\n",
      "', relevances=[1408, 2434, 1901, 268, 1805, 2318, 2319, 3088, 3089, 2452, 1518, 2582, 2818, 2095, 1698, 1572, 2085, 2984, 2218, 2859, 2988, 2862, 2863, 2996, 2741, 2358, 1719, 3006, 1653, 2881, 963, 2373, 2765, 2831, 1892, 2277, 2918, 2535, 3048, 3119, 2667, 2668, 2669, 2798, 2928, 3059, 757, 1526, 2681, 3067, 1533]}\n",
      "Retrieve scores...\n",
      "Evaluate the scores.\n"
     ]
    },
    {
     "data": {
      "image/png": "[encoded data removed]",
      "text/plain": [
       "<matplotlib.figure.Figure at 0x7faa06dd3f98>"
      ]
     },
     "metadata": {},
     "output_type": "display_data"
    },
    {
     "name": "stdout",
     "output_type": "stream",
     "text": [
      "--------------------\n",
      "Done.\n"
     ]
    }
   ],
   "source": [
    "if test_PRrecallmeasure:\n",
    "    print(\"\\n###### Testing evaluation.PrecisionRecallMeasure: ###### \")\n",
    "    queryChosen = np.random.randint(1, 50, size=10)\n",
    "    queryChosen =[7, 10, 25]#, 14, 26, 27, 42, 43] # lots of relevant results\n",
    "    qp = QueryParserCACM(cacm_qry, cacm_rel)\n",
    "    query = qp.nextQuery()\n",
    "    print(\"Searching for query #\", queryChosen)\n",
    "    while query is not None :\n",
    "        if int(query.getID()) in queryChosen:\n",
    "            print(\"Query:\", query)\n",
    "            queryTxt = stemmer.getTextRepresentation(query.getText())\n",
    "            print(\"Retrieve scores...\")\n",
    "            scores = vect.getRanking(queryTxt)\n",
    "            irlist = evaluation.IRList(query, scores)\n",
    "            precisRecall = evaluation.PrecisionRecallMeasure(irlist)\n",
    "            print(\"Evaluate the scores.\")\n",
    "            pr = precisRecall.eval(verbose=False, nbLevel=100) # (recall, precision)\n",
    "            precision = [p for r,p in pr]\n",
    "            recall = [r for r,p in pr]\n",
    "            plt.plot(recall, precision)\n",
    "            plt.title(\"Precision-Recall for query #\"+query.getID())\n",
    "            plt.show()\n",
    "            print(20*'-')\n",
    "\n",
    "\n",
    "        query = qp.nextQuery()\n",
    "    print(\"Done.\")\n",
    "else:\n",
    "    print(\"\\n##### Skipping the test of PrecisionRecallMeasure #####\")\n",
    "    "
   ]
  },
  {
   "cell_type": "code",
   "execution_count": 48,
   "metadata": {
    "collapsed": false,
    "deletable": true,
    "editable": true,
    "scrolled": false
   },
   "outputs": [
    {
     "name": "stdout",
     "output_type": "stream",
     "text": [
      "\n",
      "###### Testing evaluation.AveragePrecision: ###### \n",
      "Searching for query # [7, 10, 14] \n",
      "\n",
      "Query: Query {id=7, txt='I am interested in distributed algorithms - concurrent programs in\n",
      "which processes communicate and synchronize by using message passing.\n",
      "Areas of particular interest include fault-tolerance and techniques\n",
      "for understanding the correctness of these algorithms.\n",
      "', relevances=[3141, 2376, 3148, 3082, 2700, 2895, 2320, 2578, 1877, 2777, 2618, 2597, 2912, 2256, 3043, 2342, 2150, 2280, 2866, 1198, 2941, 2865, 2482, 1960, 2228, 3128, 1338, 2685]}\n",
      "Retrieve scores...\n",
      "Evaluate the scores.\n",
      "Average precision: 0.224965\n",
      "--------------------\n",
      "Query: Query {id=10, txt='Parallel languages; languages for parallel computation\n",
      "', relevances=[2896, 1601, 1795, 3075, 1158, 2433, 2376, 2700, 2060, 1613, 141, 2256, 1747, 3156, 1262, 2777, 2714, 2895, 3039, 2912, 2785, 2851, 1380, 2342, 2150, 2289, 2664, 46, 1198, 392, 1811, 950, 2618, 2685, 1471]}\n",
      "Retrieve scores...\n",
      "Evaluate the scores.\n",
      "Average precision: 0.476700\n",
      "--------------------\n",
      "Query: Query {id=14, txt='find all discussions of optimal implementations of sort algorithms for\n",
      "database management applications\n",
      "', relevances=[2176, 2563, 776, 2191, 3075, 1175, 2714, 2716, 866, 2337, 1956, 2348, 2397, 1969, 827, 2108, 864, 1724, 2118, 865, 74, 1997, 850, 851, 852, 854, 855, 856, 857, 858, 860, 861, 862, 2272, 2017, 2146, 2664, 1980, 232, 3187, 117, 2679, 2041, 1919]}\n",
      "Retrieve scores...\n",
      "Evaluate the scores.\n",
      "Average precision: 0.449702\n",
      "--------------------\n",
      "Done.\n"
     ]
    }
   ],
   "source": [
    "if test_averageprecision:\n",
    "    print(\"\\n###### Testing evaluation.AveragePrecision: ###### \")\n",
    "    queryChosen = np.random.randint(1, 50, size=10)\n",
    "    queryChosen =[7, 10, 14]#, 25, 26, 27, 42, 43] # lots of relevant results\n",
    "    qp = QueryParserCACM(cacm_qry, cacm_rel)\n",
    "    query = qp.nextQuery()\n",
    "    print(\"Searching for query #\",queryChosen, \"\\n\")\n",
    "    while query is not None :\n",
    "        if int(query.getID()) in queryChosen:\n",
    "            print(\"Query:\", query)\n",
    "            queryTxt = stemmer.getTextRepresentation(query.getText())\n",
    "            print(\"Retrieve scores...\")\n",
    "            scores = vect.getRanking(queryTxt)\n",
    "            irlist = evaluation.IRList(query, scores)\n",
    "            average_measure = evaluation.AveragePrecision(irlist)\n",
    "            print(\"Evaluate the scores.\")\n",
    "            average_prec = average_measure.eval(verbose=False, step=1)\n",
    "            print(\"Average precision: %f\" % average_prec)\n",
    "            print(20*'-')\n",
    "\n",
    "        query = qp.nextQuery()\n",
    "    print(\"Done.\")\n",
    "else:\n",
    "    print(\"\\n##### Skipping the test of PrecisionRecallMeasure #####\")\n"
   ]
  },
  {
   "cell_type": "code",
   "execution_count": 62,
   "metadata": {
    "collapsed": false,
    "deletable": true,
    "editable": true
   },
   "outputs": [
    {
     "name": "stdout",
     "output_type": "stream",
     "text": [
      "\n",
      "###### Testing evaluation.EvalIRModel: ###### \n",
      "Searching for queries # [7, 10, 14] \n",
      "\n",
      "Found query #7\n",
      "Found query #10\n",
      "Found query #14\n",
      "irmodel, measure, mean(score)\n",
      "IRModel: vectoriel\n",
      "Retrieve scores for query #7\n",
      "Retrieve scores for query #10\n",
      "Retrieve scores for query #14\n",
      "Measure: averagePrecision\n",
      "vectoriel averagePrecision [0.01624059859856311, 0.0069159115593200645, 0.04161512450545839]\n",
      "Done.\n"
     ]
    }
   ],
   "source": [
    "\n",
    "if test_eval_ir_model:\n",
    "    print(\"\\n###### Testing evaluation.EvalIRModel: ###### \")\n",
    "    queryChosen = np.random.randint(1, 50, size=10)\n",
    "    queryChosen =[7, 10, 14]#, 25, 26, 27, 42, 43] # lots of relevant results\n",
    "    queries = []\n",
    "    qp = QueryParserCACM(cacm_qry, cacm_rel)\n",
    "    query = qp.nextQuery()\n",
    "    print(\"Searching for queries #\",queryChosen, \"\\n\")\n",
    "    while query is not None :\n",
    "        if int(query.getID()) in queryChosen:\n",
    "            print(\"Found query #\" + query.getID())\n",
    "            queries.append(query)\n",
    "        query = qp.nextQuery()\n",
    "    irmodels = {\"vectoriel\": modeles.Vectoriel(idx, tfidfWeighter)}\n",
    "    measures = {\"averagePrecision\": evaluation.AveragePrecision}\n",
    "    eval_model = evaluation.EvalIRModel(queries, irmodels, measures)\n",
    "    eval_model.eval()\n",
    "    print(\"Done.\")\n",
    "else:\n",
    "    print(\"\\n##### Skipping the test of EvalIRModel #####\")\n"
   ]
  },
  {
   "cell_type": "code",
   "execution_count": null,
   "metadata": {
    "collapsed": true
   },
   "outputs": [],
   "source": []
  },
  {
   "cell_type": "code",
   "execution_count": null,
   "metadata": {
    "collapsed": true
   },
   "outputs": [],
   "source": []
  },
  {
   "cell_type": "code",
   "execution_count": null,
   "metadata": {
    "collapsed": true
   },
   "outputs": [],
   "source": []
  }
 ],
 "metadata": {
  "kernelspec": {
   "display_name": "Python 3",
   "language": "python",
   "name": "python3"
  },
  "language_info": {
   "codemirror_mode": {
    "name": "ipython",
    "version": 3
   },
   "file_extension": ".py",
   "mimetype": "text/x-python",
   "name": "python",
   "nbconvert_exporter": "python",
   "pygments_lexer": "ipython3",
   "version": "3.5.2"
  }
 },
 "nbformat": 4,
 "nbformat_minor": 2
}
