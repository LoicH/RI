{
 "cells": [
  {
   "cell_type": "markdown",
   "metadata": {
    "deletable": true,
    "editable": true
   },
   "source": [
    "# Information Retrieval"
   ]
  },
  {
   "cell_type": "code",
   "execution_count": 1,
   "metadata": {
    "collapsed": false,
    "deletable": true,
    "editable": true
   },
   "outputs": [],
   "source": [
    "import ParserCACM\n",
    "import TextRepresenter\n",
    "import indexation\n",
    "import modeles\n",
    "from query import QueryParserCACM\n",
    "import evaluation\n",
    "import os\n",
    "import matplotlib.pyplot as plt\n",
    "%matplotlib inline\n",
    "import numpy as np\n",
    "import operator\n",
    "# Auto reload the imported modules when running cells\n",
    "%load_ext autoreload \n",
    "%autoreload 2\n",
    "\n",
    "\"\"\" Some info to remember when testing:\n",
    "- Query 10 is about parallel computation\n",
    "- Doc 46 is about parallelism too\n",
    "\"\"\"\n",
    "\n",
    "# Constants:\n",
    "srcFolder = \"cacm/\" \n",
    "srcFile = \"cacm.txt\"\n",
    "qryFile = \"cacm.qry\"\n",
    "relFile = \"cacm.rel\"\n",
    "gendata = \"gendata\" #output folder\n",
    "indexName = \"cacm\"\n",
    "\n",
    "cacm_txt = os.path.join(srcFolder, srcFile)\n",
    "cacm_qry = os.path.join(srcFolder, qryFile)\n",
    "cacm_rel = os.path.join(srcFolder, relFile)"
   ]
  },
  {
   "cell_type": "markdown",
   "metadata": {
    "deletable": true,
    "editable": true
   },
   "source": [
    "##  Indexing:"
   ]
  },
  {
   "cell_type": "code",
   "execution_count": 2,
   "metadata": {
    "collapsed": false,
    "deletable": true,
    "editable": true
   },
   "outputs": [
    {
     "name": "stdout",
     "output_type": "stream",
     "text": [
      "Performing the indexation...\n",
      "1st pass: build the index...\n",
      "2nd pass: build the inverted index...\n",
      "Finished.\n",
      "Successfully indexed 3204 documents\n"
     ]
    }
   ],
   "source": [
    "# Construct the index:\n",
    "idx = indexation.Index(indexName, gendata)\n",
    "stemmer = TextRepresenter.PorterStemmer()\n",
    "parser = ParserCACM.ParserCACM()\n",
    "idx.indexation(cacm_txt, parser, stemmer, verbose=True)\n",
    "N_docs = len(idx.getDocsID())\n",
    "print(\"Successfully indexed %d documents\" % N_docs)"
   ]
  },
  {
   "cell_type": "markdown",
   "metadata": {
    "deletable": true,
    "editable": true
   },
   "source": [
    "## Testing precision/recall measure:\n"
   ]
  },
  {
   "cell_type": "code",
   "execution_count": 3,
   "metadata": {
    "collapsed": false,
    "deletable": true,
    "editable": true,
    "scrolled": false
   },
   "outputs": [
    {
     "name": "stdout",
     "output_type": "stream",
     "text": [
      "\n",
      "###### Testing evaluation.PrecisionRecallMeasure: ###### \n",
      "Searching for query # [7, 29, 30]\n",
      "\n",
      "Query: Query {id=7, txt='I am interested in distributed algorithms - concurrent programs in\n",
      "which processes communicate and synchronize by using message passing.\n",
      "Areas of particular interest include fault-tolerance and techniques\n",
      "for understanding the correctness of these algorithms.\n",
      "', relevances=[1198, 1338, 1877, 1960, 2150, 2228, 2256, 2280, 2320, 2342, 2376, 2482, 2578, 2597, 2618, 2685, 2700, 2777, 2865, 2866, 2895, 2912, 2941, 3043, 3082, 3128, 3141, 3148]}\n",
      "Retrieve scores...\n",
      "This query has 28 relevant results\n",
      "   i |found| precision | recall\n",
      "    1|   1 | 1.000000  |0.035714\n",
      "    2|   2 | 1.000000  |0.071429\n",
      "    4|   3 | 0.750000  |0.107143\n",
      "   12|   4 | 0.333333  |0.142857\n",
      "   13|   5 | 0.384615  |0.178571\n",
      "   19|   6 | 0.315789  |0.214286\n",
      "   21|   7 | 0.333333  |0.250000\n",
      "   31|   8 | 0.258065  |0.285714\n",
      "   32|   9 | 0.281250  |0.321429\n",
      "   45|  10 | 0.222222  |0.357143\n",
      "   49|  11 | 0.224490  |0.392857\n",
      "   57|  12 | 0.210526  |0.428571\n",
      "   65|  13 | 0.200000  |0.464286\n",
      "   79|  14 | 0.177215  |0.500000\n",
      "  112|  15 | 0.133929  |0.535714\n",
      "  127|  16 | 0.125984  |0.571429\n",
      "  141|  17 | 0.120567  |0.607143\n",
      "  290|  18 | 0.062069  |0.642857\n",
      "  301|  19 | 0.063123  |0.678571\n",
      "  304|  20 | 0.065789  |0.714286\n",
      "  588|  21 | 0.035714  |0.750000\n",
      " 1408|  22 | 0.015625  |0.785714\n",
      " 1655|  23 | 0.013897  |0.821429\n",
      " 1852|  24 | 0.012959  |0.857143\n",
      " 1869|  25 | 0.013376  |0.892857\n",
      " 2245|  26 | 0.011581  |0.928571\n",
      " 2882|  27 | 0.009368  |0.964286\n",
      " 3129|  28 | 0.008949  |1.000000\n"
     ]
    },
    {
     "data": {
      "image/png": "[encoded data removed]",
      "text/plain": [
       "<matplotlib.figure.Figure at 0x7fd30ac88f60>"
      ]
     },
     "metadata": {},
     "output_type": "display_data"
    },
    {
     "name": "stdout",
     "output_type": "stream",
     "text": [
      "--------------------\n",
      "\n",
      "Query: Query {id=29, txt='Number-theoretic algorithms, especially involving prime number series,\n",
      "sieves, and Chinese Remainder theorem.\n",
      "', relevances=[377, 513, 610, 935, 1094, 1420, 1537, 1538, 1539, 1840, 1841, 1967, 2028, 2089, 2120, 2462, 2927, 2932, 3037]}\n",
      "Retrieve scores...\n",
      "This query has 19 relevant results\n",
      "   i |found| precision | recall\n",
      "    1|   1 | 1.000000  |0.052632\n",
      "    2|   2 | 1.000000  |0.105263\n",
      "    3|   3 | 1.000000  |0.157895\n",
      "    4|   4 | 1.000000  |0.210526\n",
      "    5|   5 | 1.000000  |0.263158\n",
      "    6|   6 | 1.000000  |0.315789\n",
      "    7|   7 | 1.000000  |0.368421\n",
      "    8|   8 | 1.000000  |0.421053\n",
      "   10|   9 | 0.900000  |0.473684\n",
      "   11|  10 | 0.909091  |0.526316\n",
      "   12|  11 | 0.916667  |0.578947\n",
      "   13|  12 | 0.923077  |0.631579\n",
      "   14|  13 | 0.928571  |0.684211\n",
      "   15|  14 | 0.933333  |0.736842\n",
      "   17|  15 | 0.882353  |0.789474\n",
      "   19|  16 | 0.842105  |0.842105\n",
      "   39|  17 | 0.435897  |0.894737\n",
      "  171|  18 | 0.105263  |0.947368\n",
      "  186|  19 | 0.102151  |1.000000\n"
     ]
    },
    {
     "data": {
      "image/png": "[encoded data removed]",
      "text/plain": [
       "<matplotlib.figure.Figure at 0x7fd30ac708d0>"
      ]
     },
     "metadata": {},
     "output_type": "display_data"
    },
    {
     "name": "stdout",
     "output_type": "stream",
     "text": [
      "--------------------\n",
      "\n",
      "Query: Query {id=30, txt='Articles on text formatting systems, including \"what you see is what you\n",
      "get\" systems.  Examples: t/nroff, scribe, bravo.\n",
      "', relevances=[1926, 2486, 2786, 2917]}\n",
      "Retrieve scores...\n",
      "This query has 4 relevant results\n",
      "   i |found| precision | recall\n",
      "    1|   1 | 1.000000  |0.250000\n",
      "    6|   2 | 0.333333  |0.500000\n",
      "   13|   3 | 0.230769  |0.750000\n",
      "   18|   4 | 0.222222  |1.000000\n"
     ]
    },
    {
     "data": {
      "image/png": "[encoded data removed]",
      "text/plain": [
       "<matplotlib.figure.Figure at 0x7fd30853ef28>"
      ]
     },
     "metadata": {},
     "output_type": "display_data"
    },
    {
     "name": "stdout",
     "output_type": "stream",
     "text": [
      "--------------------\n",
      "Done.\n"
     ]
    }
   ],
   "source": [
    "binWeighter = modeles.BinaryWeighter(idx)\n",
    "tfidfWeighter = modeles.TfidfWeighter(idx)\n",
    "vect = modeles.Vectoriel(idx, tfidfWeighter)\n",
    "\n",
    "print(\"\\n###### Testing evaluation.PrecisionRecallMeasure: ###### \")\n",
    "queryChosen = [7, 29, 30]\n",
    "qp = QueryParserCACM(cacm_qry, cacm_rel)\n",
    "query = qp.nextQuery()\n",
    "print(\"Searching for query #\", queryChosen)\n",
    "while query is not None :\n",
    "    if int(query.getID()) in queryChosen:\n",
    "        print(\"\\nQuery:\", query)\n",
    "        queryTxt = stemmer.getTextRepresentation(query.getText())\n",
    "        print(\"Retrieve scores...\")\n",
    "        ranking = vect.getRanking(queryTxt)\n",
    "        irlist = evaluation.IRList(query, ranking)\n",
    "        precisRecall = evaluation.PrecisionRecallMeasure(irlist)\n",
    "        pr = precisRecall.eval(verbose=True, nbLevel=100) # (recall, precision)\n",
    "        precision = [p for r,p in pr]\n",
    "        recall = [r for r,p in pr]\n",
    "        plt.plot(recall, precision)\n",
    "        plt.title(\"Precision-Recall for query #\"+query.getID())\n",
    "        plt.show()\n",
    "        print(20*'-')\n",
    "\n",
    "\n",
    "    query = qp.nextQuery()\n",
    "print(\"Done.\")\n"
   ]
  },
  {
   "cell_type": "markdown",
   "metadata": {
    "deletable": true,
    "editable": true
   },
   "source": [
    "## Testing average precision:"
   ]
  },
  {
   "cell_type": "code",
   "execution_count": 4,
   "metadata": {
    "collapsed": false,
    "deletable": true,
    "editable": true,
    "scrolled": false
   },
   "outputs": [
    {
     "name": "stdout",
     "output_type": "stream",
     "text": [
      "\n",
      "###### Testing evaluation.AveragePrecision: ###### \n",
      "Searching for query # [9, 10, 14, 29] \n",
      "\n",
      "Query: Query {id=9, txt='Security considerations in local networks, network operating systems,\n",
      "and distributed systems.\n",
      "', relevances=[2372, 2632, 2870, 2876, 3068, 3111, 3128, 3158, 3177]}\n",
      "Retrieve scores...\n",
      "Evaluate the scores.\n",
      "This query has 9 relevant results\n",
      "   i |found| precision\n",
      "    1|   1 | 1.000000\n",
      "    2|   2 | 1.000000\n",
      "    3|   3 | 1.000000\n",
      "    4|   4 | 1.000000\n",
      "    6|   5 | 0.833333\n",
      "   33|   6 | 0.181818\n",
      "   71|   7 | 0.098592\n",
      "  111|   8 | 0.072072\n",
      "  311|   9 | 0.028939\n",
      "Average precision: 0.579417\n",
      "--------------------\n",
      "Query: Query {id=10, txt='Parallel languages; languages for parallel computation\n",
      "', relevances=[46, 141, 392, 950, 1158, 1198, 1262, 1380, 1471, 1601, 1613, 1747, 1795, 1811, 2060, 2150, 2256, 2289, 2342, 2376, 2433, 2618, 2664, 2685, 2700, 2714, 2777, 2785, 2851, 2895, 2896, 2912, 3039, 3075, 3156]}\n",
      "Retrieve scores...\n",
      "Evaluate the scores.\n",
      "This query has 35 relevant results\n",
      "   i |found| precision\n",
      "    1|   1 | 1.000000\n",
      "    2|   2 | 1.000000\n",
      "    3|   3 | 1.000000\n",
      "    4|   4 | 1.000000\n",
      "    5|   5 | 1.000000\n",
      "    8|   6 | 0.750000\n",
      "    9|   7 | 0.777778\n",
      "   10|   8 | 0.800000\n",
      "   11|   9 | 0.818182\n",
      "   12|  10 | 0.833333\n",
      "   13|  11 | 0.846154\n",
      "   18|  12 | 0.666667\n",
      "   19|  13 | 0.684211\n",
      "   26|  14 | 0.538462\n",
      "   30|  15 | 0.500000\n",
      "   31|  16 | 0.516129\n",
      "   32|  17 | 0.531250\n",
      "   38|  18 | 0.473684\n",
      "   47|  19 | 0.404255\n",
      "   51|  20 | 0.392157\n",
      "   56|  21 | 0.375000\n",
      "   62|  22 | 0.354839\n",
      "   65|  23 | 0.353846\n",
      "   69|  24 | 0.347826\n",
      "   84|  25 | 0.297619\n",
      "  104|  26 | 0.250000\n",
      "  211|  27 | 0.127962\n",
      "  620|  28 | 0.045161\n",
      " 1030|  29 | 0.028155\n",
      " 1345|  30 | 0.022305\n",
      " 1574|  31 | 0.019695\n",
      " 1824|  32 | 0.017544\n",
      " 2812|  33 | 0.011735\n",
      " 2908|  34 | 0.011692\n",
      " 3145|  35 | 0.011129\n",
      "Average precision: 0.480193\n",
      "--------------------\n",
      "Query: Query {id=14, txt='find all discussions of optimal implementations of sort algorithms for\n",
      "database management applications\n",
      "', relevances=[74, 117, 232, 776, 827, 850, 851, 852, 854, 855, 856, 857, 858, 860, 861, 862, 864, 865, 866, 1175, 1724, 1919, 1956, 1969, 1980, 1997, 2017, 2041, 2108, 2118, 2146, 2176, 2191, 2272, 2337, 2348, 2397, 2563, 2664, 2679, 2714, 2716, 3075, 3187]}\n",
      "Retrieve scores...\n",
      "Evaluate the scores.\n",
      "This query has 44 relevant results\n",
      "   i |found| precision\n",
      "    2|   1 | 0.500000\n",
      "    4|   2 | 0.500000\n",
      "    5|   3 | 0.600000\n",
      "    7|   4 | 0.571429\n",
      "    8|   5 | 0.625000\n",
      "    9|   6 | 0.666667\n",
      "   10|   7 | 0.700000\n",
      "   11|   8 | 0.727273\n",
      "   12|   9 | 0.750000\n",
      "   14|  10 | 0.714286\n",
      "   15|  11 | 0.733333\n",
      "   16|  12 | 0.750000\n",
      "   19|  13 | 0.684211\n",
      "   22|  14 | 0.636364\n",
      "   25|  15 | 0.600000\n",
      "   30|  16 | 0.533333\n",
      "   34|  17 | 0.500000\n",
      "   37|  18 | 0.486486\n",
      "   39|  19 | 0.487179\n",
      "   40|  20 | 0.500000\n",
      "   45|  21 | 0.466667\n",
      "   47|  22 | 0.468085\n",
      "   51|  23 | 0.450980\n",
      "   58|  24 | 0.413793\n",
      "   59|  25 | 0.423729\n",
      "   63|  26 | 0.412698\n",
      "   65|  27 | 0.415385\n",
      "   72|  28 | 0.388889\n",
      "   73|  29 | 0.397260\n",
      "   74|  30 | 0.405405\n",
      "   78|  31 | 0.397436\n",
      "   85|  32 | 0.376471\n",
      "   91|  33 | 0.362637\n",
      "   93|  34 | 0.365591\n",
      "   97|  35 | 0.360825\n",
      "  104|  36 | 0.346154\n",
      "  133|  37 | 0.278195\n",
      "  148|  38 | 0.256757\n",
      "  168|  39 | 0.232143\n",
      "  313|  40 | 0.127796\n",
      "  436|  41 | 0.094037\n",
      "  651|  42 | 0.064516\n",
      "  746|  43 | 0.057641\n",
      " 1369|  44 | 0.032140\n",
      "Average precision: 0.451382\n",
      "--------------------\n",
      "Query: Query {id=29, txt='Number-theoretic algorithms, especially involving prime number series,\n",
      "sieves, and Chinese Remainder theorem.\n",
      "', relevances=[377, 513, 610, 935, 1094, 1420, 1537, 1538, 1539, 1840, 1841, 1967, 2028, 2089, 2120, 2462, 2927, 2932, 3037]}\n",
      "Retrieve scores...\n",
      "Evaluate the scores.\n",
      "This query has 19 relevant results\n",
      "   i |found| precision\n",
      "    1|   1 | 1.000000\n",
      "    2|   2 | 1.000000\n",
      "    3|   3 | 1.000000\n",
      "    4|   4 | 1.000000\n",
      "    5|   5 | 1.000000\n",
      "    6|   6 | 1.000000\n",
      "    7|   7 | 1.000000\n",
      "    8|   8 | 1.000000\n",
      "   10|   9 | 0.900000\n",
      "   11|  10 | 0.909091\n",
      "   12|  11 | 0.916667\n",
      "   13|  12 | 0.923077\n",
      "   14|  13 | 0.928571\n",
      "   15|  14 | 0.933333\n",
      "   17|  15 | 0.882353\n",
      "   19|  16 | 0.842105\n",
      "   39|  17 | 0.435897\n",
      "  171|  18 | 0.105263\n",
      "  186|  19 | 0.102151\n",
      "Average precision: 0.835711\n",
      "--------------------\n"
     ]
    }
   ],
   "source": [
    "print(\"\\n###### Testing evaluation.AveragePrecision: ###### \")\n",
    "queryChosen =[9, 10, 14, 29]#, 25, 26, 27, 42, 43] # lots of relevant results\n",
    "qp = QueryParserCACM(cacm_qry, cacm_rel)\n",
    "query = qp.nextQuery()\n",
    "print(\"Searching for query #\",queryChosen, \"\\n\")\n",
    "while query is not None :\n",
    "    if int(query.getID()) in queryChosen:\n",
    "        print(\"Query:\", query)\n",
    "        queryTxt = stemmer.getTextRepresentation(query.getText())\n",
    "        print(\"Retrieve scores...\")\n",
    "        scores = vect.getRanking(queryTxt)\n",
    "        irlist = evaluation.IRList(query, scores)\n",
    "        average_measure = evaluation.AveragePrecision(irlist)\n",
    "        print(\"Evaluate the scores.\")\n",
    "        average_prec = average_measure.eval(verbose=True)\n",
    "        print(\"Average precision: %f\" % average_prec)\n",
    "        print(20*'-')\n",
    "\n",
    "    query = qp.nextQuery()\n"
   ]
  },
  {
   "cell_type": "markdown",
   "metadata": {
    "deletable": true,
    "editable": true
   },
   "source": [
    "## Testing EvalIRModel:"
   ]
  },
  {
   "cell_type": "code",
   "execution_count": 5,
   "metadata": {
    "collapsed": false,
    "deletable": true,
    "editable": true,
    "scrolled": true
   },
   "outputs": [
    {
     "name": "stdout",
     "output_type": "stream",
     "text": [
      "\n",
      "###### Testing evaluation.EvalIRModel: ###### \n",
      "Searching for queries # [ 9 46 29 18  6 22 22  4 34 32] ...\n",
      "Found queries\n",
      "Calling eval()...\n",
      "{('vectoriel_tfidf', 'averagePrecision'): (0.3663958301268338, 0.30173236250854613), ('vectoriel_bw', 'averagePrecision'): (0.27421307160375885, 0.28081803596094912)}\n",
      "Done.\n"
     ]
    }
   ],
   "source": [
    "print(\"\\n###### Testing evaluation.EvalIRModel: ###### \")\n",
    "queryChosen = np.random.randint(1, 64, size=10)\n",
    "#queryChosen =[7, 10, 14]#, 25, 26, 27, 42, 43] # lots of relevant results\n",
    "queries = []\n",
    "qp = QueryParserCACM(cacm_qry, cacm_rel)\n",
    "query = qp.nextQuery()\n",
    "print(\"Searching for queries #\",queryChosen, \"...\")\n",
    "while query is not None :\n",
    "    if int(query.getID()) in queryChosen:\n",
    "        queries.append(query)\n",
    "    query = qp.nextQuery()\n",
    "print(\"Found queries\")\n",
    "irmodels = {\"vectoriel_tfidf\": modeles.Vectoriel(idx, tfidfWeighter),\n",
    "            \"vectoriel_bw\": modeles.Vectoriel(idx, binWeighter)\n",
    "           }\n",
    "measures = {\"averagePrecision\": evaluation.AveragePrecision}\n",
    "eval_model = evaluation.EvalIRModel(queries, irmodels, measures)\n",
    "print(\"Calling eval()...\")\n",
    "print(eval_model.eval(verbose=False))\n",
    "print(\"Done.\")\n"
   ]
  },
  {
   "cell_type": "markdown",
   "metadata": {
    "collapsed": true,
    "deletable": true,
    "editable": true
   },
   "source": [
    "## Comparison of language models:"
   ]
  },
  {
   "cell_type": "code",
   "execution_count": 6,
   "metadata": {
    "collapsed": false,
    "deletable": true,
    "editable": true
   },
   "outputs": [
    {
     "name": "stdout",
     "output_type": "stream",
     "text": [
      "Searching for queries # [ 9 46 29 18  6 22 22  4 34 32] ...\n",
      "Found all queries\n",
      "Best unigram params: {'regularization': 0.3684210526315789, 'index': <indexation.Index object at 0x7fd3344ede48>}\n"
     ]
    }
   ],
   "source": [
    "from sklearn.model_selection import train_test_split\n",
    "\n",
    "# Searching queries:\n",
    "queries = []\n",
    "qp = QueryParserCACM(cacm_qry, cacm_rel)\n",
    "query = qp.nextQuery()\n",
    "print(\"Searching for queries #\",queryChosen, \"...\")\n",
    "while query is not None :\n",
    "    if int(query.getID()) in queryChosen:\n",
    "        queries.append(query)\n",
    "    query = qp.nextQuery()\n",
    "print(\"Found all queries\")\n",
    "\n",
    "q_train, q_test = train_test_split(queries)\n",
    "\n",
    "# Train models, find best parameters.\n",
    "unigram_params_grid = {'index':[idx], 'regularization':np.linspace(0,1, 20, endpoint=False)}\n",
    "\n",
    "#c = dict_combinations(params_grid)\n",
    "#print(\"comb: \",c)\n",
    "\n",
    "best_unigram_params = {'index':idx, 'regularization':0.36842105263157893}\n",
    "#best_unigram_params = evaluation.gridsearch(modeles.UnigramLanguage, unigram_params_grid, \n",
    "#                 q_train, evaluation.AveragePrecision, verbose=1)\n",
    "print(\"Best unigram params:\", best_unigram_params)"
   ]
  },
  {
   "cell_type": "code",
   "execution_count": 7,
   "metadata": {
    "collapsed": false,
    "deletable": true,
    "editable": true,
    "scrolled": true
   },
   "outputs": [
    {
     "name": "stdout",
     "output_type": "stream",
     "text": [
      "Best okapi params: {'b': 0.4444444444444444, 'k': 1.1111111111111112, 'index': <indexation.Index object at 0x7fd3344ede48>}\n"
     ]
    }
   ],
   "source": [
    "okapi_params_grid = {'index':[idx], 'k':np.linspace(1, 2, 10), 'b':np.linspace(0,2,10)}\n",
    "\n",
    "best_okapi_params = {'index':idx, 'k': 1.1111111111111112, 'b': 0.44444444444444442}\n",
    "#best_okapi_params = evaluation.gridsearch(modeles.Okapi, okapi_params_grid, \n",
    "#             q_train, evaluation.AveragePrecision, verbose=1)\n",
    "\n",
    "print(\"Best okapi params:\", best_okapi_params)"
   ]
  },
  {
   "cell_type": "markdown",
   "metadata": {
    "deletable": true,
    "editable": true
   },
   "source": [
    "### Execution on the test set:"
   ]
  },
  {
   "cell_type": "code",
   "execution_count": 8,
   "metadata": {
    "collapsed": false,
    "deletable": true,
    "editable": true
   },
   "outputs": [
    {
     "name": "stdout",
     "output_type": "stream",
     "text": [
      "best unigram params: {'regularization': 0.3684210526315789, 'index': <indexation.Index object at 0x7fd3344ede48>}\n",
      "best okapi params: {'b': 0.4444444444444444, 'k': 1.1111111111111112, 'index': <indexation.Index object at 0x7fd3344ede48>}\n",
      "IRModel: unigram\n",
      "Measure: measure\n",
      "(0.13844408879186273, 0.10858060707035216)\n",
      "IRModel: okapi\n",
      "Measure: measure\n",
      "(0.26030953755208913, 0.25164154095354219)\n",
      "{('unigram', 'measure'): (0.13844408879186273, 0.10858060707035216), ('okapi', 'measure'): (0.26030953755208913, 0.25164154095354219)}\n"
     ]
    }
   ],
   "source": [
    "print(\"best unigram params:\", best_unigram_params)\n",
    "print(\"best okapi params:\", best_okapi_params)\n",
    "\n",
    "irmodels = {'unigram':modeles.UnigramLanguage(**best_unigram_params),\n",
    "            'okapi':modeles.Okapi(**best_okapi_params)}\n",
    "\n",
    "eval_models = evaluation.EvalIRModel(q_test, irmodels, {'measure':evaluation.AveragePrecision})\n",
    "scores = eval_models.eval(verbose=True)\n",
    "print(scores)"
   ]
  },
  {
   "cell_type": "code",
   "execution_count": 9,
   "metadata": {
    "collapsed": false,
    "deletable": true,
    "editable": true
   },
   "outputs": [
    {
     "name": "stdout",
     "output_type": "stream",
     "text": [
      "\n",
      "###### Comparison of different models: ###### \n",
      "Searching for queries # [12  2 32  5  8 54 33 43 31 41] ...\n",
      "Found queries\n",
      "Calling eval()...\n",
      "{('okapi', 'averagePrecision'): (0.243672340600396, 0.20553749872172411), ('vectoriel_tfidf', 'averagePrecision'): (0.20331324259378994, 0.17270143278292813), ('vectoriel_bw', 'averagePrecision'): (0.13964320399619964, 0.12992065571580211), ('unigram', 'averagePrecision'): (0.25790542552341894, 0.20846090566468548)}\n",
      "Done.\n"
     ]
    }
   ],
   "source": [
    "print(\"\\n###### Comparison of different models: ###### \")\n",
    "queryChosen = np.random.randint(1, 64, size=10)\n",
    "queries = []\n",
    "qp = QueryParserCACM(cacm_qry, cacm_rel)\n",
    "query = qp.nextQuery()\n",
    "print(\"Searching for queries #\",queryChosen, \"...\")\n",
    "while query is not None :\n",
    "    if int(query.getID()) in queryChosen:\n",
    "        queries.append(query)\n",
    "    query = qp.nextQuery()\n",
    "print(\"Found queries\")\n",
    "irmodels = {\"vectoriel_tfidf\": modeles.Vectoriel(idx, tfidfWeighter),\n",
    "            \"vectoriel_bw\": modeles.Vectoriel(idx, binWeighter),\n",
    "            'unigram':modeles.UnigramLanguage(**best_unigram_params),\n",
    "            'okapi':modeles.Okapi(**best_okapi_params)\n",
    "           }\n",
    "measures = {\"averagePrecision\": evaluation.AveragePrecision}\n",
    "eval_model = evaluation.EvalIRModel(queries, irmodels, measures)\n",
    "print(\"Calling eval()...\")\n",
    "print(eval_model.eval(verbose=False))\n",
    "print(\"Done.\")\n"
   ]
  }
 ],
 "metadata": {
  "kernelspec": {
   "display_name": "Python 3",
   "language": "python",
   "name": "python3"
  },
  "language_info": {
   "codemirror_mode": {
    "name": "ipython",
    "version": 3
   },
   "file_extension": ".py",
   "mimetype": "text/x-python",
   "name": "python",
   "nbconvert_exporter": "python",
   "pygments_lexer": "ipython3",
   "version": "3.5.2"
  }
 },
 "nbformat": 4,
 "nbformat_minor": 2
}
