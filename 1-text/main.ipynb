{
 "cells": [
  {
   "cell_type": "markdown",
   "metadata": {
    "deletable": true,
    "editable": true
   },
   "source": [
    "# Information Retrieval"
   ]
  },
  {
   "cell_type": "code",
   "execution_count": 28,
   "metadata": {
    "collapsed": false,
    "deletable": true,
    "editable": true
   },
   "outputs": [
    {
     "name": "stdout",
     "output_type": "stream",
     "text": [
      "The autoreload extension is already loaded. To reload it, use:\n",
      "  %reload_ext autoreload\n"
     ]
    }
   ],
   "source": [
    "import ParserCACM\n",
    "import TextRepresenter\n",
    "import indexation\n",
    "import modeles\n",
    "from query import QueryParserCACM\n",
    "import evaluation\n",
    "import os\n",
    "import matplotlib.pyplot as plt\n",
    "%matplotlib inline\n",
    "import numpy as np\n",
    "import operator\n",
    "# Auto reload the imported modules when running cells\n",
    "%load_ext autoreload \n",
    "%autoreload 2\n",
    "\n",
    "\"\"\" Some info to remember when testing:\n",
    "- Query 10 is about parallel computation\n",
    "- Doc 46 is about parallelism too\n",
    "\"\"\"\n",
    "\n",
    "# Constants:\n",
    "srcFolder = \"cacm\" \n",
    "srcFile = \"cacm.txt\"\n",
    "qryFile = \"cacm.qry\"\n",
    "relFile = \"cacm.rel\"\n",
    "gendata = \"gendata\" #output folder\n",
    "indexName = \"cacm\"\n",
    "docId = 46\n",
    "queryId = np.random.randint(1,60)\n",
    "wordTest = \"logic\"\n",
    "\n",
    "cacm_txt = os.path.join(srcFolder, srcFile)\n",
    "cacm_qry = os.path.join(srcFolder, qryFile)\n",
    "cacm_rel = os.path.join(srcFolder, relFile)"
   ]
  },
  {
   "cell_type": "markdown",
   "metadata": {
    "deletable": true,
    "editable": true
   },
   "source": [
    "## Testing the indexation:"
   ]
  },
  {
   "cell_type": "code",
   "execution_count": 29,
   "metadata": {
    "collapsed": false,
    "deletable": true,
    "editable": true
   },
   "outputs": [
    {
     "name": "stdout",
     "output_type": "stream",
     "text": [
      "Performing the indexation...\n",
      "1st pass: build the index...\n",
      "2nd pass: build the inverted index...\n",
      "Finished.\n",
      "CPU times: user 4.36 s, sys: 568 ms, total: 4.93 s\n",
      "Wall time: 5.96 s\n"
     ]
    }
   ],
   "source": [
    "# Construct the index:\n",
    "idx = indexation.Index(indexName, gendata)\n",
    "stemmer = TextRepresenter.PorterStemmer()\n",
    "%time idx.indexation(cacm_txt, ParserCACM.ParserCACM(), stemmer)"
   ]
  },
  {
   "cell_type": "code",
   "execution_count": 30,
   "metadata": {
    "collapsed": false,
    "deletable": true,
    "editable": true
   },
   "outputs": [
    {
     "name": "stdout",
     "output_type": "stream",
     "text": [
      "\n",
      "###### Testing the index: ###### \n",
      "Retrieve common stems in doc 46:\n",
      "['program', 'programm', 'problem', 'parallel', 'logic', 'requir', 'stretch', 'discuss', 'met', 'minimum']\n",
      "Should look like\n",
      "> “The tendency towards increased parallelism in\n",
      "> computers is noted.  Exploitation of this parallelism\n",
      "> presents a number of new problems in machine design\n",
      "> and in programming systems...”\n",
      "\n",
      "Retrieve docs that contains 'logic'\n",
      "{2817: 1, 3154: 6, 1030: 1, 2568: 1, 2313: 2, 3082: 1, 2060: 1, 2322: 1, 2067: 1, 22: 1, 2845: 1, 30: 1, 2848: 3, 2851: 1, 2054: 1, 3111: 1, 1834: 1, 1324: 1, 46: 2, 1327: 1, 2952: 1, 2871: 4, 3133: 5, 63: 2, 320: 8, 1602: 2, 2230: 1, 2888: 1, 3147: 1, 1101: 1, 2127: 2, 850: 1, 595: 2, 753: 1, 2145: 1, 2146: 2, 1381: 1, 2406: 3, 1383: 2, 1103: 1, 2931: 5, 1908: 1, 1398: 1, 3194: 1, 1916: 1, 2943: 1, 1155: 2, 1462: 1, 1928: 4, 1677: 1, 1718: 1, 1170: 1, 1173: 1, 2209: 1, 1700: 1, 2726: 3, 679: 2, 1195: 1, 1965: 1, 1456: 1, 2227: 1, 2484: 1, 1974: 6, 1208: 1, 1465: 1, 3008: 1, 1788: 1, 202: 1, 971: 1, 2765: 1, 1235: 1, 1749: 1, 1188: 1, 3034: 2, 847: 1, 1786: 1, 2341: 1, 2273: 1, 1255: 1, 892: 1, 2794: 1, 1515: 1, 1261: 1, 2289: 3, 2035: 1, 1271: 1, 250: 1, 2812: 2, 2046: 1}\n",
      "Should include doc 63 and 46: True\n"
     ]
    }
   ],
   "source": [
    "print(\"\\n###### Testing the index: ###### \")\n",
    "print(\"Retrieve common stems in doc %d:\" % docId)\n",
    "stems = sorted(idx.getTfsForDoc(docId).items(), key=operator.itemgetter(1), reverse=True)\n",
    "print([stem for stem, freq in stems[:10]])\n",
    "print(\"\"\"Should look like\n",
    "> “The tendency towards increased parallelism in\n",
    "> computers is noted.  Exploitation of this parallelism\n",
    "> presents a number of new problems in machine design\n",
    "> and in programming systems...”\"\"\")\n",
    "\n",
    "print(\"\\nRetrieve docs that contains 'logic'\")\n",
    "docs = idx.getTfsForStem(\"logic\") \n",
    "print(docs)\n",
    "print(\"Should include doc 63 and 46:\", (63 in docs.keys() and 46 in docs.keys()))"
   ]
  },
  {
   "cell_type": "code",
   "execution_count": 31,
   "metadata": {
    "collapsed": true,
    "deletable": true,
    "editable": true
   },
   "outputs": [],
   "source": [
    "# Choosing what to test:\n",
    "test_binaryweighter = True\n",
    "test_tfidfweighter = True\n",
    "test_queryparser = True\n",
    "test_PRrecallmeasure = True\n",
    "test_averageprecision = True\n",
    "test_eval_ir_model = True\n",
    "test_unigram_model = True\n",
    "test_okapi = True"
   ]
  },
  {
   "cell_type": "markdown",
   "metadata": {
    "deletable": true,
    "editable": true
   },
   "source": [
    "## Testing the weighters:"
   ]
  },
  {
   "cell_type": "code",
   "execution_count": 7,
   "metadata": {
    "collapsed": false,
    "deletable": true,
    "editable": true
   },
   "outputs": [
    {
     "name": "stdout",
     "output_type": "stream",
     "text": [
      "\n",
      "#####Testing BinaryWeighter: #####\n",
      "bw.getDocWeightsForDoc( 46 ): {'discuss': 1, 'met': 1, 'minimum': 1, 'feasibl': 1, 'present': 1, 'burden': 1, 'tendenc': 1, 'parallel': 2, 'design': 1, 'number': 1, 'logic': 2, 'codd': 1, 'system': 1, 'describ': 1, 'programm': 3, 'execut': 1, 'combin': 1, 'scalzi': 1, 'techniqu': 1, 'note': 1, 'concurr': 1, 'balanc': 1, 'carefulli': 1, 'requir': 2, 'stretch': 2, 'compil': 1, 'consider': 1, 'built': 1, 'success': 1, 'comput': 1, 'lowri': 1, 'machin': 1, 'increas': 1, 'problem': 3, 'exploit': 1, 'independ': 1, 'program': 4, 'mcdonough': 1, 'place': 1, 'supervisori': 1, 'multiprogramm': 1}\n",
      "\n",
      "bw.getDocWeightsForStem('logic'): {2817: 1, 3154: 6, 1030: 1, 2568: 1, 2313: 2, 3082: 1, 2060: 1, 2322: 1, 2067: 1, 22: 1, 2845: 1, 30: 1, 2848: 3, 2851: 1, 2054: 1, 3111: 1, 1834: 1, 1324: 1, 46: 2, 1327: 1, 2952: 1, 2871: 4, 3133: 5, 63: 2, 320: 8, 1602: 2, 2230: 1, 2888: 1, 3147: 1, 1101: 1, 2127: 2, 850: 1, 595: 2, 753: 1, 2145: 1, 2146: 2, 1381: 1, 2406: 3, 1383: 2, 1103: 1, 2931: 5, 1908: 1, 1398: 1, 3194: 1, 1916: 1, 2943: 1, 1155: 2, 1462: 1, 1928: 4, 1677: 1, 1718: 1, 1170: 1, 1173: 1, 2209: 1, 1700: 1, 2726: 3, 679: 2, 1195: 1, 1965: 1, 1456: 1, 2227: 1, 2484: 1, 1974: 6, 1208: 1, 1465: 1, 3008: 1, 1788: 1, 202: 1, 971: 1, 2765: 1, 1235: 1, 1749: 1, 1188: 1, 3034: 2, 847: 1, 1786: 1, 2341: 1, 2273: 1, 1255: 1, 892: 1, 2794: 1, 1515: 1, 1261: 1, 2289: 3, 2035: 1, 1271: 1, 250: 1, 2812: 2, 2046: 1}\n",
      "\n",
      "bw.getWeightsForQuery(' Parallel languages; languages for parallel computation'): {'languag': 1, 'parallel': 1, 'comput': 1}\n",
      "\n",
      "#####Testing Vectoriel with BinaryWeighter: #####\n",
      "Top 10 documents for the previous query:\n",
      "Should include some of the following docs: 1043, 1188, 1306, \n",
      "    1358, 1396, 1491, 1923, 2246, 2316, 2527, 2699, 2710, 2715, 2716, \n",
      "    2906, 2923, 2956, 3073, 3150, \n",
      "[('2785', 0.6196773353931867), ('2685', 0.60522753266880247), ('1306', 0.58950634474656327), ('1262', 0.55708601453115558), ('1366', 0.53978144024077934), ('1471', 0.53333333333333333), ('1496', 0.48686449556014766), ('1659', 0.47628967220784024), ('830', 0.47140452079103173), ('93', 0.47140452079103173)]\n"
     ]
    }
   ],
   "source": [
    "query = stemmer.getTextRepresentation(\" Parallel languages; languages for parallel computation\")\n",
    "\n",
    "if test_binaryweighter:\n",
    "    print(\"\\n#####Testing BinaryWeighter: #####\")\n",
    "\n",
    "    bw = modeles.BinaryWeighter(idx)\n",
    "    print(\"bw.getDocWeightsForDoc(\",docId,\"):\", \n",
    "        bw.getDocWeightsForDoc(docId))\n",
    "    print(\"\\nbw.getDocWeightsForStem('\"+wordTest+\"'):\", \n",
    "        bw.getDocWeightsForStem(wordTest))\n",
    "    print(\"\\nbw.getWeightsForQuery(' Parallel languages; languages for parallel computation'):\", \n",
    "        bw.getWeightsForQuery(query))\n",
    "\n",
    "    print(\"\\n#####Testing Vectoriel with BinaryWeighter: #####\")\n",
    "    vect = modeles.Vectoriel(idx, bw)\n",
    "    print(\"Top 10 documents for the previous query:\")\n",
    "    print(\"\"\"Should include some of the following docs: 1043, 1188, 1306, \n",
    "    1358, 1396, 1491, 1923, 2246, 2316, 2527, 2699, 2710, 2715, 2716, \n",
    "    2906, 2923, 2956, 3073, 3150, \"\"\")\n",
    "    print(vect.getRanking(query)[:10])\n",
    "else:\n",
    "    print(\"\\n##### Skipping the test of BinaryWeighter #####\")\n",
    "    "
   ]
  },
  {
   "cell_type": "code",
   "execution_count": 8,
   "metadata": {
    "collapsed": false,
    "deletable": true,
    "editable": true
   },
   "outputs": [
    {
     "name": "stdout",
     "output_type": "stream",
     "text": [
      "\n",
      "###### Testing TfidfWeighter: ###### \n",
      "tfidfWeighter.getDocWeightsForDoc( 46 ): {'discuss': 1, 'met': 1, 'minimum': 1, 'feasibl': 1, 'present': 1, 'burden': 1, 'tendenc': 1, 'parallel': 2, 'design': 1, 'number': 1, 'logic': 2, 'codd': 1, 'system': 1, 'describ': 1, 'programm': 3, 'execut': 1, 'combin': 1, 'scalzi': 1, 'techniqu': 1, 'note': 1, 'concurr': 1, 'balanc': 1, 'carefulli': 1, 'requir': 2, 'stretch': 2, 'compil': 1, 'consider': 1, 'built': 1, 'success': 1, 'comput': 1, 'lowri': 1, 'machin': 1, 'increas': 1, 'problem': 3, 'exploit': 1, 'independ': 1, 'program': 4, 'mcdonough': 1, 'place': 1, 'supervisori': 1, 'multiprogramm': 1}\n",
      "\n",
      "tfidfWeighter.getDocWeightsForStem(\"logic\"): {2817: 1, 3154: 6, 1030: 1, 2568: 1, 2313: 2, 3082: 1, 2060: 1, 2322: 1, 2067: 1, 22: 1, 2845: 1, 30: 1, 2848: 3, 2851: 1, 2054: 1, 3111: 1, 1834: 1, 1324: 1, 46: 2, 1327: 1, 2952: 1, 2871: 4, 3133: 5, 63: 2, 320: 8, 1602: 2, 2230: 1, 2888: 1, 3147: 1, 1101: 1, 2127: 2, 850: 1, 595: 2, 753: 1, 2145: 1, 2146: 2, 1381: 1, 2406: 3, 1383: 2, 1103: 1, 2931: 5, 1908: 1, 1398: 1, 3194: 1, 1916: 1, 2943: 1, 1155: 2, 1462: 1, 1928: 4, 1677: 1, 1718: 1, 1170: 1, 1173: 1, 2209: 1, 1700: 1, 2726: 3, 679: 2, 1195: 1, 1965: 1, 1456: 1, 2227: 1, 2484: 1, 1974: 6, 1208: 1, 1465: 1, 3008: 1, 1788: 1, 202: 1, 971: 1, 2765: 1, 1235: 1, 1749: 1, 1188: 1, 3034: 2, 847: 1, 1786: 1, 2341: 1, 2273: 1, 1255: 1, 892: 1, 2794: 1, 1515: 1, 1261: 1, 2289: 3, 2035: 1, 1271: 1, 250: 1, 2812: 2, 2046: 1}\n",
      "\n",
      "tfidfWeighter.getWeightsForQuery(query): {'languag': 2.063342122745655, 'parallel': 3.7154464814986583, 'comput': 1.2477816381451639}\n",
      "\n",
      "###### Testing Vectoriel with TfidfWeighter: ###### \n",
      "Top 10 documents for the query:\n",
      "[('2785', 0.58402818133982293), ('1262', 0.55022124789918558), ('2685', 0.4705180276134806), ('141', 0.4194149275774155), ('2664', 0.41617615379853456), ('2973', 0.40635424019291577), ('1306', 0.39507197568948604), ('1471', 0.38834648309339875), ('392', 0.37513611553650089), ('950', 0.37351311122657732)]\n"
     ]
    }
   ],
   "source": [
    "tfidfWeighter = modeles.TfidfWeighter(idx)\n",
    "vect = modeles.Vectoriel(idx, tfidfWeighter)\n",
    "\n",
    "if test_tfidfweighter:\n",
    "    print(\"\\n###### Testing TfidfWeighter: ###### \")\n",
    "    print(\"tfidfWeighter.getDocWeightsForDoc(\", docId, \"):\",\n",
    "         tfidfWeighter.getDocWeightsForDoc(docId))\n",
    "    print(\"\\ntfidfWeighter.getDocWeightsForStem(\\\"logic\\\"):\",\n",
    "         tfidfWeighter.getDocWeightsForStem(wordTest))\n",
    "    print(\"\\ntfidfWeighter.getWeightsForQuery(query):\",\n",
    "         tfidfWeighter.getWeightsForQuery(query))\n",
    "    print(\"\\n###### Testing Vectoriel with TfidfWeighter: ###### \")\n",
    "    print(\"Top 10 documents for the query:\")\n",
    "    print(vect.getRanking(query)[:10])\n",
    "else:\n",
    "    print(\"\\n##### Skipping the test of TfidfWeighter #####\")"
   ]
  },
  {
   "cell_type": "markdown",
   "metadata": {
    "deletable": true,
    "editable": true
   },
   "source": [
    "## Testing the QueryParser"
   ]
  },
  {
   "cell_type": "code",
   "execution_count": 9,
   "metadata": {
    "collapsed": false,
    "deletable": true,
    "editable": true,
    "scrolled": true
   },
   "outputs": [
    {
     "name": "stdout",
     "output_type": "stream",
     "text": [
      "\n",
      "###### Testing QueryParserCACM: ###### \n",
      "Searching for query #22:\n",
      "Query: Query {id=22, txt='I am interested in hidden-line and hidden-surface algorithms for\n",
      "cylinders, toroids, spheres, and cones.  This is a rather specialized\n",
      "topic in computer graphics.\n",
      "', relevances=[2369, 2384, 2441, 2473, 2564, 2637, 2638, 2678, 2692, 2751, 2760, 2761, 2827, 2828, 2829, 3116, 3149]}\n",
      "\n",
      "Compute scores:\n",
      "[('2678', 0.2994111204321816), ('2473', 0.27274912289286957), ('2384', 0.27274912289286957), ('2827', 0.21367291323250295), ('2751', 0.21316287735822653), ('2638', 0.18799813643457414), ('2637', 0.18799813643457414), ('2564', 0.18799813643457414), ('2441', 0.18799813643457414), ('2924', 0.17567493572448997)]\n",
      "Done.\n"
     ]
    }
   ],
   "source": [
    "if test_queryparser:\n",
    "    print(\"\\n###### Testing QueryParserCACM: ###### \")\n",
    "    qp = QueryParserCACM(cacm_qry, cacm_rel)\n",
    "    query = qp.nextQuery()\n",
    "    print(\"Searching for query #%d:\" % queryId)\n",
    "    while query is not None and query.getID() != str(queryId):\n",
    "        #print(query)\n",
    "        #print(20*'-')\n",
    "        query = qp.nextQuery()\n",
    "\n",
    "    print(\"Query:\", query)\n",
    "    queryTxt = stemmer.getTextRepresentation(query.getText())\n",
    "    print(\"\\nCompute scores:\")\n",
    "    scores = vect.getRanking(queryTxt)\n",
    "    print(scores[:10])\n",
    "    print(\"Done.\")\n",
    "else:\n",
    "    print(\"\\n##### Skipping the test of QueryParserCACM #####\")"
   ]
  },
  {
   "cell_type": "markdown",
   "metadata": {
    "deletable": true,
    "editable": true
   },
   "source": [
    "## Testing precision/recall measure:\n"
   ]
  },
  {
   "cell_type": "code",
   "execution_count": 15,
   "metadata": {
    "collapsed": false,
    "deletable": true,
    "editable": true,
    "scrolled": false
   },
   "outputs": [
    {
     "name": "stdout",
     "output_type": "stream",
     "text": [
      "\n",
      "###### Testing evaluation.PrecisionRecallMeasure: ###### \n",
      "Searching for query # [7, 10, 25]\n",
      "Query: Query {id=7, txt='I am interested in distributed algorithms - concurrent programs in\n",
      "which processes communicate and synchronize by using message passing.\n",
      "Areas of particular interest include fault-tolerance and techniques\n",
      "for understanding the correctness of these algorithms.\n",
      "', relevances=[1198, 1338, 1877, 1960, 2150, 2228, 2256, 2280, 2320, 2342, 2376, 2482, 2578, 2597, 2618, 2685, 2700, 2777, 2865, 2866, 2895, 2912, 2941, 3043, 3082, 3128, 3141, 3148]}\n",
      "Retrieve scores...\n",
      "CPU times: user 256 ms, sys: 36 ms, total: 292 ms\n",
      "Wall time: 348 ms\n",
      "Create PrecisionRecallMeasure object\n",
      "Evaluate the scores.\n",
      "This query has 28 relevant results\n",
      "   i |found| precision | recall\n",
      "    1|   1 | 1.000000  |0.035714\n",
      "    2|   2 | 1.000000  |0.071429\n",
      "    4|   3 | 0.750000  |0.107143\n",
      "   12|   4 | 0.333333  |0.142857\n",
      "   13|   5 | 0.384615  |0.178571\n",
      "   19|   6 | 0.315789  |0.214286\n",
      "   21|   7 | 0.333333  |0.250000\n",
      "   31|   8 | 0.258065  |0.285714\n",
      "   32|   9 | 0.281250  |0.321429\n",
      "   45|  10 | 0.222222  |0.357143\n",
      "   49|  11 | 0.224490  |0.392857\n",
      "   57|  12 | 0.210526  |0.428571\n",
      "   65|  13 | 0.200000  |0.464286\n",
      "   79|  14 | 0.177215  |0.500000\n",
      "  112|  15 | 0.133929  |0.535714\n",
      "  126|  16 | 0.126984  |0.571429\n",
      "  141|  17 | 0.120567  |0.607143\n",
      "  290|  18 | 0.062069  |0.642857\n",
      "  301|  19 | 0.063123  |0.678571\n",
      "  304|  20 | 0.065789  |0.714286\n",
      "  588|  21 | 0.035714  |0.750000\n",
      " 1409|  22 | 0.015614  |0.785714\n",
      " 1655|  23 | 0.013897  |0.821429\n",
      " 1852|  24 | 0.012959  |0.857143\n",
      " 1868|  25 | 0.013383  |0.892857\n",
      " 2245|  26 | 0.011581  |0.928571\n",
      " 2317|  27 | 0.011653  |0.964286\n",
      " 2948|  28 | 0.009498  |1.000000\n"
     ]
    },
    {
     "data": {
      "image/png": "[encoded data removed]",
      "text/plain": [
       "<matplotlib.figure.Figure at 0x7f453fc5aa20>"
      ]
     },
     "metadata": {},
     "output_type": "display_data"
    },
    {
     "name": "stdout",
     "output_type": "stream",
     "text": [
      "--------------------\n",
      "Query: Query {id=10, txt='Parallel languages; languages for parallel computation\n",
      "', relevances=[46, 141, 392, 950, 1158, 1198, 1262, 1380, 1471, 1601, 1613, 1747, 1795, 1811, 2060, 2150, 2256, 2289, 2342, 2376, 2433, 2618, 2664, 2685, 2700, 2714, 2777, 2785, 2851, 2895, 2896, 2912, 3039, 3075, 3156]}\n",
      "Retrieve scores...\n",
      "CPU times: user 284 ms, sys: 152 ms, total: 436 ms\n",
      "Wall time: 389 ms\n",
      "Create PrecisionRecallMeasure object\n",
      "Evaluate the scores.\n",
      "This query has 35 relevant results\n",
      "   i |found| precision | recall\n",
      "    1|   1 | 1.000000  |0.028571\n",
      "    2|   2 | 1.000000  |0.057143\n",
      "    3|   3 | 1.000000  |0.085714\n",
      "    4|   4 | 1.000000  |0.114286\n",
      "    5|   5 | 1.000000  |0.142857\n",
      "    8|   6 | 0.750000  |0.171429\n",
      "    9|   7 | 0.777778  |0.200000\n",
      "   10|   8 | 0.800000  |0.228571\n",
      "   11|   9 | 0.818182  |0.257143\n",
      "   12|  10 | 0.833333  |0.285714\n",
      "   13|  11 | 0.846154  |0.314286\n",
      "   18|  12 | 0.666667  |0.342857\n",
      "   19|  13 | 0.684211  |0.371429\n",
      "   26|  14 | 0.538462  |0.400000\n",
      "   30|  15 | 0.500000  |0.428571\n",
      "   31|  16 | 0.516129  |0.457143\n",
      "   32|  17 | 0.531250  |0.485714\n",
      "   38|  18 | 0.473684  |0.514286\n",
      "   47|  19 | 0.404255  |0.542857\n",
      "   51|  20 | 0.392157  |0.571429\n",
      "   56|  21 | 0.375000  |0.600000\n",
      "   62|  22 | 0.354839  |0.628571\n",
      "   65|  23 | 0.353846  |0.657143\n",
      "   69|  24 | 0.347826  |0.685714\n",
      "   84|  25 | 0.297619  |0.714286\n",
      "  104|  26 | 0.250000  |0.742857\n",
      "  211|  27 | 0.127962  |0.771429\n",
      "  620|  28 | 0.045161  |0.800000\n",
      " 1026|  29 | 0.028265  |0.828571\n",
      " 1954|  30 | 0.015353  |0.857143\n",
      " 2069|  31 | 0.014983  |0.885714\n",
      " 2380|  32 | 0.013445  |0.914286\n",
      " 2604|  33 | 0.012673  |0.942857\n",
      " 2758|  34 | 0.012328  |0.971429\n",
      " 2854|  35 | 0.012263  |1.000000\n"
     ]
    },
    {
     "data": {
      "image/png": "[encoded data removed]",
      "text/plain": [
       "<matplotlib.figure.Figure at 0x7f453fcb6d68>"
      ]
     },
     "metadata": {},
     "output_type": "display_data"
    },
    {
     "name": "stdout",
     "output_type": "stream",
     "text": [
      "--------------------\n",
      "Query: Query {id=25, txt='Performance evaluation and modelling of computer systems\n",
      "', relevances=[268, 757, 963, 1408, 1518, 1526, 1533, 1572, 1653, 1698, 1719, 1805, 1892, 1901, 2085, 2095, 2218, 2277, 2318, 2319, 2358, 2373, 2434, 2452, 2535, 2582, 2667, 2668, 2669, 2681, 2741, 2765, 2798, 2818, 2831, 2859, 2862, 2863, 2881, 2918, 2928, 2984, 2988, 2996, 3006, 3048, 3059, 3067, 3088, 3089, 3119]}\n",
      "Retrieve scores...\n",
      "CPU times: user 256 ms, sys: 144 ms, total: 400 ms\n",
      "Wall time: 347 ms\n",
      "Create PrecisionRecallMeasure object\n",
      "Evaluate the scores.\n",
      "This query has 51 relevant results\n",
      "   i |found| precision | recall\n",
      "    1|   1 | 1.000000  |0.019608\n",
      "    2|   2 | 1.000000  |0.039216\n",
      "    4|   3 | 0.750000  |0.058824\n",
      "    5|   4 | 0.800000  |0.078431\n",
      "    6|   5 | 0.833333  |0.098039\n",
      "    7|   6 | 0.857143  |0.117647\n",
      "   11|   7 | 0.636364  |0.137255\n",
      "   14|   8 | 0.571429  |0.156863\n",
      "   16|   9 | 0.562500  |0.176471\n",
      "   17|  10 | 0.588235  |0.196078\n",
      "   18|  11 | 0.611111  |0.215686\n",
      "   19|  12 | 0.631579  |0.235294\n",
      "   20|  13 | 0.650000  |0.254902\n",
      "   24|  14 | 0.583333  |0.274510\n",
      "   25|  15 | 0.600000  |0.294118\n",
      "   35|  16 | 0.457143  |0.313725\n",
      "   42|  17 | 0.404762  |0.333333\n",
      "   51|  18 | 0.352941  |0.352941\n",
      "   59|  19 | 0.322034  |0.372549\n",
      "   61|  20 | 0.327869  |0.392157\n",
      "   63|  21 | 0.333333  |0.411765\n",
      "   65|  22 | 0.338462  |0.431373\n",
      "   94|  23 | 0.244681  |0.450980\n",
      "  104|  24 | 0.230769  |0.470588\n",
      "  120|  25 | 0.208333  |0.490196\n",
      "  122|  26 | 0.213115  |0.509804\n",
      "  125|  27 | 0.216000  |0.529412\n",
      "  142|  28 | 0.197183  |0.549020\n",
      "  158|  29 | 0.183544  |0.568627\n",
      "  171|  30 | 0.175439  |0.588235\n",
      "  179|  31 | 0.173184  |0.607843\n",
      "  235|  32 | 0.136170  |0.627451\n",
      "  250|  33 | 0.132000  |0.647059\n",
      "  285|  34 | 0.119298  |0.666667\n",
      "  299|  35 | 0.117057  |0.686275\n",
      "  312|  36 | 0.115385  |0.705882\n",
      "  322|  37 | 0.114907  |0.725490\n",
      "  449|  38 | 0.084633  |0.745098\n",
      "  678|  39 | 0.057522  |0.764706\n",
      "  694|  40 | 0.057637  |0.784314\n",
      "  701|  41 | 0.058488  |0.803922\n",
      "  731|  42 | 0.057456  |0.823529\n",
      "  763|  43 | 0.056356  |0.843137\n",
      "  804|  44 | 0.054726  |0.862745\n",
      "  872|  45 | 0.051606  |0.882353\n",
      "  899|  46 | 0.051168  |0.901961\n",
      " 1113|  47 | 0.042228  |0.921569\n",
      " 1137|  48 | 0.042216  |0.941176\n",
      " 1252|  49 | 0.039137  |0.960784\n",
      " 1394|  50 | 0.035868  |0.980392\n",
      " 3153|  51 | 0.016175  |1.000000\n"
     ]
    },
    {
     "data": {
      "image/png": "[encoded data removed]",
      "text/plain": [
       "<matplotlib.figure.Figure at 0x7f4541fd4470>"
      ]
     },
     "metadata": {},
     "output_type": "display_data"
    },
    {
     "name": "stdout",
     "output_type": "stream",
     "text": [
      "--------------------\n",
      "Done.\n"
     ]
    }
   ],
   "source": [
    "if test_PRrecallmeasure:\n",
    "    print(\"\\n###### Testing evaluation.PrecisionRecallMeasure: ###### \")\n",
    "    queryChosen = np.random.randint(1, 50, size=10)\n",
    "    queryChosen =[7, 10, 25]#, 14, 26, 27, 42, 43] # lots of relevant results\n",
    "    qp = QueryParserCACM(cacm_qry, cacm_rel)\n",
    "    query = qp.nextQuery()\n",
    "    print(\"Searching for query #\", queryChosen)\n",
    "    while query is not None :\n",
    "        if int(query.getID()) in queryChosen:\n",
    "            print(\"Query:\", query)\n",
    "            queryTxt = stemmer.getTextRepresentation(query.getText())\n",
    "            print(\"Retrieve scores...\")\n",
    "            %time ranking = vect.getRanking(queryTxt)\n",
    "            print(\"Create PrecisionRecallMeasure object\")\n",
    "            irlist = evaluation.IRList(query, ranking)\n",
    "            precisRecall = evaluation.PrecisionRecallMeasure(irlist)\n",
    "            print(\"Evaluate the scores.\")\n",
    "            pr = precisRecall.eval(verbose=True, nbLevel=100) # (recall, precision)\n",
    "            precision = [p for r,p in pr]\n",
    "            recall = [r for r,p in pr]\n",
    "            plt.plot(recall, precision)\n",
    "            plt.title(\"Precision-Recall for query #\"+query.getID())\n",
    "            plt.show()\n",
    "            print(20*'-')\n",
    "\n",
    "\n",
    "        query = qp.nextQuery()\n",
    "    print(\"Done.\")\n",
    "else:\n",
    "    print(\"\\n##### Skipping the test of PrecisionRecallMeasure #####\")"
   ]
  },
  {
   "cell_type": "markdown",
   "metadata": {},
   "source": [
    "## Testing average precision:"
   ]
  },
  {
   "cell_type": "code",
   "execution_count": 16,
   "metadata": {
    "collapsed": false,
    "deletable": true,
    "editable": true,
    "scrolled": false
   },
   "outputs": [
    {
     "name": "stdout",
     "output_type": "stream",
     "text": [
      "\n",
      "###### Testing evaluation.AveragePrecision: ###### \n",
      "Searching for query # [ 5  2  8 21 10 39 16  6 13 20] \n",
      "\n",
      "Query: Query {id=2, txt='I am interested in articles written either by Prieve or Udo Pooch\n",
      "', relevances=[2434, 2863, 3078]}\n",
      "Retrieve scores...\n",
      "Evaluate the scores.\n",
      "This query has 3 relevant results\n",
      "   i |found| precision\n",
      "   12|   1 | 0.083333\n",
      "   20|   2 | 0.100000\n",
      "   37|   3 | 0.081081\n",
      "Average precision: 0.088138\n",
      "--------------------\n",
      "Query: Query {id=5, txt='I'd like papers on design and implementation of editing interfaces,\n",
      "window-managers, command interpreters, etc.  The essential issues are\n",
      "human interface design, with views on improvements to user efficiency,\n",
      "effectiveness and satisfaction.\n",
      "', relevances=[756, 1307, 1502, 2035, 2299, 2399, 2501, 2820]}\n",
      "Retrieve scores...\n",
      "Evaluate the scores.\n",
      "This query has 8 relevant results\n",
      "   i |found| precision\n",
      "    1|   1 | 1.000000\n",
      "    8|   2 | 0.250000\n",
      "   11|   3 | 0.272727\n",
      "   21|   4 | 0.190476\n",
      "   34|   5 | 0.147059\n",
      "   41|   6 | 0.146341\n",
      "   95|   7 | 0.073684\n",
      "  113|   8 | 0.070796\n",
      "Average precision: 0.268886\n",
      "--------------------\n",
      "Query: Query {id=6, txt='Interested in articles on robotics, motion planning particularly the\n",
      "geometric and combinatorial aspects.  We are not interested in the\n",
      "dynamics of arm motion.\n",
      "', relevances=[1543, 2078, 2828]}\n",
      "Retrieve scores...\n",
      "Evaluate the scores.\n",
      "This query has 3 relevant results\n",
      "   i |found| precision\n",
      "    4|   1 | 0.250000\n",
      "    5|   2 | 0.400000\n",
      "   44|   3 | 0.068182\n",
      "Average precision: 0.239394\n",
      "--------------------\n",
      "Query: Query {id=8, txt='Addressing schemes for resources in networks; resource addressing in\n",
      "network operating systems\n",
      "', relevances=[2625, 2849, 3032]}\n",
      "Retrieve scores...\n",
      "Evaluate the scores.\n",
      "This query has 3 relevant results\n",
      "   i |found| precision\n",
      "    1|   1 | 1.000000\n",
      "   70|   2 | 0.028571\n",
      "   96|   3 | 0.031250\n",
      "Average precision: 0.353274\n",
      "--------------------\n",
      "Query: Query {id=10, txt='Parallel languages; languages for parallel computation\n",
      "', relevances=[46, 141, 392, 950, 1158, 1198, 1262, 1380, 1471, 1601, 1613, 1747, 1795, 1811, 2060, 2150, 2256, 2289, 2342, 2376, 2433, 2618, 2664, 2685, 2700, 2714, 2777, 2785, 2851, 2895, 2896, 2912, 3039, 3075, 3156]}\n",
      "Retrieve scores...\n",
      "Evaluate the scores.\n",
      "This query has 35 relevant results\n",
      "   i |found| precision\n",
      "    1|   1 | 1.000000\n",
      "    2|   2 | 1.000000\n",
      "    3|   3 | 1.000000\n",
      "    4|   4 | 1.000000\n",
      "    5|   5 | 1.000000\n",
      "    8|   6 | 0.750000\n",
      "    9|   7 | 0.777778\n",
      "   10|   8 | 0.800000\n",
      "   11|   9 | 0.818182\n",
      "   12|  10 | 0.833333\n",
      "   13|  11 | 0.846154\n",
      "   18|  12 | 0.666667\n",
      "   19|  13 | 0.684211\n",
      "   26|  14 | 0.538462\n",
      "   30|  15 | 0.500000\n",
      "   31|  16 | 0.516129\n",
      "   32|  17 | 0.531250\n",
      "   38|  18 | 0.473684\n",
      "   47|  19 | 0.404255\n",
      "   51|  20 | 0.392157\n",
      "   56|  21 | 0.375000\n",
      "   62|  22 | 0.354839\n",
      "   65|  23 | 0.353846\n",
      "   69|  24 | 0.347826\n",
      "   84|  25 | 0.297619\n",
      "  104|  26 | 0.250000\n",
      "  211|  27 | 0.127962\n",
      "  620|  28 | 0.045161\n",
      " 1026|  29 | 0.028265\n",
      " 1954|  30 | 0.015353\n",
      " 2069|  31 | 0.014983\n",
      " 2380|  32 | 0.013445\n",
      " 2604|  33 | 0.012673\n",
      " 2758|  34 | 0.012328\n",
      " 2854|  35 | 0.012263\n",
      "Average precision: 0.479824\n",
      "--------------------\n",
      "Query: Query {id=13, txt='code optimization for space efficiency\n",
      "', relevances=[115, 1223, 1231, 1551, 1625, 1795, 1807, 1947, 2495, 2579, 2897]}\n",
      "Retrieve scores...\n",
      "Evaluate the scores.\n",
      "This query has 11 relevant results\n",
      "   i |found| precision\n",
      "    1|   1 | 1.000000\n",
      "    4|   2 | 0.500000\n",
      "    5|   3 | 0.600000\n",
      "    7|   4 | 0.571429\n",
      "   10|   5 | 0.500000\n",
      "   36|   6 | 0.166667\n",
      "   38|   7 | 0.184211\n",
      "   69|   8 | 0.115942\n",
      "  294|   9 | 0.030612\n",
      "  428|  10 | 0.023364\n",
      "  870|  11 | 0.012644\n",
      "Average precision: 0.336806\n",
      "--------------------\n",
      "Query: Query {id=16, txt='find all descriptions of file handling in operating systems based on\n",
      "multiple processes and message passing.\n",
      "', relevances=[1746, 1749, 1828, 1854, 1960, 2070, 2114, 2342, 2376, 2378, 2500, 2632, 2817, 2912, 3073, 3105, 3148]}\n",
      "Retrieve scores...\n",
      "Evaluate the scores.\n",
      "This query has 17 relevant results\n",
      "   i |found| precision\n",
      "    3|   1 | 0.333333\n",
      "    4|   2 | 0.500000\n",
      "    6|   3 | 0.500000\n",
      "   21|   4 | 0.190476\n",
      "   94|   5 | 0.053191\n",
      "  104|   6 | 0.057692\n",
      "  118|   7 | 0.059322\n",
      "  148|   8 | 0.054054\n",
      "  155|   9 | 0.058065\n",
      "  199|  10 | 0.050251\n",
      "  235|  11 | 0.046809\n",
      "  240|  12 | 0.050000\n",
      "  243|  13 | 0.053498\n",
      "  425|  14 | 0.032941\n",
      "  535|  15 | 0.028037\n",
      "  940|  16 | 0.017021\n",
      " 1035|  17 | 0.016425\n",
      "Average precision: 0.123595\n",
      "--------------------\n",
      "Query: Query {id=20, txt='Graph theoretic algorithms applicable to sparse matrices\n",
      "', relevances=[1563, 2695, 2986]}\n",
      "Retrieve scores...\n",
      "Evaluate the scores.\n",
      "This query has 3 relevant results\n",
      "   i |found| precision\n",
      "   11|   1 | 0.090909\n",
      "   33|   2 | 0.060606\n",
      "   38|   3 | 0.078947\n",
      "Average precision: 0.076821\n",
      "--------------------\n",
      "Query: Query {id=21, txt='computational complexity, intractability, class-complete reductions,\n",
      "algorithms and efficiency\n",
      "', relevances=[1429, 1847, 2189, 2490, 2603, 2701, 2702, 2703, 2932, 3018, 3139]}\n",
      "Retrieve scores...\n",
      "Evaluate the scores.\n",
      "This query has 11 relevant results\n",
      "   i |found| precision\n",
      "    4|   1 | 0.250000\n",
      "    8|   2 | 0.250000\n",
      "   17|   3 | 0.176471\n",
      "   72|   4 | 0.055556\n",
      "   84|   5 | 0.059524\n",
      "   99|   6 | 0.060606\n",
      "  101|   7 | 0.069307\n",
      "  113|   8 | 0.070796\n",
      "  270|   9 | 0.033333\n",
      "  504|  10 | 0.019841\n",
      "  909|  11 | 0.012101\n",
      "Average precision: 0.096140\n",
      "--------------------\n",
      "Query: Query {id=39, txt='What does type compatibility mean in languages that allow programmer\n",
      "defined types?  (You might want to restrict this to \"extensible\" languages\n",
      "that allow definition of abstract data types or programmer-supplied\n",
      "definitions of operators like *, +.)\n",
      "', relevances=[1693, 1861, 2126, 2265, 2317, 2558, 2625, 2632, 2651, 2939, 2941, 3031]}\n",
      "Retrieve scores...\n",
      "Evaluate the scores.\n",
      "This query has 12 relevant results\n",
      "   i |found| precision\n",
      "    1|   1 | 1.000000\n",
      "    3|   2 | 0.666667\n",
      "    4|   3 | 0.750000\n",
      "   11|   4 | 0.363636\n",
      "   12|   5 | 0.416667\n",
      "   15|   6 | 0.400000\n",
      "   17|   7 | 0.411765\n",
      "   25|   8 | 0.320000\n",
      "   67|   9 | 0.134328\n",
      "   92|  10 | 0.108696\n",
      "  164|  11 | 0.067073\n",
      " 1267|  12 | 0.009471\n",
      "Average precision: 0.387359\n",
      "--------------------\n",
      "Done.\n"
     ]
    }
   ],
   "source": [
    "if test_averageprecision:\n",
    "    print(\"\\n###### Testing evaluation.AveragePrecision: ###### \")\n",
    "    queryChosen = np.random.randint(1, 50, size=10)\n",
    "    #queryChosen =[7, 10, 14]#, 25, 26, 27, 42, 43] # lots of relevant results\n",
    "    qp = QueryParserCACM(cacm_qry, cacm_rel)\n",
    "    query = qp.nextQuery()\n",
    "    print(\"Searching for query #\",queryChosen, \"\\n\")\n",
    "    while query is not None :\n",
    "        if int(query.getID()) in queryChosen:\n",
    "            print(\"Query:\", query)\n",
    "            queryTxt = stemmer.getTextRepresentation(query.getText())\n",
    "            print(\"Retrieve scores...\")\n",
    "            scores = vect.getRanking(queryTxt)\n",
    "            irlist = evaluation.IRList(query, scores)\n",
    "            average_measure = evaluation.AveragePrecision(irlist)\n",
    "            print(\"Evaluate the scores.\")\n",
    "            average_prec = average_measure.eval(verbose=True)\n",
    "            print(\"Average precision: %f\" % average_prec)\n",
    "            print(20*'-')\n",
    "\n",
    "        query = qp.nextQuery()\n",
    "    print(\"Done.\")\n",
    "else:\n",
    "    print(\"\\n##### Skipping the test of AveragePrecision #####\")"
   ]
  },
  {
   "cell_type": "markdown",
   "metadata": {},
   "source": [
    "## Testing EvalIRModel:"
   ]
  },
  {
   "cell_type": "code",
   "execution_count": 12,
   "metadata": {
    "collapsed": false,
    "deletable": true,
    "editable": true,
    "scrolled": true
   },
   "outputs": [
    {
     "name": "stdout",
     "output_type": "stream",
     "text": [
      "\n",
      "###### Testing evaluation.EvalIRModel: ###### \n",
      "Searching for queries # [ 3 13 20 10 12  7 27 19 34 23  3  1 47  9  2 29 37 30 15 43 31 24 22 30 38\n",
      " 12 10  5 46 21 27 45 41 48 18  6 21 47  3 47 40 23 44 12  9 41 23 21 34  8] ...\n",
      "Found queries\n",
      "Calling eval()...\n",
      "{('vectoriel', 'averagePrecision'): (0.26250494335157082, 0.21995300803766779)}\n",
      "Done.\n"
     ]
    }
   ],
   "source": [
    "if test_eval_ir_model:\n",
    "    print(\"\\n###### Testing evaluation.EvalIRModel: ###### \")\n",
    "    queryChosen = np.random.randint(1, 50, size=50)\n",
    "    #queryChosen =[7, 10, 14]#, 25, 26, 27, 42, 43] # lots of relevant results\n",
    "    queries = []\n",
    "    qp = QueryParserCACM(cacm_qry, cacm_rel)\n",
    "    query = qp.nextQuery()\n",
    "    print(\"Searching for queries #\",queryChosen, \"...\")\n",
    "    while query is not None :\n",
    "        if int(query.getID()) in queryChosen:\n",
    "            queries.append(query)\n",
    "        query = qp.nextQuery()\n",
    "    print(\"Found queries\")\n",
    "    irmodels = {\"vectoriel\": modeles.Vectoriel(idx, tfidfWeighter)}\n",
    "    measures = {\"averagePrecision\": evaluation.AveragePrecision}\n",
    "    eval_model = evaluation.EvalIRModel(queries, irmodels, measures)\n",
    "    print(\"Calling eval()...\")\n",
    "    print(eval_model.eval(verbose=False))\n",
    "    print(\"Done.\")\n",
    "else:\n",
    "    print(\"\\n##### Skipping the test of EvalIRModel #####\")"
   ]
  },
  {
   "cell_type": "markdown",
   "metadata": {},
   "source": [
    "## Testing the unigram language model:"
   ]
  },
  {
   "cell_type": "code",
   "execution_count": 41,
   "metadata": {
    "collapsed": false,
    "deletable": true,
    "editable": true
   },
   "outputs": [
    {
     "name": "stdout",
     "output_type": "stream",
     "text": [
      "\n",
      "###### Testing Unigram language: ###### \n",
      "Searching for queries # [45 44  6] ...\n",
      "Found queries\n",
      "Query {id=6, txt='Interested in articles on robotics, motion planning particularly the\n",
      "geometric and combinatorial aspects.  We are not interested in the\n",
      "dynamics of arm motion.\n",
      "', relevances=[1543, 2078, 2828]}\n",
      "Scores for 3 relevant docs:\n",
      "2452 -122.763988392\n",
      "2816 -122.763988392\n",
      "2882 -122.763988392\n",
      "Scores for 3 random docs:\n",
      "Irrelevant doc # 2082 enforc,process,type,interrog,idea,work,pl,trigger,automat,literatur,analysi,structur,format,syntax,answer,1,result,formal,360,languag,found,index,direct,exampl,mill,question,phase,2,basi,object,document,programm,concret,understand,retriev,small,illustrat,phrase,cross,storag,identifi,defin,call,provid,3,facil,grammar,wai,program,modifi,access,becom,syntactic\n",
      "Score for this doc: -122.763988392\n",
      "Irrelevant doc # 2739 statement,compact,conform,present,project,order,context,paper,past,embodi,routin,found,text,experi,english,comput,tree,analysi,computeriz,specif,effici,restrict,base,linguist,syntax,represent,parser,coverag,perspicu,sager,pars,grishman,valid,augment,languag,relat,set,design,natur,develop,group,essenti,number,programm,free,increas,current,ten,sentenc,string,implement,comprehens,year,defin,system,grammar,adequ,becom,were\n",
      "Score for this doc: -122.763988392\n",
      "Irrelevant doc # 354 function,associat,herndon,argument,kind,real,algorithm,47,legendr,imaginari\n",
      "Score for this doc: -122.763988392\n",
      "--------------------\n",
      "Query {id=44, txt='Texture analysis by computer.\tDigitized texture analysis.  Texture\n",
      "synthesis. Perception of texture.\n",
      "', relevances=[1804, 1891, 2004, 2382, 2514, 2523, 2547, 2687, 2751, 2771, 2827, 2829, 2910, 2913, 2924, 3013, 3047]}\n",
      "Scores for 3 relevant docs:\n",
      "2078 -97.2031764347\n",
      "2078 -97.2031764347\n",
      "1543 -96.8129031131\n",
      "Scores for 3 random docs:\n",
      "Irrelevant doc # 924 nexcom,algorithm,hoplei,152\n",
      "Score for this doc: -99.8444551496\n",
      "Irrelevant doc # 1606 pike,squar,hill,algorithm,chi,integr,s15,299\n",
      "Score for this doc: -99.8444551496\n",
      "Irrelevant doc # 683 serial,minimum,determin,techniqu,weimer,path\n",
      "Score for this doc: -99.8444551496\n",
      "--------------------\n",
      "Query {id=45, txt='The use of operations research models to optimize information system\n",
      "performance.  This includes fine tuning decisions such as secondary index\n",
      "selection, file reorganization, and distributed databases.\n",
      "', relevances=[268, 1831, 1935, 2140, 2257, 2359, 2360, 2452, 2493, 2669, 2680, 2716, 2765, 2816, 2878, 2882, 2900, 2964, 2965, 2969, 3002, 3058, 3129, 3137, 3152, 3168]}\n",
      "Scores for 3 relevant docs:\n",
      "2382 -146.771494839\n",
      "2004 -146.771494839\n",
      "1891 -146.771494839\n",
      "Scores for 3 random docs:\n",
      "Irrelevant doc # 1787 check,suitabl,oper,matric,illustr,exampl,context,type,number,usual,left,describ,free,matrix,stack,sentenc,translat,purpos,effici,pushdown,construct,recogn,compil,syntax,gri,bnf,effect,pars,grammar,formal,algorithm,transit,languag,correspond\n",
      "Score for this doc: -143.38228091\n",
      "Irrelevant doc # 2609 set,function,round,approxim,obtain,multi,ramp,introduc,lagerlof,fortran,smooth,variabl,continu,point,spline,effici,infinit,call,shown,deriv,interpol,extend,program,composit,bend\n",
      "Score for this doc: -146.771494839\n",
      "Irrelevant doc # 1676 represent,isol,extens,scatter,block,cohes,martin,mendicino,minim,tabl,common,notat,written,tree,softwar,zwakenberg,heavili,independ,subseg,comput,acquir,high,problem,pass,ranelletti,augment,maintain,occur,discuss,intern,processor,develop,postfix,number,possess,referr,machin,organ,fortran,techniqu,loop,confront,languag,storag,polish,compil,lrltran,call,optim,ii,depend,frequent,composit,level,iii\n",
      "Score for this doc: -142.643173613\n",
      "--------------------\n",
      "Done.\n"
     ]
    }
   ],
   "source": [
    "if test_unigram_model:\n",
    "    print(\"\\n###### Testing Unigram language: ###### \")\n",
    "    queryChosen = np.random.randint(1, 50, size=3)\n",
    "    #queryChosen =[7, 10, 14]#, 25, 26, 27, 42, 43] # lots of relevant results\n",
    "    queries = []\n",
    "    relevants = {} #dict of {query id : list of relevant doc id}\n",
    "    qp = QueryParserCACM(cacm_qry, cacm_rel)\n",
    "    query = qp.nextQuery()\n",
    "    print(\"Searching for queries #\",queryChosen, \"...\")\n",
    "    while query is not None :\n",
    "        if int(query.getID()) in queryChosen:\n",
    "            queries.append(query)\n",
    "            relevants[query.getID()] = list(query.getRelevants().keys())\n",
    "            #print(query)\n",
    "        query = qp.nextQuery()\n",
    "    print(\"Found queries\")\n",
    "    model = modeles.UnigramLanguage(idx, TextRepresenter.PorterStemmer(), 0.8)\n",
    "    for q, (q_id, relev) in zip(queries, relevants.items()):\n",
    "        print(q)\n",
    "        print(\"Scores for 3 relevant docs:\")\n",
    "        for doc_id in np.random.choice(relev, size=3):\n",
    "            print(doc_id, model.score(q, doc_id))\n",
    "        print(\"Scores for 3 random docs:\")\n",
    "        for doc_id in np.random.choice(idx.getDocsID(), size=3):\n",
    "            if doc_id in relev:\n",
    "                print(\"Doc #\", doc_id, \"Relevant doc\")\n",
    "            else:\n",
    "                stems = ','.join(idx.getTfsForDoc(doc_id).keys())\n",
    "                print(\"Irrelevant doc #\", doc_id, stems)\n",
    "                print(\"Score for this doc:\", model.score(q, doc_id))\n",
    "        print(20*'-')\n",
    "    print(\"Done.\")\n",
    "else:\n",
    "    print(\"\\n##### Skipping the test of LanguageModel #####\")"
   ]
  },
  {
   "cell_type": "markdown",
   "metadata": {},
   "source": [
    "##  Testing Okapi language model:"
   ]
  },
  {
   "cell_type": "code",
   "execution_count": 40,
   "metadata": {
    "collapsed": false,
    "deletable": true,
    "editable": true
   },
   "outputs": [
    {
     "name": "stdout",
     "output_type": "stream",
     "text": [
      "\n",
      "###### Testing Okapi: ###### \n",
      "Searching for queries # [42 19  2] ...\n",
      "Found queries\n",
      "Query {id=2, txt='I am interested in articles written either by Prieve or Udo Pooch\n",
      "', relevances=[2434, 2863, 3078]}\n",
      "Scores for 3 relevant docs:\n",
      "Relevant doc # 3075 procedur,permit,process,comput,present,sort,parallel,processor,number,model,hirschberg,integ,techniqu,product,simultan,permitt,fetch,requir,locat,time,content,space,arbitrari,1,log,bucket,realist,algorithm,fast,memori\n",
      "Score: 0.0\n",
      "Relevant doc # 1601 computation,procedur,extract,develop,obtain,numer,method,parallel,s8ever,solut,converg,famili,standard,process,inform,insur,techniqu,report,iter,singl,interpret,environ,independ,provid,classic,root,superior,question,measur,approxim,statist,algorithm,equat,stage,make,shedler\n",
      "Score: 0.0\n",
      "Relevant doc # 3075 procedur,permit,process,comput,present,sort,parallel,processor,number,model,hirschberg,integ,techniqu,product,simultan,permitt,fetch,requir,locat,time,content,space,arbitrari,1,log,bucket,realist,algorithm,fast,memori\n",
      "Score: 0.0\n",
      "Scores for 3 random docs:\n",
      "Irrelevant doc # 2951 assist,aim,user,load,data,process,resourc,model,fulli,system,benchmark,inform,compar,evalu,respons,store,node,human,job,predict,time,activ,investigat,studi,monitor,investig,feasibl,anlytic,analyt,applic,technic,obtain,emploi,share,achiev,divers,step,tool,perform,research,describ,dynamic,provid,compon,comput,vast,depend,detail,goal,ultim,arpa,network,suffici,participat,mamrak,capabl,wish,statist,level,reveal,measur,simul\n",
      "Score for this doc: 0.0\n",
      "Irrelevant doc # 2998 car,poin,represent,substanti,linear,paper,7,content,entropi,inform,roughli,frequenc,pointer,green,word,law,cdr,effici,zipf,empir,obei,clark,compress,space,12,static,10,physicalli,languag,found,studi,memori,nearbi,assumpt,discuss,consecut,list,bit,natur,locat,15,strengthen,pair,report,ter,observ,atom,structur,success,shown,greatli,analyz,lisp,larg,regular,predict,program,place,govern,reveal,measur,reason\n",
      "Score for this doc: 0.0\n",
      "Irrelevant doc # 362 sherman,techniqu,tabl\n",
      "Score for this doc: 0.0\n",
      "--------------------\n",
      "Query {id=19, txt='Parallel algorithms\n",
      "', relevances=[141, 863, 950, 1601, 2266, 2664, 2714, 2973, 3075, 3156, 3175]}\n",
      "Scores for 3 relevant docs:\n",
      "Relevant doc # 2522 resourc,supervisori,alloc,announc,present,process,discuss,model,work,system,propos,sourc,behavior,evalu,principl,softwar,analysi,futur,time,result,case,permit,comput,base,direct,compet,indic,larg,set,design,emploi,share,method,develop,operat,depend,research,rosel,strategi,algorithm,control,report,implement,page,dispatch,data,program,dupui,rodriguez,schedul\n",
      "Score: 0.212420490151\n",
      "Relevant doc # 1653 present,apprais,overhead,fundament,speed,goal,mix,inform,turnaround,pitfal,simul,examin,analysi,evalu,avail,requir,review,encount,perspect,instruct,approach,problem,cpu,discuss,method,develop,tool,perform,calingaert,art,appropri,explor,survei,greater,state,role,defin,success,kernel,amount,central,synthesi,place,level,throughput,measur\n",
      "Score: 0.0\n",
      "Relevant doc # 3048 resourc,necess,present,195,cach,discuss,configur,model,usag,replac,highli,experi,evalu,altern,simul,appear,concurr,emulat,construct,simplement,architectur,time,yield,case,comput,instruct,stream,buffer,result,need,360,studi,memori,fix,major,design,practic,ibm,detail,kumar,perform,91,describ,speed,control,unit,techniqu,pipelin,bottleneck,implement,point,reveal,subsystem,evaluat,high,data,davidson,determinist,sophisticat,statist,real,cpu\n",
      "Score: 0.0\n",
      "Scores for 3 random docs:\n",
      "Irrelevant doc # 809 algorithm,relph,191,hypergeometric\n",
      "Score for this doc: 0.609391023472\n",
      "Irrelevant doc # 1542 process,model,content,read,open,written,comput,microprogram,experiment,match,effici,requir,weber,higher,main,exist,space,consist,result,360,languag,obtain,30,term,interpret,ibm,euler,machin,describ,code,execut,appropri,control,unit,dimens,string,stress,implement,perform,storag,compil,role,structur,microprogramm,hardwar,program,algorithm,level\n",
      "Score for this doc: 0.228513303498\n",
      "Irrelevant doc # 1508 propos,interchang,usa,tape,inform,standard,magnet,label\n",
      "Score for this doc: 0.0\n",
      "--------------------\n",
      "Query {id=42, txt='Computer performance evaluation techniques using pattern recognition\n",
      "and clustering.\n",
      "', relevances=[1069, 1518, 1572, 1653, 1805, 1827, 1884, 2022, 2085, 2151, 2247, 2318, 2344, 2522, 2542, 2749, 2951, 2984, 3048, 3072]}\n",
      "Scores for 3 relevant docs:\n",
      "Relevant doc # 2434 set,dene,overcom,method,modifi,model,page,priev,introduc,behavior,note,assumpt,interrefer,work,interv,reconsid,paramet,examin,resid,result,rederiv,program,omiss,select,denn\n",
      "Score: 0.0\n",
      "Relevant doc # 2434 set,dene,overcom,method,modifi,model,page,priev,introduc,behavior,note,assumpt,interrefer,work,interv,reconsid,paramet,examin,resid,result,rederiv,program,omiss,select,denn\n",
      "Score: 0.0\n",
      "Relevant doc # 2863 set,vmin,partit,present,respect,criterion,perform,work,replac,system,describ,priev,improv,multilevel,compar,space,simulat,variabl,virtual,page,call,optim,shown,demand,realiz,optimum,measur,result,demonstr,program,algorithm,fabri,denn,memori\n",
      "Score: 1.89356249402\n",
      "Scores for 3 random docs:\n",
      "Irrelevant doc # 1042 polynomial,pereira,234,algorithm,charlier,simo,s23,poisson\n",
      "Score for this doc: 0.0\n",
      "Irrelevant doc # 254 confer,61,user,algol,acm,standard,agre,group,version,preliminari,1961,express,propos,speroni,size,smalgol,joint,comput,report,bachelork,dempster,subset,subcommitte,60,present,compil,defin,month,knuth,prior,consid,western,result,counter,small,languag,nation,recommend,final\n",
      "Score for this doc: 1.25423377444\n",
      "Irrelevant doc # 1827 event,associat,normal,user,tape,call,order,process,collect,model,michigan,minim,unrelat,pinkerton,inform,evalu,gener,exampl,magnet,analyz,job,construct,structur,time,monitor,occurr,obtain,dump,facil,futur,identifi,explain,360,action,termin,applic,supervisor,outlin,share,type,accur,operat,perform,interfer,overhead,describ,67,behavior,guidelin,multiprogramm,implement,exist,purpos,carefulli,offer,item,line,shown,record,softwar,data,dcf,date,mt,program,auxiliari,measur,instrument\n",
      "Score for this doc: 5.25623307098\n",
      "--------------------\n",
      "Done.\n"
     ]
    }
   ],
   "source": [
    "if test_okapi:\n",
    "    print(\"\\n###### Testing Okapi: ###### \")\n",
    "    queryChosen = np.random.randint(1, 50, size=3)\n",
    "    #queryChosen =[7, 10, 14]#, 25, 26, 27, 42, 43] # lots of relevant results\n",
    "    queries = []\n",
    "    relevants = {} #dict of {query id : list of relevant doc id}\n",
    "    qp = QueryParserCACM(cacm_qry, cacm_rel)\n",
    "    query = qp.nextQuery()\n",
    "    print(\"Searching for queries #\",queryChosen, \"...\")\n",
    "    while query is not None :\n",
    "        if int(query.getID()) in queryChosen:\n",
    "            queries.append(query)\n",
    "            relevants[query.getID()] = list(query.getRelevants().keys())\n",
    "            #print(query)\n",
    "        query = qp.nextQuery()\n",
    "    print(\"Found queries\")\n",
    "    model = modeles.Okapi(idx, TextRepresenter.PorterStemmer(), k=1, b=1)\n",
    "    for q, (q_id, relev) in zip(queries, relevants.items()):\n",
    "        print(q)\n",
    "        print(\"Scores for 3 relevant docs:\")\n",
    "        for doc_id in np.random.choice(relev, size=3):\n",
    "            stems = ','.join(idx.getTfsForDoc(doc_id).keys())\n",
    "            print(\"Relevant doc #\", doc_id, stems)\n",
    "            print(\"Score:\", model.score(q, doc_id))\n",
    "        print(\"Scores for 3 random docs:\")\n",
    "        for doc_id in np.random.choice(idx.getDocsID(), size=3):\n",
    "            if doc_id in relev:\n",
    "                print(\"Doc #\", doc_id, \"Relevant doc\")\n",
    "            else:\n",
    "                stems = ','.join(idx.getTfsForDoc(doc_id).keys())\n",
    "                print(\"Irrelevant doc #\", doc_id, stems)\n",
    "                print(\"Score for this doc:\", model.score(q, doc_id))\n",
    "        print(20*'-')\n",
    "    print(\"Done.\")\n",
    "else:\n",
    "    print(\"\\n##### Skipping the test of Okapi #####\")"
   ]
  },
  {
   "cell_type": "markdown",
   "metadata": {
    "collapsed": true,
    "deletable": true,
    "editable": true
   },
   "source": [
    "## Comparison of language models:"
   ]
  },
  {
   "cell_type": "code",
   "execution_count": 45,
   "metadata": {
    "collapsed": false
   },
   "outputs": [
    {
     "name": "stdout",
     "output_type": "stream",
     "text": [
      "Searching for queries # [45 44  6] ...\n",
      "Found all queries\n"
     ]
    },
    {
     "ename": "TypeError",
     "evalue": "'generator' object is not a mapping",
     "output_type": "error",
     "traceback": [
      "\u001b[0;31m---------------------------------------------------------------------------\u001b[0m",
      "\u001b[0;31mTypeError\u001b[0m                                 Traceback (most recent call last)",
      "\u001b[0;32m<ipython-input-45-9f36295ed410>\u001b[0m in \u001b[0;36m<module>\u001b[0;34m()\u001b[0m\n\u001b[1;32m     26\u001b[0m     \u001b[0;32mreturn\u001b[0m \u001b[0maux\u001b[0m\u001b[0;34m(\u001b[0m\u001b[0mdic\u001b[0m\u001b[0;34m,\u001b[0m \u001b[0mdic\u001b[0m\u001b[0;34m.\u001b[0m\u001b[0mkeys\u001b[0m\u001b[0;34m(\u001b[0m\u001b[0;34m)\u001b[0m\u001b[0;34m)\u001b[0m\u001b[0;34m\u001b[0m\u001b[0m\n\u001b[1;32m     27\u001b[0m \u001b[0;34m\u001b[0m\u001b[0m\n\u001b[0;32m---> 28\u001b[0;31m \u001b[0;32mfor\u001b[0m \u001b[0mcomb\u001b[0m \u001b[0;32min\u001b[0m \u001b[0mdict_combinations\u001b[0m\u001b[0;34m(\u001b[0m\u001b[0;34m{\u001b[0m\u001b[0;34m'a'\u001b[0m\u001b[0;34m:\u001b[0m \u001b[0;34m(\u001b[0m\u001b[0;36m1\u001b[0m\u001b[0;34m,\u001b[0m \u001b[0;36m2\u001b[0m\u001b[0;34m)\u001b[0m\u001b[0;34m,\u001b[0m \u001b[0;34m'b'\u001b[0m\u001b[0;34m:\u001b[0m \u001b[0;34m(\u001b[0m\u001b[0;36m2\u001b[0m\u001b[0;34m,\u001b[0m \u001b[0;36m3\u001b[0m\u001b[0;34m)\u001b[0m\u001b[0;34m}\u001b[0m\u001b[0;34m)\u001b[0m\u001b[0;34m:\u001b[0m\u001b[0;34m\u001b[0m\u001b[0m\n\u001b[0m\u001b[1;32m     29\u001b[0m     \u001b[0mprint\u001b[0m\u001b[0;34m(\u001b[0m\u001b[0mcomb\u001b[0m\u001b[0;34m)\u001b[0m\u001b[0;34m\u001b[0m\u001b[0m\n\u001b[1;32m     30\u001b[0m \u001b[0;34m\u001b[0m\u001b[0m\n",
      "\u001b[0;32m<ipython-input-45-9f36295ed410>\u001b[0m in \u001b[0;36maux\u001b[0;34m(src_dic, keys)\u001b[0m\n\u001b[1;32m     21\u001b[0m             \u001b[0mhead\u001b[0m\u001b[0;34m,\u001b[0m \u001b[0;34m*\u001b[0m\u001b[0mtail\u001b[0m \u001b[0;34m=\u001b[0m \u001b[0mkeys\u001b[0m\u001b[0;34m\u001b[0m\u001b[0m\n\u001b[1;32m     22\u001b[0m             \u001b[0;32mfor\u001b[0m \u001b[0mkey_value\u001b[0m \u001b[0;32min\u001b[0m \u001b[0msrc_dic\u001b[0m\u001b[0;34m[\u001b[0m\u001b[0mhead\u001b[0m\u001b[0;34m]\u001b[0m\u001b[0;34m:\u001b[0m\u001b[0;34m\u001b[0m\u001b[0m\n\u001b[0;32m---> 23\u001b[0;31m                 \u001b[0;32myield\u001b[0m \u001b[0;32mfrom\u001b[0m \u001b[0;34m(\u001b[0m\u001b[0;34m{\u001b[0m\u001b[0mhead\u001b[0m\u001b[0;34m:\u001b[0m\u001b[0mkey_value\u001b[0m\u001b[0;34m,\u001b[0m \u001b[0;34m**\u001b[0m\u001b[0maux\u001b[0m\u001b[0;34m(\u001b[0m\u001b[0msrc_dic\u001b[0m\u001b[0;34m,\u001b[0m \u001b[0mtail\u001b[0m\u001b[0;34m)\u001b[0m\u001b[0;34m}\u001b[0m\u001b[0;34m)\u001b[0m\u001b[0;34m\u001b[0m\u001b[0m\n\u001b[0m\u001b[1;32m     24\u001b[0m         \u001b[0;32melse\u001b[0m\u001b[0;34m:\u001b[0m\u001b[0;34m\u001b[0m\u001b[0m\n\u001b[1;32m     25\u001b[0m             \u001b[0;32myield\u001b[0m \u001b[0mdict\u001b[0m\u001b[0;34m(\u001b[0m\u001b[0;34m)\u001b[0m\u001b[0;34m\u001b[0m\u001b[0m\n",
      "\u001b[0;31mTypeError\u001b[0m: 'generator' object is not a mapping"
     ]
    }
   ],
   "source": [
    "from sklearn.model_selection import train_test_split\n",
    "\n",
    "# Searching queries:\n",
    "queries = []\n",
    "qp = QueryParserCACM(cacm_qry, cacm_rel)\n",
    "query = qp.nextQuery()\n",
    "print(\"Searching for queries #\",queryChosen, \"...\")\n",
    "while query is not None :\n",
    "    if int(query.getID()) in queryChosen:\n",
    "        queries.append(query)\n",
    "    query = qp.nextQuery()\n",
    "print(\"Found all queries\")\n",
    "\n",
    "q_test, q_train = train_test_split(queries)\n",
    "\n",
    "# Train models, find best parameters.\n",
    "\n",
    "def dict_combinations(dic):\n",
    "    keys = dic.keys()\n",
    "    values = (dic[key] for key in keys)\n",
    "    combinations = [dict(zip(keys, combination)) for combination in itertools.product(*values)]\n",
    "    return combinations\n",
    "\n",
    "def gridsearch(model_class, param_grid, queries, measure_class):\n",
    "    \"\"\"\n",
    "    :param model_class: modeles.Vectoriel for instance (the class, not an instance)\n",
    "    :param param_grid: dict of {string:iterable}\n",
    "    :param queries: list of Query objects\n",
    "    :param measure_class: evaluation.AveragePrecision for instance\n",
    "    \"\"\"\n",
    "    params = []\n",
    "    irmodels = {}\n",
    "\n",
    "\n"
   ]
  }
 ],
 "metadata": {
  "kernelspec": {
   "display_name": "Python 3",
   "language": "python",
   "name": "python3"
  },
  "language_info": {
   "codemirror_mode": {
    "name": "ipython",
    "version": 3
   },
   "file_extension": ".py",
   "mimetype": "text/x-python",
   "name": "python",
   "nbconvert_exporter": "python",
   "pygments_lexer": "ipython3",
   "version": "3.5.2"
  }
 },
 "nbformat": 4,
 "nbformat_minor": 2
}
